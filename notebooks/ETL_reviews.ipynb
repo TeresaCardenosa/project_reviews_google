{
 "cells": [
  {
   "cell_type": "code",
   "execution_count": 1,
   "id": "43df1a5a",
   "metadata": {},
   "outputs": [],
   "source": [
    "# pip install openpyxl"
   ]
  },
  {
   "cell_type": "code",
   "execution_count": 2,
   "id": "3876c88c",
   "metadata": {},
   "outputs": [],
   "source": [
    "import pandas as pd\n",
    "import numpy as np "
   ]
  },
  {
   "cell_type": "code",
   "execution_count": 3,
   "id": "ec2866f9",
   "metadata": {},
   "outputs": [],
   "source": [
    "reviews2023 = pd.read_excel('../our_reviews/Reviews_2023.xlsx', sheet_name=1, header=1)"
   ]
  },
  {
   "cell_type": "markdown",
   "id": "39af1c8b",
   "metadata": {},
   "source": [
    "# EDA"
   ]
  },
  {
   "cell_type": "code",
   "execution_count": 4,
   "id": "e063ae80",
   "metadata": {},
   "outputs": [
    {
     "data": {
      "text/html": [
       "<div>\n",
       "<style scoped>\n",
       "    .dataframe tbody tr th:only-of-type {\n",
       "        vertical-align: middle;\n",
       "    }\n",
       "\n",
       "    .dataframe tbody tr th {\n",
       "        vertical-align: top;\n",
       "    }\n",
       "\n",
       "    .dataframe thead th {\n",
       "        text-align: right;\n",
       "    }\n",
       "</style>\n",
       "<table border=\"1\" class=\"dataframe\">\n",
       "  <thead>\n",
       "    <tr style=\"text-align: right;\">\n",
       "      <th></th>\n",
       "      <th>Fecha de creación</th>\n",
       "      <th>Fecha de modificación</th>\n",
       "      <th>Business Id</th>\n",
       "      <th>Nombre del establecimiento</th>\n",
       "      <th>groups</th>\n",
       "      <th>Código del establecimiento</th>\n",
       "      <th>Dirección</th>\n",
       "      <th>Ciudad</th>\n",
       "      <th>Código postal</th>\n",
       "      <th>Plataforma</th>\n",
       "      <th>...</th>\n",
       "      <th>Modelo utilizado</th>\n",
       "      <th>Recomendado</th>\n",
       "      <th>Fecha de la respuesta.1</th>\n",
       "      <th>Respuesta.1</th>\n",
       "      <th>Modelo utilizado.1</th>\n",
       "      <th>Número de comentarios</th>\n",
       "      <th>rating.1</th>\n",
       "      <th>Fecha de la respuesta.2</th>\n",
       "      <th>Respuesta.2</th>\n",
       "      <th>tags</th>\n",
       "    </tr>\n",
       "  </thead>\n",
       "  <tbody>\n",
       "    <tr>\n",
       "      <th>0</th>\n",
       "      <td>2023-03-03 10:23:17.895</td>\n",
       "      <td>NaT</td>\n",
       "      <td>60c36a600cdc2e2bf4c8593b</td>\n",
       "      <td>Hospital Universitari Sagrat Cor</td>\n",
       "      <td>Cataluña, Hospi</td>\n",
       "      <td>HUSCCAT</td>\n",
       "      <td>Carrer De Viladomat, 288</td>\n",
       "      <td>Barcelona</td>\n",
       "      <td>08029</td>\n",
       "      <td>GOOGLE_MY_BUSINESS</td>\n",
       "      <td>...</td>\n",
       "      <td>NaN</td>\n",
       "      <td>NaN</td>\n",
       "      <td>NaN</td>\n",
       "      <td>NaN</td>\n",
       "      <td>NaN</td>\n",
       "      <td>NaN</td>\n",
       "      <td>NaN</td>\n",
       "      <td>NaN</td>\n",
       "      <td>NaN</td>\n",
       "      <td>+ At. recibida</td>\n",
       "    </tr>\n",
       "    <tr>\n",
       "      <th>1</th>\n",
       "      <td>2023-03-02 18:40:07.989</td>\n",
       "      <td>NaT</td>\n",
       "      <td>60c36a600cdc2e2bf4c8593b</td>\n",
       "      <td>Hospital Universitari Sagrat Cor</td>\n",
       "      <td>Cataluña, Hospi</td>\n",
       "      <td>HUSCCAT</td>\n",
       "      <td>Carrer De Viladomat, 288</td>\n",
       "      <td>Barcelona</td>\n",
       "      <td>08029</td>\n",
       "      <td>GOOGLE_MY_BUSINESS</td>\n",
       "      <td>...</td>\n",
       "      <td>NaN</td>\n",
       "      <td>NaN</td>\n",
       "      <td>NaN</td>\n",
       "      <td>NaN</td>\n",
       "      <td>NaN</td>\n",
       "      <td>NaN</td>\n",
       "      <td>NaN</td>\n",
       "      <td>NaN</td>\n",
       "      <td>NaN</td>\n",
       "      <td>+ At. recibida</td>\n",
       "    </tr>\n",
       "    <tr>\n",
       "      <th>2</th>\n",
       "      <td>2023-03-02 12:08:30.997</td>\n",
       "      <td>NaT</td>\n",
       "      <td>60c36a600cdc2e2bf4c8593b</td>\n",
       "      <td>Hospital Universitari Sagrat Cor</td>\n",
       "      <td>Cataluña, Hospi</td>\n",
       "      <td>HUSCCAT</td>\n",
       "      <td>Carrer De Viladomat, 288</td>\n",
       "      <td>Barcelona</td>\n",
       "      <td>08029</td>\n",
       "      <td>GOOGLE_MY_BUSINESS</td>\n",
       "      <td>...</td>\n",
       "      <td>NaN</td>\n",
       "      <td>NaN</td>\n",
       "      <td>NaN</td>\n",
       "      <td>NaN</td>\n",
       "      <td>NaN</td>\n",
       "      <td>NaN</td>\n",
       "      <td>NaN</td>\n",
       "      <td>NaN</td>\n",
       "      <td>NaN</td>\n",
       "      <td>- Disconf. tto.</td>\n",
       "    </tr>\n",
       "    <tr>\n",
       "      <th>3</th>\n",
       "      <td>2023-03-02 07:50:16.166</td>\n",
       "      <td>NaT</td>\n",
       "      <td>60c36a600cdc2e2bf4c8593b</td>\n",
       "      <td>Hospital Universitari Sagrat Cor</td>\n",
       "      <td>Cataluña, Hospi</td>\n",
       "      <td>HUSCCAT</td>\n",
       "      <td>Carrer De Viladomat, 288</td>\n",
       "      <td>Barcelona</td>\n",
       "      <td>08029</td>\n",
       "      <td>GOOGLE_MY_BUSINESS</td>\n",
       "      <td>...</td>\n",
       "      <td>NaN</td>\n",
       "      <td>NaN</td>\n",
       "      <td>NaN</td>\n",
       "      <td>NaN</td>\n",
       "      <td>NaN</td>\n",
       "      <td>NaN</td>\n",
       "      <td>NaN</td>\n",
       "      <td>NaN</td>\n",
       "      <td>NaN</td>\n",
       "      <td>+ Sin comentario</td>\n",
       "    </tr>\n",
       "    <tr>\n",
       "      <th>4</th>\n",
       "      <td>2023-03-01 21:01:09.882</td>\n",
       "      <td>NaT</td>\n",
       "      <td>60c36a600cdc2e2bf4c8593b</td>\n",
       "      <td>Hospital Universitari Sagrat Cor</td>\n",
       "      <td>Cataluña, Hospi</td>\n",
       "      <td>HUSCCAT</td>\n",
       "      <td>Carrer De Viladomat, 288</td>\n",
       "      <td>Barcelona</td>\n",
       "      <td>08029</td>\n",
       "      <td>GOOGLE_MY_BUSINESS</td>\n",
       "      <td>...</td>\n",
       "      <td>NaN</td>\n",
       "      <td>NaN</td>\n",
       "      <td>NaN</td>\n",
       "      <td>NaN</td>\n",
       "      <td>NaN</td>\n",
       "      <td>NaN</td>\n",
       "      <td>NaN</td>\n",
       "      <td>NaN</td>\n",
       "      <td>NaN</td>\n",
       "      <td>+ At. recibida</td>\n",
       "    </tr>\n",
       "  </tbody>\n",
       "</table>\n",
       "<p>5 rows × 27 columns</p>\n",
       "</div>"
      ],
      "text/plain": [
       "        Fecha de creación Fecha de modificación               Business Id  \\\n",
       "0 2023-03-03 10:23:17.895                   NaT  60c36a600cdc2e2bf4c8593b   \n",
       "1 2023-03-02 18:40:07.989                   NaT  60c36a600cdc2e2bf4c8593b   \n",
       "2 2023-03-02 12:08:30.997                   NaT  60c36a600cdc2e2bf4c8593b   \n",
       "3 2023-03-02 07:50:16.166                   NaT  60c36a600cdc2e2bf4c8593b   \n",
       "4 2023-03-01 21:01:09.882                   NaT  60c36a600cdc2e2bf4c8593b   \n",
       "\n",
       "         Nombre del establecimiento           groups  \\\n",
       "0  Hospital Universitari Sagrat Cor  Cataluña, Hospi   \n",
       "1  Hospital Universitari Sagrat Cor  Cataluña, Hospi   \n",
       "2  Hospital Universitari Sagrat Cor  Cataluña, Hospi   \n",
       "3  Hospital Universitari Sagrat Cor  Cataluña, Hospi   \n",
       "4  Hospital Universitari Sagrat Cor  Cataluña, Hospi   \n",
       "\n",
       "  Código del establecimiento                 Dirección     Ciudad  \\\n",
       "0                    HUSCCAT  Carrer De Viladomat, 288  Barcelona   \n",
       "1                    HUSCCAT  Carrer De Viladomat, 288  Barcelona   \n",
       "2                    HUSCCAT  Carrer De Viladomat, 288  Barcelona   \n",
       "3                    HUSCCAT  Carrer De Viladomat, 288  Barcelona   \n",
       "4                    HUSCCAT  Carrer De Viladomat, 288  Barcelona   \n",
       "\n",
       "  Código postal          Plataforma  ... Modelo utilizado Recomendado  \\\n",
       "0         08029  GOOGLE_MY_BUSINESS  ...              NaN         NaN   \n",
       "1         08029  GOOGLE_MY_BUSINESS  ...              NaN         NaN   \n",
       "2         08029  GOOGLE_MY_BUSINESS  ...              NaN         NaN   \n",
       "3         08029  GOOGLE_MY_BUSINESS  ...              NaN         NaN   \n",
       "4         08029  GOOGLE_MY_BUSINESS  ...              NaN         NaN   \n",
       "\n",
       "  Fecha de la respuesta.1 Respuesta.1  Modelo utilizado.1  \\\n",
       "0                     NaN         NaN                 NaN   \n",
       "1                     NaN         NaN                 NaN   \n",
       "2                     NaN         NaN                 NaN   \n",
       "3                     NaN         NaN                 NaN   \n",
       "4                     NaN         NaN                 NaN   \n",
       "\n",
       "  Número de comentarios rating.1 Fecha de la respuesta.2  Respuesta.2  \\\n",
       "0                   NaN      NaN                     NaN          NaN   \n",
       "1                   NaN      NaN                     NaN          NaN   \n",
       "2                   NaN      NaN                     NaN          NaN   \n",
       "3                   NaN      NaN                     NaN          NaN   \n",
       "4                   NaN      NaN                     NaN          NaN   \n",
       "\n",
       "               tags  \n",
       "0    + At. recibida  \n",
       "1    + At. recibida  \n",
       "2   - Disconf. tto.  \n",
       "3  + Sin comentario  \n",
       "4    + At. recibida  \n",
       "\n",
       "[5 rows x 27 columns]"
      ]
     },
     "execution_count": 4,
     "metadata": {},
     "output_type": "execute_result"
    }
   ],
   "source": [
    "reviews2023.head()"
   ]
  },
  {
   "cell_type": "code",
   "execution_count": 5,
   "id": "a2a3b648",
   "metadata": {},
   "outputs": [
    {
     "name": "stdout",
     "output_type": "stream",
     "text": [
      "<class 'pandas.core.frame.DataFrame'>\n",
      "RangeIndex: 23424 entries, 0 to 23423\n",
      "Data columns (total 27 columns):\n",
      " #   Column                      Non-Null Count  Dtype         \n",
      "---  ------                      --------------  -----         \n",
      " 0   Fecha de creación           23424 non-null  datetime64[ns]\n",
      " 1   Fecha de modificación       3885 non-null   datetime64[ns]\n",
      " 2   Business Id                 23424 non-null  object        \n",
      " 3   Nombre del establecimiento  23424 non-null  object        \n",
      " 4   groups                      23424 non-null  object        \n",
      " 5   Código del establecimiento  23424 non-null  object        \n",
      " 6   Dirección                   23424 non-null  object        \n",
      " 7   Ciudad                      23424 non-null  object        \n",
      " 8   Código postal               23424 non-null  object        \n",
      " 9   Plataforma                  23424 non-null  object        \n",
      " 10  content                     18035 non-null  object        \n",
      " 11  author                      23424 non-null  object        \n",
      " 12  Eliminado                   23424 non-null  object        \n",
      " 13  Zona horaria                23424 non-null  object        \n",
      " 14  rating                      23424 non-null  int64         \n",
      " 15  Fecha de la respuesta       23324 non-null  datetime64[ns]\n",
      " 16  Respuesta                   23324 non-null  object        \n",
      " 17  Modelo utilizado            3174 non-null   object        \n",
      " 18  Recomendado                 0 non-null      float64       \n",
      " 19  Fecha de la respuesta.1     0 non-null      float64       \n",
      " 20  Respuesta.1                 0 non-null      float64       \n",
      " 21  Modelo utilizado.1          0 non-null      float64       \n",
      " 22  Número de comentarios       0 non-null      float64       \n",
      " 23  rating.1                    0 non-null      float64       \n",
      " 24  Fecha de la respuesta.2     0 non-null      float64       \n",
      " 25  Respuesta.2                 0 non-null      float64       \n",
      " 26  tags                        22858 non-null  object        \n",
      "dtypes: datetime64[ns](3), float64(8), int64(1), object(15)\n",
      "memory usage: 4.8+ MB\n"
     ]
    }
   ],
   "source": [
    "reviews2023.info()"
   ]
  },
  {
   "cell_type": "code",
   "execution_count": 6,
   "id": "16627302",
   "metadata": {},
   "outputs": [
    {
     "data": {
      "text/plain": [
       "Index(['Fecha de creación', 'Fecha de modificación', 'Business Id',\n",
       "       'Nombre del establecimiento', 'groups', 'Código del establecimiento',\n",
       "       'Dirección', 'Ciudad', 'Código postal', 'Plataforma', 'content',\n",
       "       'author', 'Eliminado', 'Zona horaria', 'rating',\n",
       "       'Fecha de la respuesta', 'Respuesta', 'Modelo utilizado', 'Recomendado',\n",
       "       'Fecha de la respuesta.1', 'Respuesta.1', 'Modelo utilizado.1',\n",
       "       'Número de comentarios', 'rating.1', 'Fecha de la respuesta.2',\n",
       "       'Respuesta.2', 'tags'],\n",
       "      dtype='object')"
      ]
     },
     "execution_count": 6,
     "metadata": {},
     "output_type": "execute_result"
    }
   ],
   "source": [
    "reviews2023.columns"
   ]
  },
  {
   "cell_type": "code",
   "execution_count": 7,
   "id": "4987e342",
   "metadata": {},
   "outputs": [
    {
     "data": {
      "text/plain": [
       "No    23424\n",
       "Name: Eliminado, dtype: int64"
      ]
     },
     "execution_count": 7,
     "metadata": {},
     "output_type": "execute_result"
    }
   ],
   "source": [
    "reviews2023['Eliminado'].value_counts()   # Reviso que no haya ninguna reseña Eliminada"
   ]
  },
  {
   "cell_type": "markdown",
   "id": "07f2ee20",
   "metadata": {},
   "source": [
    "Eliminaremos las columnas que no nos aporten valor: \n",
    "- Business Id\n",
    "- Código del establecimiento \n",
    "- Plataforma \n",
    "- Author \n",
    "- Eliminado\n",
    "- Zona horaria\n",
    "- Fecha de la respuesta\n",
    "- Respuesta\n",
    "- Modelo utilizado\n",
    "- Recomendado\n",
    "- Fecha de la respuesta.1\n",
    "- Respuesta.1\n",
    "- Modelo utilizado.1\n",
    "- Número de comentarios\n",
    "- rating.1\n",
    "- Fecha de la respuesta.2\n",
    "- Respuesta.2 "
   ]
  },
  {
   "cell_type": "code",
   "execution_count": 8,
   "id": "065624ad",
   "metadata": {},
   "outputs": [],
   "source": [
    "drop_cols = ['Business Id',\n",
    "             'Código del establecimiento',\n",
    "             'Plataforma',\n",
    "             'author', \n",
    "             'Eliminado', \n",
    "             'Zona horaria', \n",
    "             'Fecha de la respuesta', \n",
    "             'Respuesta', \n",
    "             'Modelo utilizado', \n",
    "             'Recomendado',\n",
    "             'Fecha de la respuesta.1', \n",
    "             'Respuesta.1', \n",
    "             'Modelo utilizado.1',\n",
    "             'Número de comentarios', \n",
    "             'rating.1', \n",
    "             'Fecha de la respuesta.2',\n",
    "             'Respuesta.2']"
   ]
  },
  {
   "cell_type": "code",
   "execution_count": 9,
   "id": "00d2d45b",
   "metadata": {},
   "outputs": [],
   "source": [
    "reviews2023.drop(drop_cols, axis=1, inplace=True)    # Elimino las columnas que no me sirven de inicio"
   ]
  },
  {
   "cell_type": "code",
   "execution_count": 10,
   "id": "881b81a2",
   "metadata": {},
   "outputs": [
    {
     "name": "stdout",
     "output_type": "stream",
     "text": [
      "<class 'pandas.core.frame.DataFrame'>\n",
      "RangeIndex: 23424 entries, 0 to 23423\n",
      "Data columns (total 10 columns):\n",
      " #   Column                      Non-Null Count  Dtype         \n",
      "---  ------                      --------------  -----         \n",
      " 0   Fecha de creación           23424 non-null  datetime64[ns]\n",
      " 1   Fecha de modificación       3885 non-null   datetime64[ns]\n",
      " 2   Nombre del establecimiento  23424 non-null  object        \n",
      " 3   groups                      23424 non-null  object        \n",
      " 4   Dirección                   23424 non-null  object        \n",
      " 5   Ciudad                      23424 non-null  object        \n",
      " 6   Código postal               23424 non-null  object        \n",
      " 7   content                     18035 non-null  object        \n",
      " 8   rating                      23424 non-null  int64         \n",
      " 9   tags                        22858 non-null  object        \n",
      "dtypes: datetime64[ns](2), int64(1), object(7)\n",
      "memory usage: 1.8+ MB\n"
     ]
    }
   ],
   "source": [
    "reviews2023.info()"
   ]
  },
  {
   "cell_type": "markdown",
   "id": "68e878fa",
   "metadata": {},
   "source": [
    "Transformaremos las siguientes columnas: \n",
    "- Fecha de creación y Fecha de modificación >> Fecha\n",
    "- En la columna 'tags' tenemos algunos valorse nulos >> Revisar cuando la columna de rating sea 3 para añadir el valor 'Neutro' en tag"
   ]
  },
  {
   "cell_type": "markdown",
   "id": "384199bf",
   "metadata": {},
   "source": [
    "## Transformación: crear la columa 'Fecha', la cual será la 'Fecha de creación' de la reseña salvo que haya una modificación, que entonces cogerá el valor de 'Fecha de modificación'"
   ]
  },
  {
   "cell_type": "code",
   "execution_count": 11,
   "id": "3a8f7b8d",
   "metadata": {},
   "outputs": [
    {
     "data": {
      "text/plain": [
       "2023-06-09 22:03:12.581    2\n",
       "2023-06-13 22:00:11.224    2\n",
       "2023-07-20 23:06:25.513    2\n",
       "2023-02-28 22:34:16.078    1\n",
       "2023-03-09 07:59:07.436    1\n",
       "                          ..\n",
       "2023-06-15 22:39:50.081    1\n",
       "2023-06-13 19:21:39.356    1\n",
       "2023-06-13 09:29:43.277    1\n",
       "2023-06-11 09:49:35.751    1\n",
       "2023-04-13 11:06:16.935    1\n",
       "Name: Fecha de modificación, Length: 3882, dtype: int64"
      ]
     },
     "execution_count": 11,
     "metadata": {},
     "output_type": "execute_result"
    }
   ],
   "source": [
    "reviews2023['Fecha de modificación'].value_counts()"
   ]
  },
  {
   "cell_type": "code",
   "execution_count": 12,
   "id": "c3e51fed",
   "metadata": {},
   "outputs": [
    {
     "data": {
      "text/html": [
       "<div>\n",
       "<style scoped>\n",
       "    .dataframe tbody tr th:only-of-type {\n",
       "        vertical-align: middle;\n",
       "    }\n",
       "\n",
       "    .dataframe tbody tr th {\n",
       "        vertical-align: top;\n",
       "    }\n",
       "\n",
       "    .dataframe thead th {\n",
       "        text-align: right;\n",
       "    }\n",
       "</style>\n",
       "<table border=\"1\" class=\"dataframe\">\n",
       "  <thead>\n",
       "    <tr style=\"text-align: right;\">\n",
       "      <th></th>\n",
       "      <th>Fecha de creación</th>\n",
       "      <th>Fecha de modificación</th>\n",
       "      <th>Nombre del establecimiento</th>\n",
       "      <th>groups</th>\n",
       "      <th>Dirección</th>\n",
       "      <th>Ciudad</th>\n",
       "      <th>Código postal</th>\n",
       "      <th>content</th>\n",
       "      <th>rating</th>\n",
       "      <th>tags</th>\n",
       "    </tr>\n",
       "  </thead>\n",
       "  <tbody>\n",
       "    <tr>\n",
       "      <th>0</th>\n",
       "      <td>2023-03-03 10:23:17.895</td>\n",
       "      <td>NaT</td>\n",
       "      <td>Hospital Universitari Sagrat Cor</td>\n",
       "      <td>Cataluña, Hospi</td>\n",
       "      <td>Carrer De Viladomat, 288</td>\n",
       "      <td>Barcelona</td>\n",
       "      <td>08029</td>\n",
       "      <td>Asistí hace días al hospital, y no pude recibi...</td>\n",
       "      <td>5</td>\n",
       "      <td>+ At. recibida</td>\n",
       "    </tr>\n",
       "    <tr>\n",
       "      <th>1</th>\n",
       "      <td>2023-03-02 18:40:07.989</td>\n",
       "      <td>NaT</td>\n",
       "      <td>Hospital Universitari Sagrat Cor</td>\n",
       "      <td>Cataluña, Hospi</td>\n",
       "      <td>Carrer De Viladomat, 288</td>\n",
       "      <td>Barcelona</td>\n",
       "      <td>08029</td>\n",
       "      <td>Mi experiencia de la cirugía que me han hecho ...</td>\n",
       "      <td>5</td>\n",
       "      <td>+ At. recibida</td>\n",
       "    </tr>\n",
       "    <tr>\n",
       "      <th>2</th>\n",
       "      <td>2023-03-02 12:08:30.997</td>\n",
       "      <td>NaT</td>\n",
       "      <td>Hospital Universitari Sagrat Cor</td>\n",
       "      <td>Cataluña, Hospi</td>\n",
       "      <td>Carrer De Viladomat, 288</td>\n",
       "      <td>Barcelona</td>\n",
       "      <td>08029</td>\n",
       "      <td>La atención del 70% de auxiliares, enfermeras ...</td>\n",
       "      <td>1</td>\n",
       "      <td>- Disconf. tto.</td>\n",
       "    </tr>\n",
       "    <tr>\n",
       "      <th>3</th>\n",
       "      <td>2023-03-02 07:50:16.166</td>\n",
       "      <td>NaT</td>\n",
       "      <td>Hospital Universitari Sagrat Cor</td>\n",
       "      <td>Cataluña, Hospi</td>\n",
       "      <td>Carrer De Viladomat, 288</td>\n",
       "      <td>Barcelona</td>\n",
       "      <td>08029</td>\n",
       "      <td>NaN</td>\n",
       "      <td>5</td>\n",
       "      <td>+ Sin comentario</td>\n",
       "    </tr>\n",
       "    <tr>\n",
       "      <th>4</th>\n",
       "      <td>2023-03-01 21:01:09.882</td>\n",
       "      <td>NaT</td>\n",
       "      <td>Hospital Universitari Sagrat Cor</td>\n",
       "      <td>Cataluña, Hospi</td>\n",
       "      <td>Carrer De Viladomat, 288</td>\n",
       "      <td>Barcelona</td>\n",
       "      <td>08029</td>\n",
       "      <td>Gran hospital todo súper limpio , trato excepc...</td>\n",
       "      <td>5</td>\n",
       "      <td>+ At. recibida</td>\n",
       "    </tr>\n",
       "  </tbody>\n",
       "</table>\n",
       "</div>"
      ],
      "text/plain": [
       "        Fecha de creación Fecha de modificación  \\\n",
       "0 2023-03-03 10:23:17.895                   NaT   \n",
       "1 2023-03-02 18:40:07.989                   NaT   \n",
       "2 2023-03-02 12:08:30.997                   NaT   \n",
       "3 2023-03-02 07:50:16.166                   NaT   \n",
       "4 2023-03-01 21:01:09.882                   NaT   \n",
       "\n",
       "         Nombre del establecimiento           groups  \\\n",
       "0  Hospital Universitari Sagrat Cor  Cataluña, Hospi   \n",
       "1  Hospital Universitari Sagrat Cor  Cataluña, Hospi   \n",
       "2  Hospital Universitari Sagrat Cor  Cataluña, Hospi   \n",
       "3  Hospital Universitari Sagrat Cor  Cataluña, Hospi   \n",
       "4  Hospital Universitari Sagrat Cor  Cataluña, Hospi   \n",
       "\n",
       "                  Dirección     Ciudad Código postal  \\\n",
       "0  Carrer De Viladomat, 288  Barcelona         08029   \n",
       "1  Carrer De Viladomat, 288  Barcelona         08029   \n",
       "2  Carrer De Viladomat, 288  Barcelona         08029   \n",
       "3  Carrer De Viladomat, 288  Barcelona         08029   \n",
       "4  Carrer De Viladomat, 288  Barcelona         08029   \n",
       "\n",
       "                                             content  rating              tags  \n",
       "0  Asistí hace días al hospital, y no pude recibi...       5    + At. recibida  \n",
       "1  Mi experiencia de la cirugía que me han hecho ...       5    + At. recibida  \n",
       "2  La atención del 70% de auxiliares, enfermeras ...       1   - Disconf. tto.  \n",
       "3                                                NaN       5  + Sin comentario  \n",
       "4  Gran hospital todo súper limpio , trato excepc...       5    + At. recibida  "
      ]
     },
     "execution_count": 12,
     "metadata": {},
     "output_type": "execute_result"
    }
   ],
   "source": [
    "reviews2023.head()"
   ]
  },
  {
   "cell_type": "code",
   "execution_count": 13,
   "id": "b9a0189d",
   "metadata": {},
   "outputs": [],
   "source": [
    "reviews2023['Fecha de modificación'].fillna(reviews2023['Fecha de creación'], inplace=True)   \n",
    "# Reemplazo los valores nulos de 'Fecha de modificación' con los valores de 'Fecha de creación'"
   ]
  },
  {
   "cell_type": "code",
   "execution_count": 14,
   "id": "6d5c4620",
   "metadata": {},
   "outputs": [
    {
     "data": {
      "text/html": [
       "<div>\n",
       "<style scoped>\n",
       "    .dataframe tbody tr th:only-of-type {\n",
       "        vertical-align: middle;\n",
       "    }\n",
       "\n",
       "    .dataframe tbody tr th {\n",
       "        vertical-align: top;\n",
       "    }\n",
       "\n",
       "    .dataframe thead th {\n",
       "        text-align: right;\n",
       "    }\n",
       "</style>\n",
       "<table border=\"1\" class=\"dataframe\">\n",
       "  <thead>\n",
       "    <tr style=\"text-align: right;\">\n",
       "      <th></th>\n",
       "      <th>Fecha de creación</th>\n",
       "      <th>Fecha de modificación</th>\n",
       "      <th>Nombre del establecimiento</th>\n",
       "      <th>groups</th>\n",
       "      <th>Dirección</th>\n",
       "      <th>Ciudad</th>\n",
       "      <th>Código postal</th>\n",
       "      <th>content</th>\n",
       "      <th>rating</th>\n",
       "      <th>tags</th>\n",
       "    </tr>\n",
       "  </thead>\n",
       "  <tbody>\n",
       "    <tr>\n",
       "      <th>0</th>\n",
       "      <td>2023-03-03 10:23:17.895</td>\n",
       "      <td>2023-03-03 10:23:17.895</td>\n",
       "      <td>Hospital Universitari Sagrat Cor</td>\n",
       "      <td>Cataluña, Hospi</td>\n",
       "      <td>Carrer De Viladomat, 288</td>\n",
       "      <td>Barcelona</td>\n",
       "      <td>08029</td>\n",
       "      <td>Asistí hace días al hospital, y no pude recibi...</td>\n",
       "      <td>5</td>\n",
       "      <td>+ At. recibida</td>\n",
       "    </tr>\n",
       "    <tr>\n",
       "      <th>1</th>\n",
       "      <td>2023-03-02 18:40:07.989</td>\n",
       "      <td>2023-03-02 18:40:07.989</td>\n",
       "      <td>Hospital Universitari Sagrat Cor</td>\n",
       "      <td>Cataluña, Hospi</td>\n",
       "      <td>Carrer De Viladomat, 288</td>\n",
       "      <td>Barcelona</td>\n",
       "      <td>08029</td>\n",
       "      <td>Mi experiencia de la cirugía que me han hecho ...</td>\n",
       "      <td>5</td>\n",
       "      <td>+ At. recibida</td>\n",
       "    </tr>\n",
       "    <tr>\n",
       "      <th>2</th>\n",
       "      <td>2023-03-02 12:08:30.997</td>\n",
       "      <td>2023-03-02 12:08:30.997</td>\n",
       "      <td>Hospital Universitari Sagrat Cor</td>\n",
       "      <td>Cataluña, Hospi</td>\n",
       "      <td>Carrer De Viladomat, 288</td>\n",
       "      <td>Barcelona</td>\n",
       "      <td>08029</td>\n",
       "      <td>La atención del 70% de auxiliares, enfermeras ...</td>\n",
       "      <td>1</td>\n",
       "      <td>- Disconf. tto.</td>\n",
       "    </tr>\n",
       "    <tr>\n",
       "      <th>3</th>\n",
       "      <td>2023-03-02 07:50:16.166</td>\n",
       "      <td>2023-03-02 07:50:16.166</td>\n",
       "      <td>Hospital Universitari Sagrat Cor</td>\n",
       "      <td>Cataluña, Hospi</td>\n",
       "      <td>Carrer De Viladomat, 288</td>\n",
       "      <td>Barcelona</td>\n",
       "      <td>08029</td>\n",
       "      <td>NaN</td>\n",
       "      <td>5</td>\n",
       "      <td>+ Sin comentario</td>\n",
       "    </tr>\n",
       "    <tr>\n",
       "      <th>4</th>\n",
       "      <td>2023-03-01 21:01:09.882</td>\n",
       "      <td>2023-03-01 21:01:09.882</td>\n",
       "      <td>Hospital Universitari Sagrat Cor</td>\n",
       "      <td>Cataluña, Hospi</td>\n",
       "      <td>Carrer De Viladomat, 288</td>\n",
       "      <td>Barcelona</td>\n",
       "      <td>08029</td>\n",
       "      <td>Gran hospital todo súper limpio , trato excepc...</td>\n",
       "      <td>5</td>\n",
       "      <td>+ At. recibida</td>\n",
       "    </tr>\n",
       "  </tbody>\n",
       "</table>\n",
       "</div>"
      ],
      "text/plain": [
       "        Fecha de creación   Fecha de modificación  \\\n",
       "0 2023-03-03 10:23:17.895 2023-03-03 10:23:17.895   \n",
       "1 2023-03-02 18:40:07.989 2023-03-02 18:40:07.989   \n",
       "2 2023-03-02 12:08:30.997 2023-03-02 12:08:30.997   \n",
       "3 2023-03-02 07:50:16.166 2023-03-02 07:50:16.166   \n",
       "4 2023-03-01 21:01:09.882 2023-03-01 21:01:09.882   \n",
       "\n",
       "         Nombre del establecimiento           groups  \\\n",
       "0  Hospital Universitari Sagrat Cor  Cataluña, Hospi   \n",
       "1  Hospital Universitari Sagrat Cor  Cataluña, Hospi   \n",
       "2  Hospital Universitari Sagrat Cor  Cataluña, Hospi   \n",
       "3  Hospital Universitari Sagrat Cor  Cataluña, Hospi   \n",
       "4  Hospital Universitari Sagrat Cor  Cataluña, Hospi   \n",
       "\n",
       "                  Dirección     Ciudad Código postal  \\\n",
       "0  Carrer De Viladomat, 288  Barcelona         08029   \n",
       "1  Carrer De Viladomat, 288  Barcelona         08029   \n",
       "2  Carrer De Viladomat, 288  Barcelona         08029   \n",
       "3  Carrer De Viladomat, 288  Barcelona         08029   \n",
       "4  Carrer De Viladomat, 288  Barcelona         08029   \n",
       "\n",
       "                                             content  rating              tags  \n",
       "0  Asistí hace días al hospital, y no pude recibi...       5    + At. recibida  \n",
       "1  Mi experiencia de la cirugía que me han hecho ...       5    + At. recibida  \n",
       "2  La atención del 70% de auxiliares, enfermeras ...       1   - Disconf. tto.  \n",
       "3                                                NaN       5  + Sin comentario  \n",
       "4  Gran hospital todo súper limpio , trato excepc...       5    + At. recibida  "
      ]
     },
     "execution_count": 14,
     "metadata": {},
     "output_type": "execute_result"
    }
   ],
   "source": [
    "reviews2023.head()"
   ]
  },
  {
   "cell_type": "code",
   "execution_count": 15,
   "id": "2affd824",
   "metadata": {},
   "outputs": [
    {
     "name": "stdout",
     "output_type": "stream",
     "text": [
      "<class 'pandas.core.frame.DataFrame'>\n",
      "RangeIndex: 23424 entries, 0 to 23423\n",
      "Data columns (total 10 columns):\n",
      " #   Column                      Non-Null Count  Dtype         \n",
      "---  ------                      --------------  -----         \n",
      " 0   Fecha de creación           23424 non-null  datetime64[ns]\n",
      " 1   Fecha de modificación       23424 non-null  datetime64[ns]\n",
      " 2   Nombre del establecimiento  23424 non-null  object        \n",
      " 3   groups                      23424 non-null  object        \n",
      " 4   Dirección                   23424 non-null  object        \n",
      " 5   Ciudad                      23424 non-null  object        \n",
      " 6   Código postal               23424 non-null  object        \n",
      " 7   content                     18035 non-null  object        \n",
      " 8   rating                      23424 non-null  int64         \n",
      " 9   tags                        22858 non-null  object        \n",
      "dtypes: datetime64[ns](2), int64(1), object(7)\n",
      "memory usage: 1.8+ MB\n"
     ]
    }
   ],
   "source": [
    "reviews2023.info()"
   ]
  },
  {
   "cell_type": "code",
   "execution_count": 16,
   "id": "7f0178aa",
   "metadata": {},
   "outputs": [],
   "source": [
    "reviews2023.drop('Fecha de creación', axis=1, inplace=True)   # Elimino 'Fecha de creación'"
   ]
  },
  {
   "cell_type": "code",
   "execution_count": 17,
   "id": "c9ca64bf",
   "metadata": {},
   "outputs": [],
   "source": [
    "reviews2023 = reviews2023.rename(columns={'Fecha de modificación': 'Fecha'})   # La columna pasa a llamarse 'Fecha'"
   ]
  },
  {
   "cell_type": "code",
   "execution_count": 18,
   "id": "ee949891",
   "metadata": {},
   "outputs": [
    {
     "name": "stdout",
     "output_type": "stream",
     "text": [
      "<class 'pandas.core.frame.DataFrame'>\n",
      "RangeIndex: 23424 entries, 0 to 23423\n",
      "Data columns (total 9 columns):\n",
      " #   Column                      Non-Null Count  Dtype         \n",
      "---  ------                      --------------  -----         \n",
      " 0   Fecha                       23424 non-null  datetime64[ns]\n",
      " 1   Nombre del establecimiento  23424 non-null  object        \n",
      " 2   groups                      23424 non-null  object        \n",
      " 3   Dirección                   23424 non-null  object        \n",
      " 4   Ciudad                      23424 non-null  object        \n",
      " 5   Código postal               23424 non-null  object        \n",
      " 6   content                     18035 non-null  object        \n",
      " 7   rating                      23424 non-null  int64         \n",
      " 8   tags                        22858 non-null  object        \n",
      "dtypes: datetime64[ns](1), int64(1), object(7)\n",
      "memory usage: 1.6+ MB\n"
     ]
    }
   ],
   "source": [
    "reviews2023.info()"
   ]
  },
  {
   "cell_type": "markdown",
   "id": "85231fa9",
   "metadata": {},
   "source": [
    "## Transformación: valores nulos en tag"
   ]
  },
  {
   "cell_type": "code",
   "execution_count": 19,
   "id": "ee175e3a",
   "metadata": {},
   "outputs": [
    {
     "data": {
      "text/plain": [
       "array(['+ At. recibida', '- Disconf. tto.', '+ Sin comentario',\n",
       "       '- Organización', '- Otros', '- Otras disconformidades',\n",
       "       '- Tiempo espera', '- Com. inapropiados', '+ Profesionales',\n",
       "       '- Patología no ident.', '- Info. general', '- Sin comentario',\n",
       "       '- Disconf. profesional', '- At. telefónica',\n",
       "       '- Comport. irrespetuoso', '- Info. clínica',\n",
       "       '- Disconf. seguimiento', '- Instal. deficientes',\n",
       "       '- Falta asist.', nan, '- Falta recursos',\n",
       "       '- Disconf. diagnóstico', '- Dificultad documentación',\n",
       "       '+ At. paciente', '- Tiempo en consulta', '+ At. telefónica',\n",
       "       '- Tiempo a cita', '- Portal paciente', '- Falta explic.',\n",
       "       '- Dificultad remisión', '+ Partos', '- Calidad comida',\n",
       "       '- Incumplimiento instruc.', '- No escucha',\n",
       "       '+ At. recibida,+ At. paciente'], dtype=object)"
      ]
     },
     "execution_count": 19,
     "metadata": {},
     "output_type": "execute_result"
    }
   ],
   "source": [
    "reviews2023['tags'].unique()    # Reviso los valores de tags: hay nulos y un error en '+ At. recibida,+ At. paciente'"
   ]
  },
  {
   "cell_type": "code",
   "execution_count": 20,
   "id": "146c6c24",
   "metadata": {},
   "outputs": [
    {
     "data": {
      "text/plain": [
       "566"
      ]
     },
     "execution_count": 20,
     "metadata": {},
     "output_type": "execute_result"
    }
   ],
   "source": [
    "reviews2023['tags'].isnull().sum()   # Tengo 566 valores vacíos en tags"
   ]
  },
  {
   "cell_type": "code",
   "execution_count": 21,
   "id": "8c1367cd",
   "metadata": {},
   "outputs": [
    {
     "data": {
      "text/plain": [
       "564"
      ]
     },
     "execution_count": 21,
     "metadata": {},
     "output_type": "execute_result"
    }
   ],
   "source": [
    "(reviews2023['rating'] == 3).sum()   # Pero solo 564 filas donde el rating sea 3"
   ]
  },
  {
   "cell_type": "code",
   "execution_count": 22,
   "id": "27d7a8c4",
   "metadata": {},
   "outputs": [],
   "source": [
    "reviews2023.loc[(reviews2023['rating'] == 3) & (reviews2023['tags'].isnull()), 'tags'] = 'Neutro'\n",
    "# Cuando las reseñas tienen el rating de 3, el valor por defecto es nulo porque es 'Neutro' y no se categoriza"
   ]
  },
  {
   "cell_type": "code",
   "execution_count": 23,
   "id": "bf814b22",
   "metadata": {},
   "outputs": [
    {
     "data": {
      "text/html": [
       "<div>\n",
       "<style scoped>\n",
       "    .dataframe tbody tr th:only-of-type {\n",
       "        vertical-align: middle;\n",
       "    }\n",
       "\n",
       "    .dataframe tbody tr th {\n",
       "        vertical-align: top;\n",
       "    }\n",
       "\n",
       "    .dataframe thead th {\n",
       "        text-align: right;\n",
       "    }\n",
       "</style>\n",
       "<table border=\"1\" class=\"dataframe\">\n",
       "  <thead>\n",
       "    <tr style=\"text-align: right;\">\n",
       "      <th></th>\n",
       "      <th>Fecha</th>\n",
       "      <th>Nombre del establecimiento</th>\n",
       "      <th>groups</th>\n",
       "      <th>Dirección</th>\n",
       "      <th>Ciudad</th>\n",
       "      <th>Código postal</th>\n",
       "      <th>content</th>\n",
       "      <th>rating</th>\n",
       "      <th>tags</th>\n",
       "    </tr>\n",
       "  </thead>\n",
       "  <tbody>\n",
       "    <tr>\n",
       "      <th>10959</th>\n",
       "      <td>2023-01-17 21:57:44.149</td>\n",
       "      <td>Centro Médico Quirónsalud Aribau</td>\n",
       "      <td>Cataluña, Centros</td>\n",
       "      <td>Calle Aribau, 192</td>\n",
       "      <td>Barcelona</td>\n",
       "      <td>08036</td>\n",
       "      <td>Doy 2 estrellas por el personal médico. Pero s...</td>\n",
       "      <td>2</td>\n",
       "      <td>NaN</td>\n",
       "    </tr>\n",
       "    <tr>\n",
       "      <th>18894</th>\n",
       "      <td>2023-01-17 21:58:04.593</td>\n",
       "      <td>Hospital El Pilar</td>\n",
       "      <td>Cataluña, Hospi</td>\n",
       "      <td>Calle Balmes, 271</td>\n",
       "      <td>Barcelona</td>\n",
       "      <td>08006</td>\n",
       "      <td>1 hora esperando para hacer una resonancia mag...</td>\n",
       "      <td>1</td>\n",
       "      <td>NaN</td>\n",
       "    </tr>\n",
       "  </tbody>\n",
       "</table>\n",
       "</div>"
      ],
      "text/plain": [
       "                        Fecha        Nombre del establecimiento  \\\n",
       "10959 2023-01-17 21:57:44.149  Centro Médico Quirónsalud Aribau   \n",
       "18894 2023-01-17 21:58:04.593                 Hospital El Pilar   \n",
       "\n",
       "                  groups          Dirección     Ciudad Código postal  \\\n",
       "10959  Cataluña, Centros  Calle Aribau, 192  Barcelona         08036   \n",
       "18894    Cataluña, Hospi  Calle Balmes, 271  Barcelona         08006   \n",
       "\n",
       "                                                 content  rating tags  \n",
       "10959  Doy 2 estrellas por el personal médico. Pero s...       2  NaN  \n",
       "18894  1 hora esperando para hacer una resonancia mag...       1  NaN  "
      ]
     },
     "execution_count": 23,
     "metadata": {},
     "output_type": "execute_result"
    }
   ],
   "source": [
    "reviews2023.loc[reviews2023['tags'].isnull()]   # Compruebo los 2 nulos que NO tenían rating de 3 "
   ]
  },
  {
   "cell_type": "code",
   "execution_count": 24,
   "id": "d7ff18bb",
   "metadata": {},
   "outputs": [
    {
     "data": {
      "text/plain": [
       "\"Doy 2 estrellas por el personal médico. Pero si no quieres esperar 1 hora para pasar a sala, no te recomiendo venir a este sitio. Desastrosa gestión!\\n\\n(Translated by Google)\\nI give 2 stars for the medical staff. But if you don't want to wait 1 hour to go to the room, I don't recommend coming to this place. Disastrous management!\""
      ]
     },
     "execution_count": 24,
     "metadata": {},
     "output_type": "execute_result"
    }
   ],
   "source": [
    "reviews2023.loc[10959, 'content']      # Leo la reseña"
   ]
  },
  {
   "cell_type": "code",
   "execution_count": 25,
   "id": "ba6c0345",
   "metadata": {},
   "outputs": [
    {
     "data": {
      "text/plain": [
       "\"1 hora esperando para hacer una resonancia magnética. Poca empatía por parte de la doctora. No lo recomiendo para nada. No volveré.\\n\\n(Translated by Google)\\n1 hour waiting to do an MRI. Little empathy on the part of the doctor. I don't recommend it at all. I will not come back.\""
      ]
     },
     "execution_count": 25,
     "metadata": {},
     "output_type": "execute_result"
    }
   ],
   "source": [
    "reviews2023.loc[18894, 'content']     # Leo la reseña"
   ]
  },
  {
   "cell_type": "code",
   "execution_count": 26,
   "id": "7067efe6",
   "metadata": {},
   "outputs": [],
   "source": [
    "reviews2023.loc[10959, 'tags'] = '- Tiempo espera'     # Modifico el valor de la tag en esas reseñas \n",
    "reviews2023.loc[18894, 'tags'] = '- Tiempo espera'"
   ]
  },
  {
   "cell_type": "code",
   "execution_count": 27,
   "id": "d5c0d80f",
   "metadata": {},
   "outputs": [
    {
     "data": {
      "text/plain": [
       "Fecha                                                2023-01-17 21:57:44.149000\n",
       "Nombre del establecimiento                     Centro Médico Quirónsalud Aribau\n",
       "groups                                                        Cataluña, Centros\n",
       "Dirección                                                     Calle Aribau, 192\n",
       "Ciudad                                                                Barcelona\n",
       "Código postal                                                             08036\n",
       "content                       Doy 2 estrellas por el personal médico. Pero s...\n",
       "rating                                                                        2\n",
       "tags                                                            - Tiempo espera\n",
       "Name: 10959, dtype: object"
      ]
     },
     "execution_count": 27,
     "metadata": {},
     "output_type": "execute_result"
    }
   ],
   "source": [
    "reviews2023.loc[10959]      # Compruebo"
   ]
  },
  {
   "cell_type": "code",
   "execution_count": 28,
   "id": "65585d2d",
   "metadata": {},
   "outputs": [
    {
     "data": {
      "text/html": [
       "<div>\n",
       "<style scoped>\n",
       "    .dataframe tbody tr th:only-of-type {\n",
       "        vertical-align: middle;\n",
       "    }\n",
       "\n",
       "    .dataframe tbody tr th {\n",
       "        vertical-align: top;\n",
       "    }\n",
       "\n",
       "    .dataframe thead th {\n",
       "        text-align: right;\n",
       "    }\n",
       "</style>\n",
       "<table border=\"1\" class=\"dataframe\">\n",
       "  <thead>\n",
       "    <tr style=\"text-align: right;\">\n",
       "      <th></th>\n",
       "      <th>Fecha</th>\n",
       "      <th>Nombre del establecimiento</th>\n",
       "      <th>groups</th>\n",
       "      <th>Dirección</th>\n",
       "      <th>Ciudad</th>\n",
       "      <th>Código postal</th>\n",
       "      <th>content</th>\n",
       "      <th>rating</th>\n",
       "      <th>tags</th>\n",
       "    </tr>\n",
       "  </thead>\n",
       "  <tbody>\n",
       "    <tr>\n",
       "      <th>9303</th>\n",
       "      <td>2023-01-01 16:25:15.839</td>\n",
       "      <td>Hospital Quirónsalud Murcia</td>\n",
       "      <td>Levante, Hospi</td>\n",
       "      <td>Calle Miguel Hernández, 12</td>\n",
       "      <td>Murcia</td>\n",
       "      <td>30011</td>\n",
       "      <td>Muy limpio y Buena Buena servicios\\n\\n(Transla...</td>\n",
       "      <td>5</td>\n",
       "      <td>+ At. recibida,+ At. paciente</td>\n",
       "    </tr>\n",
       "    <tr>\n",
       "      <th>14390</th>\n",
       "      <td>2023-01-20 09:23:46.788</td>\n",
       "      <td>Hospital Universitario Fundación Jiménez Díaz</td>\n",
       "      <td>Madrid Públicos, Hospi</td>\n",
       "      <td>Avenida Reyes Católicos, 2</td>\n",
       "      <td>Madrid</td>\n",
       "      <td>28040</td>\n",
       "      <td>(Translated by Google) There was a very kind m...</td>\n",
       "      <td>5</td>\n",
       "      <td>+ At. recibida,+ At. paciente</td>\n",
       "    </tr>\n",
       "  </tbody>\n",
       "</table>\n",
       "</div>"
      ],
      "text/plain": [
       "                        Fecha                     Nombre del establecimiento  \\\n",
       "9303  2023-01-01 16:25:15.839                    Hospital Quirónsalud Murcia   \n",
       "14390 2023-01-20 09:23:46.788  Hospital Universitario Fundación Jiménez Díaz   \n",
       "\n",
       "                       groups                   Dirección  Ciudad  \\\n",
       "9303           Levante, Hospi  Calle Miguel Hernández, 12  Murcia   \n",
       "14390  Madrid Públicos, Hospi  Avenida Reyes Católicos, 2  Madrid   \n",
       "\n",
       "      Código postal                                            content  \\\n",
       "9303          30011  Muy limpio y Buena Buena servicios\\n\\n(Transla...   \n",
       "14390         28040  (Translated by Google) There was a very kind m...   \n",
       "\n",
       "       rating                           tags  \n",
       "9303        5  + At. recibida,+ At. paciente  \n",
       "14390       5  + At. recibida,+ At. paciente  "
      ]
     },
     "execution_count": 28,
     "metadata": {},
     "output_type": "execute_result"
    }
   ],
   "source": [
    "reviews2023.loc[(reviews2023['tags'] == '+ At. recibida,+ At. paciente')]    # Localizo dónde está pillando la tags errónea"
   ]
  },
  {
   "cell_type": "code",
   "execution_count": 29,
   "id": "7cc0d787",
   "metadata": {},
   "outputs": [
    {
     "data": {
      "text/plain": [
       "'(Translated by Google) There was a very kind man (Pontones center) helping people to take out the piece of paper in the machine.\\n\\n(Original)\\nHabía un señor muy amable (centro de Pontones) ayudando a la gente a sacar el papelito en la maquina.'"
      ]
     },
     "execution_count": 29,
     "metadata": {},
     "output_type": "execute_result"
    }
   ],
   "source": [
    "reviews2023.loc[14390, 'content']"
   ]
  },
  {
   "cell_type": "code",
   "execution_count": 30,
   "id": "89ed0dc3",
   "metadata": {},
   "outputs": [],
   "source": [
    "reviews2023.loc[9303, 'tags'] = '+ At. recibida'\n",
    "reviews2023.loc[14390, 'tags'] = '+ At. recibida'"
   ]
  },
  {
   "cell_type": "code",
   "execution_count": 31,
   "id": "4b64aaf1",
   "metadata": {},
   "outputs": [
    {
     "data": {
      "text/plain": [
       "0"
      ]
     },
     "execution_count": 31,
     "metadata": {},
     "output_type": "execute_result"
    }
   ],
   "source": [
    "reviews2023['tags'].isnull().sum()     # Compruebo que ya no hay nulos"
   ]
  },
  {
   "cell_type": "code",
   "execution_count": 32,
   "id": "679e4d4b",
   "metadata": {},
   "outputs": [
    {
     "data": {
      "text/plain": [
       "array(['+ At. recibida', '- Disconf. tto.', '+ Sin comentario',\n",
       "       '- Organización', '- Otros', '- Otras disconformidades',\n",
       "       '- Tiempo espera', '- Com. inapropiados', '+ Profesionales',\n",
       "       '- Patología no ident.', '- Info. general', '- Sin comentario',\n",
       "       '- Disconf. profesional', '- At. telefónica',\n",
       "       '- Comport. irrespetuoso', '- Info. clínica',\n",
       "       '- Disconf. seguimiento', '- Instal. deficientes',\n",
       "       '- Falta asist.', 'Neutro', '- Falta recursos',\n",
       "       '- Disconf. diagnóstico', '- Dificultad documentación',\n",
       "       '+ At. paciente', '- Tiempo en consulta', '+ At. telefónica',\n",
       "       '- Tiempo a cita', '- Portal paciente', '- Falta explic.',\n",
       "       '- Dificultad remisión', '+ Partos', '- Calidad comida',\n",
       "       '- Incumplimiento instruc.', '- No escucha'], dtype=object)"
      ]
     },
     "execution_count": 32,
     "metadata": {},
     "output_type": "execute_result"
    }
   ],
   "source": [
    "reviews2023['tags'].unique()"
   ]
  },
  {
   "cell_type": "markdown",
   "id": "467997d9",
   "metadata": {},
   "source": [
    "Crearemos 2 nuevas columnas: \n",
    "- Tipografía : Hospital, Centro Médico u Otros \n",
    "- Territorio: territorio de 1 a 10 "
   ]
  },
  {
   "cell_type": "markdown",
   "id": "c09606c5",
   "metadata": {},
   "source": [
    "## New colum: generamos la columna 'Tipografía' que puede ser 'Hospital', 'Centro médico' u 'Otros'"
   ]
  },
  {
   "cell_type": "code",
   "execution_count": 33,
   "id": "d6a17d31",
   "metadata": {},
   "outputs": [
    {
     "data": {
      "text/plain": [
       "151"
      ]
     },
     "execution_count": 33,
     "metadata": {},
     "output_type": "execute_result"
    }
   ],
   "source": [
    "len(reviews2023['Nombre del establecimiento'].unique())  # 151 centros totales"
   ]
  },
  {
   "cell_type": "code",
   "execution_count": 34,
   "id": "db621bd7",
   "metadata": {},
   "outputs": [
    {
     "data": {
      "text/plain": [
       "array(['Hospital Universitari Sagrat Cor',\n",
       "       'Grupo Hospitalario Quirónsalud',\n",
       "       'Consultas Externas Hospital Quirónsalud San José',\n",
       "       'Hospital Quirónsalud del Vallés', 'Hospital Quirónsalud Son Verí',\n",
       "       'Hospital El Pilar – Consultas Externas Alfonso XII',\n",
       "       'Hospital El Pilar – Consultas Externas Balmes',\n",
       "       'Hospital Quirónsalud Lugo',\n",
       "       'Hospital Quirónsalud Valle del Henares (Torrejón de Ardoz)',\n",
       "       'Hospital Materno-Infantil Quirónsalud',\n",
       "       'Consultas Externas Hospital Quirónsalud Sur',\n",
       "       'Hospital Quirónsalud Vida',\n",
       "       'Laboratorio Análisis Clínicos – Hospital Universitari Dexeus',\n",
       "       'Hospital de Día Quirónsalud Huesca',\n",
       "       'Hospital Quirónsalud Badalona',\n",
       "       'Hospital Universitario Quirónsalud Madrid',\n",
       "       'Hospital Quirónsalud A Coruña', 'Hospital Quirónsalud Málaga',\n",
       "       'Hospital Quirónsalud Tenerife', 'Hospital Quirónsalud Torrevieja',\n",
       "       'Hospital Quirónsalud Toledo',\n",
       "       'Hospital Quirónsalud Miguel Domínguez',\n",
       "       'Hospital Quirónsalud Clideba', 'Hospital Quirónsalud Ciudad Real',\n",
       "       'Hospital Ruber Internacional', 'Hospital Quirónsalud Costa Adeje',\n",
       "       'Hospital Quirónsalud Huelva', 'Hospital Quirónsalud Palmaplanas',\n",
       "       'Hospital Quirónsalud Sur', 'Hospital Quirónsalud Murcia',\n",
       "       'Hospital Quirónsalud Valencia', 'Hospital Quirónsalud Albacete',\n",
       "       'Hospital Quirónsalud Marbella',\n",
       "       'Hospital Quironsalud Sagrado Corazón',\n",
       "       'Hospital de Día Quirónsalud Ave María',\n",
       "       'Hospital Universitario Fundación Jiménez Díaz',\n",
       "       'Hospital de Día Quirónsalud Playa de Muro',\n",
       "       'Hospital de Día Quirónsalud Talavera',\n",
       "       'Hospital Universitari General de Catalunya',\n",
       "       'Hospital Universitario General de Villalba',\n",
       "       'Hospital  Universitario La Luz',\n",
       "       'Hospital De Día Quirónsalud Zaragoza',\n",
       "       'Hospital Quirónsalud Córdoba',\n",
       "       'Hospital Quirónsalud Infanta Luisa',\n",
       "       'Hospital Quirónsalud Santa Cristina',\n",
       "       'Hospital Quirónsalud Bizkaia',\n",
       "       'Hospital Quirónsalud Campo de Gibraltar',\n",
       "       'Hospital Universitario Ruber Juan Bravo (C/Juan Bravo, 49)',\n",
       "       'Hospital Quirónsalud San José',\n",
       "       'Hospital de Día Quirónsalud Donostia',\n",
       "       'Hospital Quirónsalud Cáceres', 'Hospital El Pilar',\n",
       "       'Hospital Quirónsalud Vitoria', 'Hospital Quirónsalud Zaragoza',\n",
       "       'Hospital Universitario Ruber Juan Bravo (C/ Juan Bravo, 39)',\n",
       "       'Hospital Universitario Infanta Elena',\n",
       "       'Hospital Universitari Dexeus',\n",
       "       'Hospital Universitario Rey Juan Carlos',\n",
       "       'Hospital Quirónsalud Barcelona'], dtype=object)"
      ]
     },
     "execution_count": 34,
     "metadata": {},
     "output_type": "execute_result"
    }
   ],
   "source": [
    "# Veo qué nombres tienen la palabra 'Hospital' para después hacer la lista de hospital\n",
    "reviews2023[reviews2023['Nombre del establecimiento'].str.contains('Hospital', case=False)]['Nombre del establecimiento'].unique()"
   ]
  },
  {
   "cell_type": "code",
   "execution_count": 35,
   "id": "1ee873ec",
   "metadata": {},
   "outputs": [],
   "source": [
    "hospital = ['Hospital Universitari Sagrat Cor',\n",
    "            'Hospital Quirónsalud del Vallés', \n",
    "            'Hospital Quirónsalud Son Verí',\n",
    "            'Hospital El Pilar – Consultas Externas Alfonso XII',\n",
    "            'Hospital El Pilar – Consultas Externas Balmes',\n",
    "           'Hospital Quirónsalud Lugo',\n",
    "           'Hospital Quirónsalud Valle del Henares (Torrejón de Ardoz)',\n",
    "           'Hospital Materno-Infantil Quirónsalud',\n",
    "           'Hospital Quirónsalud Vida',\n",
    "           'Hospital Quirónsalud Badalona',\n",
    "           'Hospital Universitario Quirónsalud Madrid',\n",
    "           'Hospital Quirónsalud A Coruña', \n",
    "            'Hospital Quirónsalud Málaga',\n",
    "           'Hospital Quirónsalud Tenerife', \n",
    "            'Hospital Quirónsalud Torrevieja',\n",
    "           'Hospital Quirónsalud Toledo',\n",
    "           'Hospital Quirónsalud Miguel Domínguez',\n",
    "           'Hospital Quirónsalud Clideba', \n",
    "            'Hospital Quirónsalud Ciudad Real',\n",
    "           'Hospital Ruber Internacional', \n",
    "            'Hospital Quirónsalud Costa Adeje',\n",
    "           'Hospital Quirónsalud Huelva', \n",
    "            'Hospital Quirónsalud Palmaplanas',\n",
    "           'Hospital Quirónsalud Sur', \n",
    "            'Hospital Quirónsalud Murcia',\n",
    "           'Hospital Quirónsalud Valencia', \n",
    "            'Hospital Quirónsalud Albacete',\n",
    "           'Hospital Quirónsalud Marbella',\n",
    "           'Hospital Quironsalud Sagrado Corazón',\n",
    "           'Hospital Universitario Fundación Jiménez Díaz',\n",
    "           'Hospital Universitari General de Catalunya',\n",
    "           'Hospital Universitario General de Villalba',\n",
    "           'Hospital  Universitario La Luz',\n",
    "           'Hospital Quirónsalud Córdoba',\n",
    "           'Hospital Quirónsalud Infanta Luisa',\n",
    "           'Hospital Quirónsalud Santa Cristina',\n",
    "           'Hospital Quirónsalud Bizkaia',\n",
    "           'Hospital Quirónsalud Campo de Gibraltar',\n",
    "           'Hospital Universitario Ruber Juan Bravo (C/Juan Bravo, 49)',\n",
    "           'Hospital Quirónsalud San José',\n",
    "           'Hospital Quirónsalud Cáceres', \n",
    "            'Hospital El Pilar',\n",
    "           'Hospital Quirónsalud Vitoria', \n",
    "            'Hospital Quirónsalud Zaragoza',\n",
    "           'Hospital Universitario Ruber Juan Bravo (C/ Juan Bravo, 39)',\n",
    "           'Hospital Universitario Infanta Elena',\n",
    "           'Hospital Universitari Dexeus',\n",
    "           'Hospital Universitario Rey Juan Carlos',\n",
    "           'Hospital Quirónsalud Barcelona', \n",
    "           'Centro Médico Teknon', \n",
    "           'Policlínica Gipuzkoa', \n",
    "           'IERA Quirónsalud',\n",
    "           'IERA - Lisboa',\n",
    "           'Olympia - Grupo Quirónsalud',\n",
    "           'Quirónsalud Alicante',\n",
    "           'Centro de Protonterapia Quirónsalud', \n",
    "            'Clínica Rotger']"
   ]
  },
  {
   "cell_type": "code",
   "execution_count": 36,
   "id": "9c5f25f6",
   "metadata": {},
   "outputs": [
    {
     "data": {
      "text/plain": [
       "57"
      ]
     },
     "execution_count": 36,
     "metadata": {},
     "output_type": "execute_result"
    }
   ],
   "source": [
    "len(hospital)   # Tiene que haber 57 hospitales"
   ]
  },
  {
   "cell_type": "code",
   "execution_count": 37,
   "id": "0680808f",
   "metadata": {},
   "outputs": [
    {
     "data": {
      "text/plain": [
       "array(['Centro Médico Quirónsalud Murcia',\n",
       "       'Centro Médico Quirónsalud Sevilla Este',\n",
       "       'Centro de especialidades Pontones',\n",
       "       'Centro de especialidades Argüelles',\n",
       "       'Centro de especialidades Cristo Rey',\n",
       "       'Centro de especialidades Navalcarnero',\n",
       "       'Centro de especialidades Villaviciosa de Odón',\n",
       "       'Centro Médico Ruber Juan Bravo',\n",
       "       'Centro de Rehabilitación Ruber Juan Bravo',\n",
       "       'Centro Médico Quirónsalud Digest Marti Pujol',\n",
       "       'Centro Médico Quirónsalud Algeciras',\n",
       "       'Centro Médico Quirónsalud Parque Litoral',\n",
       "       'Centro Médico Quirónsalud Marbella',\n",
       "       'Centro Médico Quirónsalud Guadalete',\n",
       "       'Centro Médico Quirónsalud Condes de Bustillo',\n",
       "       'Centro Médico Quirónsalud Espartinas',\n",
       "       'Centro Médico Quirónsalud Blasco Ibañez',\n",
       "       'Centro Médico Quirónsalud Artes Gráficas',\n",
       "       'Centro M. Quirónsalud Almendralejo',\n",
       "       'Centro M. Quirónsalud Don Benito',\n",
       "       'Centro Médico Quirónsalud Nuredduna',\n",
       "       'Centro Médico Quirónsalud Inca',\n",
       "       'Centro Médico Quirónsalud Manacor',\n",
       "       'Centro Médico Quirónsalud Palmanova',\n",
       "       'Centro Médico Quirónsalud Dígest Laietania',\n",
       "       'Centro de Oftalmología Quirónsalud Marbella',\n",
       "       'Centro Médico Quirónsalud Costa del Sol',\n",
       "       'Centro Médico Quirónsalud Severo Ochoa',\n",
       "       'Centro de Rehabilitación Quirónsalud Vitoria',\n",
       "       'Centro Médico Quirónsalud Plaza Madroño',\n",
       "       'Centro de Rehabilitación Quirónsalud Talavera',\n",
       "       'Centro Médico Quirónsalud Mercado de Colón',\n",
       "       'Centro Médico Quirónsalud Gran Alacant',\n",
       "       'Ruber Internacional Centro Médico Masó',\n",
       "       'Centro de Oftalmología Quirónsalud Vitoria',\n",
       "       'Centro Médico Quirónsalud Elche',\n",
       "       'Centro de Rehabilitación Quirónsalud Huelva',\n",
       "       'Centro de Rehabilitación Quirónsalud Infanta Luisa',\n",
       "       'Centro Médico Vida La Laguna',\n",
       "       'Centro Médico Quirónsalud Los Cristianos',\n",
       "       'Centro médico Quirónsalud Vida Candelaria',\n",
       "       'Centro Médico Vida - Santa Úrsula',\n",
       "       'Centro Médico Vida - Icod de los Vinos',\n",
       "       'Centro Médico Vida Tejina',\n",
       "       'Centro Médico Vida - Puerto de la Cruz',\n",
       "       'Centro Médico Vida - Los Realejos',\n",
       "       'Centro médico Quirónsalud Plaza Lodares ',\n",
       "       'Centro Médico Quirónsalud',\n",
       "       'Centro Médico Quirónsalud Valdebebas',\n",
       "       'Centro de Rehabilitación Quirónsalud Pontevedra',\n",
       "       'Centro Médico Quirónsalud Pontevedra',\n",
       "       'Centro Médico Ruber Internacional Paseo Habana',\n",
       "       'Centro Médico Quirónsalud Toledo', 'Centro Médico Teknon',\n",
       "       'Centro Médico Quirónsalud Aribau',\n",
       "       'Centro Médico Quirónsalud Aljarafe',\n",
       "       'Centro de Protonterapia Quirónsalud',\n",
       "       'Centro Médico Quirónsalud Alameda',\n",
       "       'Centro Médico Quirónsalud Manuel Siurot',\n",
       "       'Centro Médico Quirónsalud Los Remedios',\n",
       "       'Centro Médico Quirónsalud Mairena',\n",
       "       'Centro Médico Quirónsalud Málaga',\n",
       "       'Centro Médico Quirónsalud Nervión',\n",
       "       'Centro Médico Quirónsalud Plaza Euskadi',\n",
       "       'Centro Médico Quirónsalud Tres Cantos',\n",
       "       'Centro Médico Quirónsalud Valle del Henares (Alcalá de Henares)',\n",
       "       'Centro Médico Quirónsalud A Coruña',\n",
       "       'Centro Médico Quirónsalud Ferrol',\n",
       "       'Centro Médico Quirónsalud Fuengirola',\n",
       "       'Centro Médico Quirónsalud Mérida',\n",
       "       'Centro Médico Quirónsalud Orihuela',\n",
       "       'Centro Médico Quirónsalud Puertollano',\n",
       "       'Centro Médico Quirónsalud Tenerife'], dtype=object)"
      ]
     },
     "execution_count": 37,
     "metadata": {},
     "output_type": "execute_result"
    }
   ],
   "source": [
    "# Compruebo qué nombres tienen la palabra 'Centro' para hacer después la lista de centro\n",
    "reviews2023[reviews2023['Nombre del establecimiento'].str.contains('Centro', case=False)]['Nombre del establecimiento'].unique()"
   ]
  },
  {
   "cell_type": "code",
   "execution_count": 38,
   "id": "00b13309",
   "metadata": {},
   "outputs": [
    {
     "data": {
      "text/plain": [
       "array(['Hospital de Día Quirónsalud Huesca',\n",
       "       'Hospital de Día Quirónsalud Ave María',\n",
       "       'Hospital de Día Quirónsalud Playa de Muro',\n",
       "       'Hospital de Día Quirónsalud Talavera',\n",
       "       'Hospital De Día Quirónsalud Zaragoza',\n",
       "       'Hospital de Día Quirónsalud Donostia'], dtype=object)"
      ]
     },
     "execution_count": 38,
     "metadata": {},
     "output_type": "execute_result"
    }
   ],
   "source": [
    "# Compruebo los nombres que son hospitales 'de Día' porque estos también irán en la lista de centros\n",
    "reviews2023[reviews2023['Nombre del establecimiento'].str.contains('de Día', case=False)]['Nombre del establecimiento'].unique()"
   ]
  },
  {
   "cell_type": "code",
   "execution_count": 39,
   "id": "9af2269d",
   "metadata": {},
   "outputs": [],
   "source": [
    "centro = ['Centro Médico Quirónsalud Murcia',\n",
    "       'Centro Médico Quirónsalud Sevilla Este',\n",
    "       'Centro de especialidades Pontones',\n",
    "       'Centro de especialidades Argüelles',\n",
    "       'Centro de especialidades Cristo Rey',\n",
    "       'Centro de especialidades Navalcarnero',\n",
    "       'Centro de especialidades Villaviciosa de Odón',\n",
    "       'Centro Médico Ruber Juan Bravo',\n",
    "       'Centro Médico Quirónsalud Digest Marti Pujol',\n",
    "       'Centro Médico Quirónsalud Algeciras',\n",
    "       'Centro Médico Quirónsalud Parque Litoral',\n",
    "       'Centro Médico Quirónsalud Marbella',\n",
    "       'Centro Médico Quirónsalud Guadalete',\n",
    "       'Centro Médico Quirónsalud Condes de Bustillo',\n",
    "       'Centro Médico Quirónsalud Espartinas',\n",
    "       'Centro Médico Quirónsalud Blasco Ibañez',\n",
    "       'Centro Médico Quirónsalud Artes Gráficas',\n",
    "       'Centro M. Quirónsalud Almendralejo',\n",
    "       'Centro M. Quirónsalud Don Benito',\n",
    "       'Centro Médico Quirónsalud Nuredduna',\n",
    "       'Centro Médico Quirónsalud Inca',\n",
    "       'Centro Médico Quirónsalud Manacor',\n",
    "       'Centro Médico Quirónsalud Palmanova',\n",
    "       'Centro Médico Quirónsalud Dígest Laietania',\n",
    "       'Centro Médico Quirónsalud Costa del Sol',\n",
    "       'Centro Médico Quirónsalud Severo Ochoa',\n",
    "       'Centro Médico Quirónsalud Plaza Madroño',\n",
    "       'Centro Médico Quirónsalud Mercado de Colón',\n",
    "       'Centro Médico Quirónsalud Gran Alacant',\n",
    "       'Ruber Internacional Centro Médico Masó',\n",
    "       'Centro Médico Quirónsalud Elche',\n",
    "       'Centro Médico Vida La Laguna',\n",
    "       'Centro Médico Quirónsalud Los Cristianos',\n",
    "       'Centro médico Quirónsalud Vida Candelaria',\n",
    "       'Centro Médico Vida - Santa Úrsula',\n",
    "       'Centro Médico Vida - Icod de los Vinos',\n",
    "       'Centro Médico Vida Tejina',\n",
    "       'Centro Médico Vida - Puerto de la Cruz',\n",
    "       'Centro Médico Vida - Los Realejos',\n",
    "       'Centro médico Quirónsalud Plaza Lodares ',\n",
    "       'Centro Médico Quirónsalud',\n",
    "       'Centro Médico Quirónsalud Valdebebas',\n",
    "       'Centro Médico Quirónsalud Pontevedra',\n",
    "       'Centro Médico Ruber Internacional Paseo Habana',\n",
    "       'Centro Médico Quirónsalud Toledo', \n",
    "       'Centro Médico Quirónsalud Aribau',\n",
    "       'Centro Médico Quirónsalud Aljarafe',\n",
    "       'Centro Médico Quirónsalud Alameda',\n",
    "       'Centro Médico Quirónsalud Manuel Siurot',\n",
    "       'Centro Médico Quirónsalud Los Remedios',\n",
    "       'Centro Médico Quirónsalud Mairena',\n",
    "       'Centro Médico Quirónsalud Málaga',\n",
    "       'Centro Médico Quirónsalud Nervión',\n",
    "       'Centro Médico Quirónsalud Plaza Euskadi',\n",
    "       'Centro Médico Quirónsalud Tres Cantos',\n",
    "       'Centro Médico Quirónsalud Valle del Henares (Alcalá de Henares)',\n",
    "       'Centro Médico Quirónsalud A Coruña',\n",
    "       'Centro Médico Quirónsalud Ferrol',\n",
    "       'Centro Médico Quirónsalud Fuengirola',\n",
    "       'Centro Médico Quirónsalud Mérida',\n",
    "       'Centro Médico Quirónsalud Orihuela',\n",
    "       'Centro Médico Quirónsalud Puertollano',\n",
    "       'Centro Médico Quirónsalud Tenerife',\n",
    "        'Instituto de Neuro-rehabilitación Quirónsalud Pontevedra',\n",
    "         'Centre Mèdic Quirónsalud Rubí',\n",
    "         'Centre Mèdic Quirónsalud Badalona Arbres',\n",
    "         'Hospital de Día Quirónsalud Huesca',\n",
    "       'Hospital de Día Quirónsalud Ave María',\n",
    "       'Hospital de Día Quirónsalud Playa de Muro',\n",
    "       'Hospital de Día Quirónsalud Talavera',\n",
    "       'Hospital De Día Quirónsalud Zaragoza',\n",
    "       'Hospital de Día Quirónsalud Donostia',\n",
    "         'Clínica Quirónsalud Alcázar']"
   ]
  },
  {
   "cell_type": "code",
   "execution_count": 40,
   "id": "abd76897",
   "metadata": {},
   "outputs": [
    {
     "data": {
      "text/plain": [
       "73"
      ]
     },
     "execution_count": 40,
     "metadata": {},
     "output_type": "execute_result"
    }
   ],
   "source": [
    "len(centro)"
   ]
  },
  {
   "cell_type": "code",
   "execution_count": 41,
   "id": "4f9e0a29",
   "metadata": {},
   "outputs": [],
   "source": [
    "otros = ['Instituto Oncológico Quirónsalud Zaragoza',\n",
    "       'Grupo Hospitalario Quirónsalud',\n",
    "        'Centro de Rehabilitación Ruber Juan Bravo',\n",
    "       'Consultas Externas Hospital Quirónsalud San José',\n",
    "        'Quirónsalud Dental Inca',\n",
    "       'Quirónsalud Dental Manacor', \n",
    "         'Quirónsalud Dental Kids',\n",
    "        'Centro de Oftalmología Quirónsalud Marbella',\n",
    "        'Centro de Rehabilitación Quirónsalud Vitoria',\n",
    "        'Centro de Rehabilitación Quirónsalud Talavera',\n",
    "        'Centro de Oftalmología Quirónsalud Vitoria',\n",
    "         'Centro de Rehabilitación Quirónsalud Huelva',\n",
    "       'Centro de Rehabilitación Quirónsalud Infanta Luisa',\n",
    "        'Consultas Externas Hospital Quirónsalud Sur',\n",
    "        'Laboratorio Análisis Clínicos – Hospital Universitari Dexeus',\n",
    "        'Centro de Rehabilitación Quirónsalud Pontevedra',\n",
    "        'Quirónsalud Dental y Unidad de Obesidad Quirónsalud Valencia',\n",
    "        'Unidad de Pediatría Quirónsalud Zaragoza',\n",
    "        'Unidad de la Mujer de Quirónsalud Zaragoza',\n",
    "       'Instituto Oftalmológico Quirónsalud Zaragoza',\n",
    "        'Instituto Oftalmológico Quirónsalud A Coruña']"
   ]
  },
  {
   "cell_type": "code",
   "execution_count": 42,
   "id": "b1298619",
   "metadata": {},
   "outputs": [
    {
     "data": {
      "text/plain": [
       "21"
      ]
     },
     "execution_count": 42,
     "metadata": {},
     "output_type": "execute_result"
    }
   ],
   "source": [
    "len(otros)"
   ]
  },
  {
   "cell_type": "code",
   "execution_count": 43,
   "id": "d5960d59",
   "metadata": {},
   "outputs": [
    {
     "data": {
      "text/plain": [
       "151"
      ]
     },
     "execution_count": 43,
     "metadata": {},
     "output_type": "execute_result"
    }
   ],
   "source": [
    "len(hospital)+len(centro)+len(otros)   # Compruebo que tenga 151 centros"
   ]
  },
  {
   "cell_type": "code",
   "execution_count": 44,
   "id": "52ed2e60",
   "metadata": {},
   "outputs": [],
   "source": [
    "def dar_tipografía(establecimiento):\n",
    "    if establecimiento in hospital:\n",
    "        return 'Hospital'\n",
    "    elif establecimiento in centro:\n",
    "        return 'Centro médico'\n",
    "    elif establecimiento in otros:\n",
    "        return 'Otros'\n",
    "    else:\n",
    "        return 'Desconocido'"
   ]
  },
  {
   "cell_type": "code",
   "execution_count": 45,
   "id": "c9cc7628",
   "metadata": {},
   "outputs": [],
   "source": [
    "reviews2023['Tipografía'] = reviews2023['Nombre del establecimiento'].apply(dar_tipografía)"
   ]
  },
  {
   "cell_type": "code",
   "execution_count": 46,
   "id": "78722e5f",
   "metadata": {},
   "outputs": [
    {
     "data": {
      "text/html": [
       "<div>\n",
       "<style scoped>\n",
       "    .dataframe tbody tr th:only-of-type {\n",
       "        vertical-align: middle;\n",
       "    }\n",
       "\n",
       "    .dataframe tbody tr th {\n",
       "        vertical-align: top;\n",
       "    }\n",
       "\n",
       "    .dataframe thead th {\n",
       "        text-align: right;\n",
       "    }\n",
       "</style>\n",
       "<table border=\"1\" class=\"dataframe\">\n",
       "  <thead>\n",
       "    <tr style=\"text-align: right;\">\n",
       "      <th></th>\n",
       "      <th>Fecha</th>\n",
       "      <th>Nombre del establecimiento</th>\n",
       "      <th>groups</th>\n",
       "      <th>Dirección</th>\n",
       "      <th>Ciudad</th>\n",
       "      <th>Código postal</th>\n",
       "      <th>content</th>\n",
       "      <th>rating</th>\n",
       "      <th>tags</th>\n",
       "      <th>Tipografía</th>\n",
       "    </tr>\n",
       "  </thead>\n",
       "  <tbody>\n",
       "  </tbody>\n",
       "</table>\n",
       "</div>"
      ],
      "text/plain": [
       "Empty DataFrame\n",
       "Columns: [Fecha, Nombre del establecimiento, groups, Dirección, Ciudad, Código postal, content, rating, tags, Tipografía]\n",
       "Index: []"
      ]
     },
     "execution_count": 46,
     "metadata": {},
     "output_type": "execute_result"
    }
   ],
   "source": [
    "reviews2023[reviews2023['Tipografía'] == 'Desconocido']  # Compruebo que no hay ningún centro desconocido"
   ]
  },
  {
   "cell_type": "code",
   "execution_count": 47,
   "id": "75933cda",
   "metadata": {},
   "outputs": [
    {
     "data": {
      "text/plain": [
       "array(['Hospital', 'Centro médico', 'Otros'], dtype=object)"
      ]
     },
     "execution_count": 47,
     "metadata": {},
     "output_type": "execute_result"
    }
   ],
   "source": [
    "reviews2023['Tipografía'].unique()"
   ]
  },
  {
   "cell_type": "markdown",
   "id": "3d7182f4",
   "metadata": {},
   "source": [
    "## New colum: generamos la columna 'Territorio' que irá del 01 al 10"
   ]
  },
  {
   "cell_type": "code",
   "execution_count": 51,
   "id": "0e12c494",
   "metadata": {},
   "outputs": [
    {
     "name": "stdout",
     "output_type": "stream",
     "text": [
      "<class 'pandas.core.frame.DataFrame'>\n",
      "RangeIndex: 23424 entries, 0 to 23423\n",
      "Data columns (total 10 columns):\n",
      " #   Column                      Non-Null Count  Dtype         \n",
      "---  ------                      --------------  -----         \n",
      " 0   Fecha                       23424 non-null  datetime64[ns]\n",
      " 1   Nombre del establecimiento  23424 non-null  object        \n",
      " 2   groups                      23424 non-null  object        \n",
      " 3   Dirección                   23424 non-null  object        \n",
      " 4   Ciudad                      23424 non-null  object        \n",
      " 5   Código postal               23424 non-null  object        \n",
      " 6   content                     18035 non-null  object        \n",
      " 7   rating                      23424 non-null  int64         \n",
      " 8   tags                        23424 non-null  object        \n",
      " 9   Tipografía                  23424 non-null  object        \n",
      "dtypes: datetime64[ns](1), int64(1), object(8)\n",
      "memory usage: 1.8+ MB\n"
     ]
    }
   ],
   "source": [
    "reviews2023.info()"
   ]
  },
  {
   "cell_type": "code",
   "execution_count": 131,
   "id": "9974677b",
   "metadata": {},
   "outputs": [
    {
     "data": {
      "text/plain": [
       "array(['Laboratorio Análisis Clínicos – Hospital Universitari Dexeus'],\n",
       "      dtype=object)"
      ]
     },
     "execution_count": 131,
     "metadata": {},
     "output_type": "execute_result"
    }
   ],
   "source": [
    "reviews2023['Nombre del establecimiento'][reviews2023['groups'] == 'Cataluña, Otros'].unique()   # Forma de localizar "
   ]
  },
  {
   "cell_type": "code",
   "execution_count": 65,
   "id": "287e65e4",
   "metadata": {},
   "outputs": [],
   "source": [
    "T_publicos_Madrid = ['Centro de especialidades Pontones',\n",
    "                   'Centro de especialidades Argüelles',\n",
    "                   'Centro de especialidades Cristo Rey',\n",
    "                   'Centro de especialidades Navalcarnero',\n",
    "                   'Centro de especialidades Villaviciosa de Odón',\n",
    "                     'Hospital Universitario Fundación Jiménez Díaz',\n",
    "                   'Hospital Universitario General de Villalba',\n",
    "                   'Hospital Universitario Infanta Elena',\n",
    "                   'Hospital Universitario Rey Juan Carlos']"
   ]
  },
  {
   "cell_type": "code",
   "execution_count": 68,
   "id": "ca35e3cd",
   "metadata": {},
   "outputs": [],
   "source": [
    "T_corporativo = ['Grupo Hospitalario Quirónsalud']"
   ]
  },
  {
   "cell_type": "code",
   "execution_count": 116,
   "id": "63d8f896",
   "metadata": {},
   "outputs": [],
   "source": [
    "TRI = ['Ruber Internacional Centro Médico Masó',\n",
    "       'Hospital Ruber Internacional',\n",
    "       'Centro Médico Ruber Internacional Paseo Habana',\n",
    "    \n",
    "]"
   ]
  },
  {
   "cell_type": "code",
   "execution_count": 71,
   "id": "bc7471cb",
   "metadata": {},
   "outputs": [],
   "source": [
    "T1 = ['Centro de Protonterapia Quirónsalud',\n",
    "      'Hospital Universitario Quirónsalud Madrid',\n",
    "      'Hospital Quirónsalud Valle del Henares (Torrejón de Ardoz)',\n",
    "      'Centro Médico Quirónsalud Valle del Henares (Alcalá de Henares)',\n",
    "      'Hospital Quirónsalud San José',\n",
    "      'Olympia - Grupo Quirónsalud',\n",
    "      'Hospital Universitario Ruber Juan Bravo (C/ Juan Bravo, 39)',\n",
    "      'Hospital Universitario Ruber Juan Bravo (C/Juan Bravo, 49)',\n",
    "      'Hospital Quirónsalud Sur', \n",
    "      'Hospital  Universitario La Luz',\n",
    "      'Centro Médico Ruber Juan Bravo',\n",
    "      'Centro de Rehabilitación Ruber Juan Bravo',\n",
    "      'Consultas Externas Hospital Quirónsalud San José',\n",
    "       'Centro Médico Quirónsalud Valdebebas',\n",
    "      'Consultas Externas Hospital Quirónsalud Sur',\n",
    "      'Centro Médico Quirónsalud Tres Cantos']"
   ]
  },
  {
   "cell_type": "code",
   "execution_count": 73,
   "id": "b74bb71e",
   "metadata": {},
   "outputs": [],
   "source": [
    "T_Barcelona_Valles = ['Hospital Universitari Sagrat Cor',\n",
    "       'Hospital Quirónsalud del Vallés',\n",
    "      'Hospital Universitari General de Catalunya']"
   ]
  },
  {
   "cell_type": "code",
   "execution_count": 132,
   "id": "0bf88691",
   "metadata": {},
   "outputs": [],
   "source": [
    "T2 = ['Hospital Quirónsalud Badalona',\n",
    "       'Centro Médico Teknon',\n",
    "       'Hospital El Pilar',\n",
    "       'Hospital Universitari Dexeus', \n",
    "      'Hospital Quirónsalud Barcelona',\n",
    "      'Centre Mèdic Quirónsalud Rubí',\n",
    "       'Centre Mèdic Quirónsalud Badalona Arbres',\n",
    "       'Centro Médico Quirónsalud Digest Marti Pujol',\n",
    "       'Hospital El Pilar – Consultas Externas Alfonso XII',\n",
    "       'Hospital El Pilar – Consultas Externas Balmes',\n",
    "       'Centro Médico Quirónsalud Dígest Laietania',\n",
    "       'Centro Médico Quirónsalud Aribau',\n",
    "     'Instituto Oncológico Quirónsalud Zaragoza',\n",
    "       'Hospital de Día Quirónsalud Huesca',\n",
    "       'Unidad de Pediatría Quirónsalud Zaragoza',\n",
    "       'Unidad de la Mujer de Quirónsalud Zaragoza',\n",
    "       'Hospital De Día Quirónsalud Zaragoza',\n",
    "     'Hospital Quirónsalud Zaragoza',\n",
    "     'Instituto Oftalmológico Quirónsalud Zaragoza',\n",
    "     'Laboratorio Análisis Clínicos – Hospital Universitari Dexeus']"
   ]
  },
  {
   "cell_type": "code",
   "execution_count": 127,
   "id": "31a41464",
   "metadata": {},
   "outputs": [],
   "source": [
    "T3 = ['Centro Médico Quirónsalud Sevilla Este',\n",
    "       'Centro Médico Quirónsalud Algeciras',\n",
    "       'Centro Médico Quirónsalud Parque Litoral',\n",
    "       'Centro Médico Quirónsalud Marbella',\n",
    "       'Centro Médico Quirónsalud Guadalete',\n",
    "       'Centro Médico Quirónsalud Condes de Bustillo',\n",
    "       'Centro Médico Quirónsalud Espartinas',\n",
    "       'Centro de Oftalmología Quirónsalud Marbella',\n",
    "       'Centro Médico Quirónsalud Costa del Sol',\n",
    "       'Centro Médico Quirónsalud Aljarafe',\n",
    "       'Hospital de Día Quirónsalud Ave María',\n",
    "       'Centro Médico Quirónsalud Alameda',\n",
    "       'Centro Médico Quirónsalud Manuel Siurot',\n",
    "       'Centro Médico Quirónsalud Los Remedios',\n",
    "       'Centro Médico Quirónsalud Mairena',\n",
    "       'Centro Médico Quirónsalud Málaga',\n",
    "       'Centro Médico Quirónsalud Nervión',\n",
    "       'Centro Médico Quirónsalud Fuengirola',\n",
    "     'Hospital Materno-Infantil Quirónsalud',\n",
    "       'Hospital Quirónsalud Málaga', 'Hospital Quirónsalud Huelva',\n",
    "       'Hospital Quirónsalud Marbella',\n",
    "       'Hospital Quironsalud Sagrado Corazón',\n",
    "       'Hospital Quirónsalud Córdoba',\n",
    "       'Hospital Quirónsalud Infanta Luisa',\n",
    "       'Hospital Quirónsalud Campo de Gibraltar',\n",
    "     'Centro de Rehabilitación Quirónsalud Huelva',\n",
    "       'Centro de Rehabilitación Quirónsalud Infanta Luisa',\n",
    "     'Centro Médico Quirónsalud']"
   ]
  },
  {
   "cell_type": "code",
   "execution_count": 85,
   "id": "c8986a2e",
   "metadata": {},
   "outputs": [],
   "source": [
    "T4 = ['Centro Médico Quirónsalud Murcia',\n",
    "       'Centro Médico Quirónsalud Blasco Ibañez',\n",
    "       'Centro Médico Quirónsalud Artes Gráficas',\n",
    "       'Centro Médico Quirónsalud Severo Ochoa',\n",
    "       'Centro Médico Quirónsalud Mercado de Colón',\n",
    "       'Centro Médico Quirónsalud Gran Alacant',\n",
    "       'Centro Médico Quirónsalud Elche',\n",
    "       'Centro Médico Quirónsalud Orihuela',\n",
    "      'Hospital Quirónsalud Torrevieja', 'Quirónsalud Alicante',\n",
    "       'Hospital Quirónsalud Murcia', 'Hospital Quirónsalud Valencia',\n",
    "      'Quirónsalud Dental y Unidad de Obesidad Quirónsalud Valencia'\n",
    "     ]"
   ]
  },
  {
   "cell_type": "code",
   "execution_count": 89,
   "id": "531d564f",
   "metadata": {},
   "outputs": [],
   "source": [
    "T5 = ['Policlínica Gipuzkoa', 'Hospital Quirónsalud Bizkaia',\n",
    "       'Hospital Quirónsalud Vitoria',\n",
    "      'Centro Médico Quirónsalud Plaza Euskadi',\n",
    "       'Hospital de Día Quirónsalud Donostia',\n",
    "      'Centro de Rehabilitación Quirónsalud Vitoria',\n",
    "       'Centro de Oftalmología Quirónsalud Vitoria'\n",
    "     ]"
   ]
  },
  {
   "cell_type": "code",
   "execution_count": 93,
   "id": "e9cfd7ea",
   "metadata": {},
   "outputs": [],
   "source": [
    "T6 = ['Centro de Rehabilitación Quirónsalud Talavera',\n",
    "      'Centro Médico Quirónsalud Plaza Madroño',\n",
    "       'Centro médico Quirónsalud Plaza Lodares ',\n",
    "       'Centro Médico Quirónsalud Toledo', 'Clínica Quirónsalud Alcázar',\n",
    "       'Centro Médico Quirónsalud Puertollano',\n",
    "       'Hospital de Día Quirónsalud Talavera',\n",
    "      'Hospital Quirónsalud Toledo', 'Hospital Quirónsalud Ciudad Real',\n",
    "       'Hospital Quirónsalud Albacete',\n",
    "       'Hospital Quirónsalud Santa Cristina'\n",
    "     ]"
   ]
  },
  {
   "cell_type": "code",
   "execution_count": 97,
   "id": "f9bddc94",
   "metadata": {},
   "outputs": [],
   "source": [
    "T7 = ['IERA Quirónsalud', 'IERA - Lisboa',\n",
    "       'Centro M. Quirónsalud Almendralejo',\n",
    "       'Centro M. Quirónsalud Don Benito',\n",
    "       'Centro Médico Quirónsalud Mérida',\n",
    "      'Hospital Quirónsalud Clideba', 'Hospital Quirónsalud Cáceres']"
   ]
  },
  {
   "cell_type": "code",
   "execution_count": 101,
   "id": "2afec436",
   "metadata": {},
   "outputs": [],
   "source": [
    "T8 = ['Quirónsalud Dental Inca', 'Quirónsalud Dental Manacor',\n",
    "       'Quirónsalud Dental Kids',\n",
    "     'Hospital Quirónsalud Son Verí',\n",
    "       'Hospital Quirónsalud Palmaplanas', 'Clínica Rotger',\n",
    "      'Centro Médico Quirónsalud Nuredduna',\n",
    "       'Centro Médico Quirónsalud Inca',\n",
    "       'Centro Médico Quirónsalud Manacor',\n",
    "       'Centro Médico Quirónsalud Palmanova',\n",
    "       'Hospital de Día Quirónsalud Playa de Muro']"
   ]
  },
  {
   "cell_type": "code",
   "execution_count": 105,
   "id": "bee4924a",
   "metadata": {},
   "outputs": [],
   "source": [
    "T9 = ['Centro Médico Vida La Laguna',\n",
    "       'Centro Médico Quirónsalud Los Cristianos',\n",
    "       'Centro médico Quirónsalud Vida Candelaria',\n",
    "       'Centro Médico Vida - Santa Úrsula',\n",
    "       'Centro Médico Vida - Icod de los Vinos',\n",
    "       'Centro Médico Vida Tejina',\n",
    "       'Centro Médico Vida - Puerto de la Cruz',\n",
    "       'Centro Médico Vida - Los Realejos',\n",
    "       'Centro Médico Quirónsalud Tenerife',\n",
    "      'Hospital Quirónsalud Vida', 'Hospital Quirónsalud Tenerife',\n",
    "       'Hospital Quirónsalud Costa Adeje'\n",
    "     ]"
   ]
  },
  {
   "cell_type": "code",
   "execution_count": 114,
   "id": "284ab86d",
   "metadata": {},
   "outputs": [],
   "source": [
    "T10 = ['Instituto de Neuro-rehabilitación Quirónsalud Pontevedra',\n",
    "       'Centro de Rehabilitación Quirónsalud Pontevedra',\n",
    "       'Instituto Oftalmológico Quirónsalud A Coruña',\n",
    "       'Centro Médico Quirónsalud Pontevedra',\n",
    "       'Centro Médico Quirónsalud A Coruña',\n",
    "       'Hospital Quirónsalud Lugo', 'Hospital Quirónsalud A Coruña',\n",
    "       'Hospital Quirónsalud Miguel Domínguez',\n",
    "      'Centro Médico Quirónsalud Ferrol']"
   ]
  },
  {
   "cell_type": "code",
   "execution_count": 134,
   "id": "f69f9f29",
   "metadata": {},
   "outputs": [
    {
     "data": {
      "text/plain": [
       "151"
      ]
     },
     "execution_count": 134,
     "metadata": {},
     "output_type": "execute_result"
    }
   ],
   "source": [
    "len(T_publicos_Madrid) + len(TRI) + len(T_corporativo) + len(T1) + len(T_Barcelona_Valles) + len(T2) + len(T3) + len(T4) + len(T5) + len(T6) + len(T7) + len(T8) + len(T9) + len(T10)\n",
    "# Me faltan 5 centros que no sé cuáles son \n",
    "# Ya tengo los 151"
   ]
  },
  {
   "cell_type": "code",
   "execution_count": 135,
   "id": "cc77efaa",
   "metadata": {},
   "outputs": [],
   "source": [
    "def dar_territorio(establecimiento):\n",
    "    if establecimiento in T_publicos_Madrid:\n",
    "        return 'Públicos Madrid'\n",
    "    elif establecimiento in T_corporativo:\n",
    "        return 'Corporativo'\n",
    "    elif establecimiento in TRI:\n",
    "        return 'TRI'\n",
    "    elif establecimiento in T1:\n",
    "        return 'T1'\n",
    "    elif establecimiento in T_Barcelona_Valles:\n",
    "        return 'Barcelona y Vallés'\n",
    "    elif establecimiento in T2:\n",
    "        return 'T2'\n",
    "    elif establecimiento in T3:\n",
    "        return 'T3'\n",
    "    elif establecimiento in T4:\n",
    "        return 'T4'\n",
    "    elif establecimiento in T5:\n",
    "        return 'T5'\n",
    "    elif establecimiento in T6:\n",
    "        return 'T6'\n",
    "    elif establecimiento in T7:\n",
    "        return 'T7'\n",
    "    elif establecimiento in T8:\n",
    "        return 'T8'\n",
    "    elif establecimiento in T9:\n",
    "        return 'T9'\n",
    "    elif establecimiento in T10:\n",
    "        return 'T10'\n",
    "    else:\n",
    "        return 'Desconocido'"
   ]
  },
  {
   "cell_type": "code",
   "execution_count": 136,
   "id": "287e86f1",
   "metadata": {},
   "outputs": [],
   "source": [
    "reviews2023['Territorio'] = reviews2023['Nombre del establecimiento'].apply(dar_territorio)"
   ]
  },
  {
   "cell_type": "code",
   "execution_count": 137,
   "id": "12658171",
   "metadata": {},
   "outputs": [
    {
     "data": {
      "text/html": [
       "<div>\n",
       "<style scoped>\n",
       "    .dataframe tbody tr th:only-of-type {\n",
       "        vertical-align: middle;\n",
       "    }\n",
       "\n",
       "    .dataframe tbody tr th {\n",
       "        vertical-align: top;\n",
       "    }\n",
       "\n",
       "    .dataframe thead th {\n",
       "        text-align: right;\n",
       "    }\n",
       "</style>\n",
       "<table border=\"1\" class=\"dataframe\">\n",
       "  <thead>\n",
       "    <tr style=\"text-align: right;\">\n",
       "      <th></th>\n",
       "      <th>Fecha</th>\n",
       "      <th>Nombre del establecimiento</th>\n",
       "      <th>groups</th>\n",
       "      <th>Dirección</th>\n",
       "      <th>Ciudad</th>\n",
       "      <th>Código postal</th>\n",
       "      <th>content</th>\n",
       "      <th>rating</th>\n",
       "      <th>tags</th>\n",
       "      <th>Tipografía</th>\n",
       "      <th>Territorio</th>\n",
       "    </tr>\n",
       "  </thead>\n",
       "  <tbody>\n",
       "  </tbody>\n",
       "</table>\n",
       "</div>"
      ],
      "text/plain": [
       "Empty DataFrame\n",
       "Columns: [Fecha, Nombre del establecimiento, groups, Dirección, Ciudad, Código postal, content, rating, tags, Tipografía, Territorio]\n",
       "Index: []"
      ]
     },
     "execution_count": 137,
     "metadata": {},
     "output_type": "execute_result"
    }
   ],
   "source": [
    "reviews2023[reviews2023['Territorio'] == 'Desconocido']"
   ]
  },
  {
   "cell_type": "code",
   "execution_count": 138,
   "id": "c2208181",
   "metadata": {},
   "outputs": [
    {
     "name": "stdout",
     "output_type": "stream",
     "text": [
      "<class 'pandas.core.frame.DataFrame'>\n",
      "RangeIndex: 23424 entries, 0 to 23423\n",
      "Data columns (total 11 columns):\n",
      " #   Column                      Non-Null Count  Dtype         \n",
      "---  ------                      --------------  -----         \n",
      " 0   Fecha                       23424 non-null  datetime64[ns]\n",
      " 1   Nombre del establecimiento  23424 non-null  object        \n",
      " 2   groups                      23424 non-null  object        \n",
      " 3   Dirección                   23424 non-null  object        \n",
      " 4   Ciudad                      23424 non-null  object        \n",
      " 5   Código postal               23424 non-null  object        \n",
      " 6   content                     18035 non-null  object        \n",
      " 7   rating                      23424 non-null  int64         \n",
      " 8   tags                        23424 non-null  object        \n",
      " 9   Tipografía                  23424 non-null  object        \n",
      " 10  Territorio                  23424 non-null  object        \n",
      "dtypes: datetime64[ns](1), int64(1), object(9)\n",
      "memory usage: 2.0+ MB\n"
     ]
    }
   ],
   "source": [
    "reviews2023.info()"
   ]
  },
  {
   "cell_type": "code",
   "execution_count": 139,
   "id": "03164cab",
   "metadata": {},
   "outputs": [],
   "source": [
    "reviews2023.drop('groups', axis=1, inplace=True)    # Ya no necesito groups, la elimino"
   ]
  },
  {
   "cell_type": "code",
   "execution_count": 143,
   "id": "34081bad",
   "metadata": {},
   "outputs": [],
   "source": [
    "# Ordeno las columnas en bonito\n",
    "reviews2023 = reviews2023[['Territorio', 'Tipografía', 'Fecha', 'Nombre del establecimiento', 'Dirección', 'Ciudad', 'Código postal', 'content', 'rating', 'tags']]"
   ]
  },
  {
   "cell_type": "code",
   "execution_count": 144,
   "id": "abd4dece",
   "metadata": {},
   "outputs": [
    {
     "name": "stdout",
     "output_type": "stream",
     "text": [
      "<class 'pandas.core.frame.DataFrame'>\n",
      "RangeIndex: 23424 entries, 0 to 23423\n",
      "Data columns (total 10 columns):\n",
      " #   Column                      Non-Null Count  Dtype         \n",
      "---  ------                      --------------  -----         \n",
      " 0   Territorio                  23424 non-null  object        \n",
      " 1   Tipografía                  23424 non-null  object        \n",
      " 2   Fecha                       23424 non-null  datetime64[ns]\n",
      " 3   Nombre del establecimiento  23424 non-null  object        \n",
      " 4   Dirección                   23424 non-null  object        \n",
      " 5   Ciudad                      23424 non-null  object        \n",
      " 6   Código postal               23424 non-null  object        \n",
      " 7   content                     18035 non-null  object        \n",
      " 8   rating                      23424 non-null  int64         \n",
      " 9   tags                        23424 non-null  object        \n",
      "dtypes: datetime64[ns](1), int64(1), object(8)\n",
      "memory usage: 1.8+ MB\n"
     ]
    }
   ],
   "source": [
    "reviews2023.info()"
   ]
  },
  {
   "cell_type": "code",
   "execution_count": 145,
   "id": "e6301125",
   "metadata": {},
   "outputs": [
    {
     "data": {
      "text/html": [
       "<div>\n",
       "<style scoped>\n",
       "    .dataframe tbody tr th:only-of-type {\n",
       "        vertical-align: middle;\n",
       "    }\n",
       "\n",
       "    .dataframe tbody tr th {\n",
       "        vertical-align: top;\n",
       "    }\n",
       "\n",
       "    .dataframe thead th {\n",
       "        text-align: right;\n",
       "    }\n",
       "</style>\n",
       "<table border=\"1\" class=\"dataframe\">\n",
       "  <thead>\n",
       "    <tr style=\"text-align: right;\">\n",
       "      <th></th>\n",
       "      <th>Territorio</th>\n",
       "      <th>Tipografía</th>\n",
       "      <th>Fecha</th>\n",
       "      <th>Nombre del establecimiento</th>\n",
       "      <th>Dirección</th>\n",
       "      <th>Ciudad</th>\n",
       "      <th>Código postal</th>\n",
       "      <th>content</th>\n",
       "      <th>rating</th>\n",
       "      <th>tags</th>\n",
       "    </tr>\n",
       "  </thead>\n",
       "  <tbody>\n",
       "    <tr>\n",
       "      <th>0</th>\n",
       "      <td>Barcelona y Vallés</td>\n",
       "      <td>Hospital</td>\n",
       "      <td>2023-03-03 10:23:17.895</td>\n",
       "      <td>Hospital Universitari Sagrat Cor</td>\n",
       "      <td>Carrer De Viladomat, 288</td>\n",
       "      <td>Barcelona</td>\n",
       "      <td>08029</td>\n",
       "      <td>Asistí hace días al hospital, y no pude recibi...</td>\n",
       "      <td>5</td>\n",
       "      <td>+ At. recibida</td>\n",
       "    </tr>\n",
       "    <tr>\n",
       "      <th>1</th>\n",
       "      <td>Barcelona y Vallés</td>\n",
       "      <td>Hospital</td>\n",
       "      <td>2023-03-02 18:40:07.989</td>\n",
       "      <td>Hospital Universitari Sagrat Cor</td>\n",
       "      <td>Carrer De Viladomat, 288</td>\n",
       "      <td>Barcelona</td>\n",
       "      <td>08029</td>\n",
       "      <td>Mi experiencia de la cirugía que me han hecho ...</td>\n",
       "      <td>5</td>\n",
       "      <td>+ At. recibida</td>\n",
       "    </tr>\n",
       "    <tr>\n",
       "      <th>2</th>\n",
       "      <td>Barcelona y Vallés</td>\n",
       "      <td>Hospital</td>\n",
       "      <td>2023-03-02 12:08:30.997</td>\n",
       "      <td>Hospital Universitari Sagrat Cor</td>\n",
       "      <td>Carrer De Viladomat, 288</td>\n",
       "      <td>Barcelona</td>\n",
       "      <td>08029</td>\n",
       "      <td>La atención del 70% de auxiliares, enfermeras ...</td>\n",
       "      <td>1</td>\n",
       "      <td>- Disconf. tto.</td>\n",
       "    </tr>\n",
       "    <tr>\n",
       "      <th>3</th>\n",
       "      <td>Barcelona y Vallés</td>\n",
       "      <td>Hospital</td>\n",
       "      <td>2023-03-02 07:50:16.166</td>\n",
       "      <td>Hospital Universitari Sagrat Cor</td>\n",
       "      <td>Carrer De Viladomat, 288</td>\n",
       "      <td>Barcelona</td>\n",
       "      <td>08029</td>\n",
       "      <td>NaN</td>\n",
       "      <td>5</td>\n",
       "      <td>+ Sin comentario</td>\n",
       "    </tr>\n",
       "    <tr>\n",
       "      <th>4</th>\n",
       "      <td>Barcelona y Vallés</td>\n",
       "      <td>Hospital</td>\n",
       "      <td>2023-03-01 21:01:09.882</td>\n",
       "      <td>Hospital Universitari Sagrat Cor</td>\n",
       "      <td>Carrer De Viladomat, 288</td>\n",
       "      <td>Barcelona</td>\n",
       "      <td>08029</td>\n",
       "      <td>Gran hospital todo súper limpio , trato excepc...</td>\n",
       "      <td>5</td>\n",
       "      <td>+ At. recibida</td>\n",
       "    </tr>\n",
       "  </tbody>\n",
       "</table>\n",
       "</div>"
      ],
      "text/plain": [
       "           Territorio Tipografía                   Fecha  \\\n",
       "0  Barcelona y Vallés   Hospital 2023-03-03 10:23:17.895   \n",
       "1  Barcelona y Vallés   Hospital 2023-03-02 18:40:07.989   \n",
       "2  Barcelona y Vallés   Hospital 2023-03-02 12:08:30.997   \n",
       "3  Barcelona y Vallés   Hospital 2023-03-02 07:50:16.166   \n",
       "4  Barcelona y Vallés   Hospital 2023-03-01 21:01:09.882   \n",
       "\n",
       "         Nombre del establecimiento                 Dirección     Ciudad  \\\n",
       "0  Hospital Universitari Sagrat Cor  Carrer De Viladomat, 288  Barcelona   \n",
       "1  Hospital Universitari Sagrat Cor  Carrer De Viladomat, 288  Barcelona   \n",
       "2  Hospital Universitari Sagrat Cor  Carrer De Viladomat, 288  Barcelona   \n",
       "3  Hospital Universitari Sagrat Cor  Carrer De Viladomat, 288  Barcelona   \n",
       "4  Hospital Universitari Sagrat Cor  Carrer De Viladomat, 288  Barcelona   \n",
       "\n",
       "  Código postal                                            content  rating  \\\n",
       "0         08029  Asistí hace días al hospital, y no pude recibi...       5   \n",
       "1         08029  Mi experiencia de la cirugía que me han hecho ...       5   \n",
       "2         08029  La atención del 70% de auxiliares, enfermeras ...       1   \n",
       "3         08029                                                NaN       5   \n",
       "4         08029  Gran hospital todo súper limpio , trato excepc...       5   \n",
       "\n",
       "               tags  \n",
       "0    + At. recibida  \n",
       "1    + At. recibida  \n",
       "2   - Disconf. tto.  \n",
       "3  + Sin comentario  \n",
       "4    + At. recibida  "
      ]
     },
     "execution_count": 145,
     "metadata": {},
     "output_type": "execute_result"
    }
   ],
   "source": [
    "reviews2023.head()"
   ]
  },
  {
   "cell_type": "code",
   "execution_count": 147,
   "id": "fe870153",
   "metadata": {},
   "outputs": [],
   "source": [
    "reviews2023.to_csv('../our_reviews/clean_2023.csv', index=False)"
   ]
  },
  {
   "cell_type": "code",
   "execution_count": null,
   "id": "416bb078",
   "metadata": {},
   "outputs": [],
   "source": []
  }
 ],
 "metadata": {
  "kernelspec": {
   "display_name": "Python m2_env",
   "language": "python",
   "name": "m2_env"
  },
  "language_info": {
   "codemirror_mode": {
    "name": "ipython",
    "version": 3
   },
   "file_extension": ".py",
   "mimetype": "text/x-python",
   "name": "python",
   "nbconvert_exporter": "python",
   "pygments_lexer": "ipython3",
   "version": "3.8.18"
  }
 },
 "nbformat": 4,
 "nbformat_minor": 5
}
