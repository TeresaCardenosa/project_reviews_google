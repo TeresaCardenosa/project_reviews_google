{
 "cells": [
  {
   "cell_type": "code",
   "execution_count": 1,
   "id": "9de8c0a3",
   "metadata": {},
   "outputs": [],
   "source": [
    "import pandas as pd\n",
    "import matplotlib.pyplot as plt"
   ]
  },
  {
   "cell_type": "code",
   "execution_count": null,
   "id": "bdd0958f",
   "metadata": {},
   "outputs": [],
   "source": [
    "api_call_1 = pd.read_csv('../infanta_leonor/infanta_leonor_1.csv')\n",
    "api_call_2 = pd.read_csv('../infanta_leonor/infanta_leonor_2.csv')\n",
    "api_call_3 = pd.read_csv('../infanta_leonor/infanta_leonor_3.csv')\n",
    "api_call_4 = pd.read_csv('../infanta_leonor/infanta_leonor_4.csv')\n",
    "api_call_5 = pd.read_csv('../infanta_leonor/infanta_leonor_5.csv')\n",
    "api_call_6 = pd.read_csv('../infanta_leonor/infanta_leonor_6.csv')\n",
    "api_call_7 = pd.read_csv('../infanta_leonor/infanta_leonor_7.csv')\n",
    "api_call_8 = pd.read_csv('../infanta_leonor/infanta_leonor_8.csv')\n",
    "api_call_9 = pd.read_csv('../infanta_leonor/infanta_leonor_9.csv')\n",
    "api_call_10 = pd.read_csv('../infanta_leonor/infanta_leonor_10.csv')\n",
    "api_call_11 = pd.read_csv('../infanta_leonor/infanta_leonor_11.csv')\n",
    "api_call_12 = pd.read_csv('../infanta_leonor/infanta_leonor_12.csv')\n",
    "api_call_13 = pd.read_csv('../infanta_leonor/infanta_leonor_13.csv')\n",
    "api_call_14 = pd.read_csv('../infanta_leonor/infanta_leonor_14.csv')\n",
    "api_call_15 = pd.read_csv('../infanta_leonor/infanta_leonor_15.csv')\n",
    "api_call_16 = pd.read_csv('../infanta_leonor/infanta_leonor_16.csv')\n",
    "api_call_17 = pd.read_csv('../infanta_leonor/infanta_leonor_17.csv')\n",
    "api_call_18 = pd.read_csv('../infanta_leonor/infanta_leonor_18.csv')\n",
    "api_call_19 = pd.read_csv('../infanta_leonor/infanta_leonor_19.csv')\n",
    "api_call_20 = pd.read_csv('../infanta_leonor/infanta_leonor_20.csv')\n",
    "api_call_21 = pd.read_csv('../infanta_leonor/infanta_leonor_21.csv')\n",
    "api_call_22 = pd.read_csv('../infanta_leonor/infanta_leonor_22.csv')"
   ]
  },
  {
   "cell_type": "code",
   "execution_count": 2,
   "id": "d4346090",
   "metadata": {},
   "outputs": [],
   "source": [
    "api_call_1 = pd.read_csv('./zarzuela/zarzuela_1.csv')\n",
    "api_call_2 = pd.read_csv('./zarzuela/zarzuela_2.csv')\n",
    "api_call_3 = pd.read_csv('./zarzuela/zarzuela_3.csv')\n",
    "api_call_4 = pd.read_csv('./zarzuela/zarzuela_4.csv')\n",
    "api_call_5 = pd.read_csv('./zarzuela/zarzuela_5.csv')\n",
    "api_call_6 = pd.read_csv('./zarzuela/zarzuela_6.csv')\n",
    "api_call_7 = pd.read_csv('./zarzuela/zarzuela_7.csv')\n",
    "api_call_8 = pd.read_csv('./zarzuela/zarzuela_8.csv')\n",
    "api_call_9 = pd.read_csv('./zarzuela/zarzuela_9.csv')\n",
    "api_call_10 = pd.read_csv('./zarzuela/zarzuela_10.csv')\n",
    "api_call_11 = pd.read_csv('./zarzuela/zarzuela_11.csv')\n",
    "api_call_12 = pd.read_csv('./zarzuela/zarzuela_12.csv')\n"
   ]
  },
  {
   "cell_type": "code",
   "execution_count": 3,
   "id": "61f471d0",
   "metadata": {},
   "outputs": [
    {
     "data": {
      "text/html": [
       "<div>\n",
       "<style scoped>\n",
       "    .dataframe tbody tr th:only-of-type {\n",
       "        vertical-align: middle;\n",
       "    }\n",
       "\n",
       "    .dataframe tbody tr th {\n",
       "        vertical-align: top;\n",
       "    }\n",
       "\n",
       "    .dataframe thead th {\n",
       "        text-align: right;\n",
       "    }\n",
       "</style>\n",
       "<table border=\"1\" class=\"dataframe\">\n",
       "  <thead>\n",
       "    <tr style=\"text-align: right;\">\n",
       "      <th></th>\n",
       "      <th>Unnamed: 0</th>\n",
       "      <th>link</th>\n",
       "      <th>rating</th>\n",
       "      <th>date</th>\n",
       "      <th>source</th>\n",
       "      <th>review_id</th>\n",
       "      <th>snippet</th>\n",
       "      <th>user.name</th>\n",
       "      <th>user.link</th>\n",
       "      <th>user.contributor_id</th>\n",
       "      <th>...</th>\n",
       "      <th>extracted_snippet.original</th>\n",
       "      <th>extracted_snippet.translated</th>\n",
       "      <th>images</th>\n",
       "      <th>user.photos</th>\n",
       "      <th>response.date</th>\n",
       "      <th>response.snippet</th>\n",
       "      <th>response.extracted_snippet.original</th>\n",
       "      <th>response.extracted_snippet.translated</th>\n",
       "      <th>likes</th>\n",
       "      <th>user.local_guide</th>\n",
       "    </tr>\n",
       "  </thead>\n",
       "  <tbody>\n",
       "    <tr>\n",
       "      <th>0</th>\n",
       "      <td>0</td>\n",
       "      <td>https://www.google.com/maps/reviews/data=!4m8!...</td>\n",
       "      <td>1.0</td>\n",
       "      <td>a day ago</td>\n",
       "      <td>Google</td>\n",
       "      <td>ChdDSUhNMG9nS0VJQ0FnSUM5bE9MNF9RRRAB</td>\n",
       "      <td>Fui a urgencias el jueves 22/02 trasladada en ...</td>\n",
       "      <td>neuridicis almanzar</td>\n",
       "      <td>https://www.google.com/maps/contrib/1029204800...</td>\n",
       "      <td>102920480020699631513</td>\n",
       "      <td>...</td>\n",
       "      <td>Fui a urgencias el jueves 22/02 trasladada en ...</td>\n",
       "      <td>I went to the emergency room on Thursday 02/22...</td>\n",
       "      <td>NaN</td>\n",
       "      <td>NaN</td>\n",
       "      <td>NaN</td>\n",
       "      <td>NaN</td>\n",
       "      <td>NaN</td>\n",
       "      <td>NaN</td>\n",
       "      <td>NaN</td>\n",
       "      <td>NaN</td>\n",
       "    </tr>\n",
       "    <tr>\n",
       "      <th>1</th>\n",
       "      <td>1</td>\n",
       "      <td>https://www.google.com/maps/reviews/data=!4m8!...</td>\n",
       "      <td>1.0</td>\n",
       "      <td>5 days ago</td>\n",
       "      <td>Google</td>\n",
       "      <td>ChZDSUhNMG9nS0VJQ0FnSURkMjcyZmVREAE</td>\n",
       "      <td>Mi experiencia fue nefasta acudí 2 años atrás ...</td>\n",
       "      <td>Roxana Mihaela</td>\n",
       "      <td>https://www.google.com/maps/contrib/1064366732...</td>\n",
       "      <td>106436673250153847537</td>\n",
       "      <td>...</td>\n",
       "      <td>Mi experiencia fue nefasta acudí 2 años atrás ...</td>\n",
       "      <td>My experience was disastrous. I went 2 years a...</td>\n",
       "      <td>['https://lh5.googleusercontent.com/p/AF1QipPT...</td>\n",
       "      <td>4.0</td>\n",
       "      <td>NaN</td>\n",
       "      <td>NaN</td>\n",
       "      <td>NaN</td>\n",
       "      <td>NaN</td>\n",
       "      <td>NaN</td>\n",
       "      <td>NaN</td>\n",
       "    </tr>\n",
       "    <tr>\n",
       "      <th>2</th>\n",
       "      <td>2</td>\n",
       "      <td>https://www.google.com/maps/reviews/data=!4m8!...</td>\n",
       "      <td>5.0</td>\n",
       "      <td>5 days ago</td>\n",
       "      <td>Google</td>\n",
       "      <td>ChZDSUhNMG9nS0VJQ0FnSURkb19xN1dnEAE</td>\n",
       "      <td>He estado 10 días ingresado por una buena neum...</td>\n",
       "      <td>Jose Manuel Bernabe</td>\n",
       "      <td>https://www.google.com/maps/contrib/1015041714...</td>\n",
       "      <td>101504171412304044950</td>\n",
       "      <td>...</td>\n",
       "      <td>He estado 10 días ingresado por una buena neum...</td>\n",
       "      <td>I have been hospitalized for 10 days with seve...</td>\n",
       "      <td>NaN</td>\n",
       "      <td>NaN</td>\n",
       "      <td>NaN</td>\n",
       "      <td>NaN</td>\n",
       "      <td>NaN</td>\n",
       "      <td>NaN</td>\n",
       "      <td>NaN</td>\n",
       "      <td>NaN</td>\n",
       "    </tr>\n",
       "    <tr>\n",
       "      <th>3</th>\n",
       "      <td>3</td>\n",
       "      <td>https://www.google.com/maps/reviews/data=!4m8!...</td>\n",
       "      <td>5.0</td>\n",
       "      <td>a week ago</td>\n",
       "      <td>Google</td>\n",
       "      <td>ChdDSUhNMG9nS0VJQ0FnSURkaklfR2lRRRAB</td>\n",
       "      <td>Estuvimos ayer en urgencias a las 20:00, el tr...</td>\n",
       "      <td>Maria Hernandez</td>\n",
       "      <td>https://www.google.com/maps/contrib/1043470551...</td>\n",
       "      <td>104347055103865260490</td>\n",
       "      <td>...</td>\n",
       "      <td>Estuvimos ayer en urgencias a las 20:00, el tr...</td>\n",
       "      <td>We were in the emergency room yesterday at 8:0...</td>\n",
       "      <td>NaN</td>\n",
       "      <td>2.0</td>\n",
       "      <td>6 days ago</td>\n",
       "      <td>Hola Maria,\\n¡Gracias por una reseña tan posit...</td>\n",
       "      <td>Hola Maria,\\n¡Gracias por una reseña tan posit...</td>\n",
       "      <td>Hello Maria,\\nThank you for such a positive re...</td>\n",
       "      <td>NaN</td>\n",
       "      <td>NaN</td>\n",
       "    </tr>\n",
       "    <tr>\n",
       "      <th>4</th>\n",
       "      <td>4</td>\n",
       "      <td>https://www.google.com/maps/reviews/data=!4m8!...</td>\n",
       "      <td>5.0</td>\n",
       "      <td>2 weeks ago</td>\n",
       "      <td>Google</td>\n",
       "      <td>ChZDSUhNMG9nS0VJQ0FnSUNkOGIydGNREAE</td>\n",
       "      <td>Como siempre hay de todo, puedes tener más sue...</td>\n",
       "      <td>M R</td>\n",
       "      <td>https://www.google.com/maps/contrib/1020455072...</td>\n",
       "      <td>102045507213191941311</td>\n",
       "      <td>...</td>\n",
       "      <td>Como siempre hay de todo, puedes tener más sue...</td>\n",
       "      <td>As there is always everything, you can be more...</td>\n",
       "      <td>NaN</td>\n",
       "      <td>NaN</td>\n",
       "      <td>a week ago</td>\n",
       "      <td>Hola M,\\nGracias por dedicarnos tiempo y comun...</td>\n",
       "      <td>Hola M,\\nGracias por dedicarnos tiempo y comun...</td>\n",
       "      <td>Hello M,\\nThank you for taking the time and le...</td>\n",
       "      <td>NaN</td>\n",
       "      <td>NaN</td>\n",
       "    </tr>\n",
       "  </tbody>\n",
       "</table>\n",
       "<p>5 rows × 22 columns</p>\n",
       "</div>"
      ],
      "text/plain": [
       "   Unnamed: 0                                               link  rating  \\\n",
       "0           0  https://www.google.com/maps/reviews/data=!4m8!...     1.0   \n",
       "1           1  https://www.google.com/maps/reviews/data=!4m8!...     1.0   \n",
       "2           2  https://www.google.com/maps/reviews/data=!4m8!...     5.0   \n",
       "3           3  https://www.google.com/maps/reviews/data=!4m8!...     5.0   \n",
       "4           4  https://www.google.com/maps/reviews/data=!4m8!...     5.0   \n",
       "\n",
       "          date  source                             review_id  \\\n",
       "0    a day ago  Google  ChdDSUhNMG9nS0VJQ0FnSUM5bE9MNF9RRRAB   \n",
       "1   5 days ago  Google   ChZDSUhNMG9nS0VJQ0FnSURkMjcyZmVREAE   \n",
       "2   5 days ago  Google   ChZDSUhNMG9nS0VJQ0FnSURkb19xN1dnEAE   \n",
       "3   a week ago  Google  ChdDSUhNMG9nS0VJQ0FnSURkaklfR2lRRRAB   \n",
       "4  2 weeks ago  Google   ChZDSUhNMG9nS0VJQ0FnSUNkOGIydGNREAE   \n",
       "\n",
       "                                             snippet            user.name  \\\n",
       "0  Fui a urgencias el jueves 22/02 trasladada en ...  neuridicis almanzar   \n",
       "1  Mi experiencia fue nefasta acudí 2 años atrás ...       Roxana Mihaela   \n",
       "2  He estado 10 días ingresado por una buena neum...  Jose Manuel Bernabe   \n",
       "3  Estuvimos ayer en urgencias a las 20:00, el tr...      Maria Hernandez   \n",
       "4  Como siempre hay de todo, puedes tener más sue...                  M R   \n",
       "\n",
       "                                           user.link    user.contributor_id  \\\n",
       "0  https://www.google.com/maps/contrib/1029204800...  102920480020699631513   \n",
       "1  https://www.google.com/maps/contrib/1064366732...  106436673250153847537   \n",
       "2  https://www.google.com/maps/contrib/1015041714...  101504171412304044950   \n",
       "3  https://www.google.com/maps/contrib/1043470551...  104347055103865260490   \n",
       "4  https://www.google.com/maps/contrib/1020455072...  102045507213191941311   \n",
       "\n",
       "   ...                         extracted_snippet.original  \\\n",
       "0  ...  Fui a urgencias el jueves 22/02 trasladada en ...   \n",
       "1  ...  Mi experiencia fue nefasta acudí 2 años atrás ...   \n",
       "2  ...  He estado 10 días ingresado por una buena neum...   \n",
       "3  ...  Estuvimos ayer en urgencias a las 20:00, el tr...   \n",
       "4  ...  Como siempre hay de todo, puedes tener más sue...   \n",
       "\n",
       "                        extracted_snippet.translated  \\\n",
       "0  I went to the emergency room on Thursday 02/22...   \n",
       "1  My experience was disastrous. I went 2 years a...   \n",
       "2  I have been hospitalized for 10 days with seve...   \n",
       "3  We were in the emergency room yesterday at 8:0...   \n",
       "4  As there is always everything, you can be more...   \n",
       "\n",
       "                                              images user.photos  \\\n",
       "0                                                NaN         NaN   \n",
       "1  ['https://lh5.googleusercontent.com/p/AF1QipPT...         4.0   \n",
       "2                                                NaN         NaN   \n",
       "3                                                NaN         2.0   \n",
       "4                                                NaN         NaN   \n",
       "\n",
       "  response.date                                   response.snippet  \\\n",
       "0           NaN                                                NaN   \n",
       "1           NaN                                                NaN   \n",
       "2           NaN                                                NaN   \n",
       "3    6 days ago  Hola Maria,\\n¡Gracias por una reseña tan posit...   \n",
       "4    a week ago  Hola M,\\nGracias por dedicarnos tiempo y comun...   \n",
       "\n",
       "                 response.extracted_snippet.original  \\\n",
       "0                                                NaN   \n",
       "1                                                NaN   \n",
       "2                                                NaN   \n",
       "3  Hola Maria,\\n¡Gracias por una reseña tan posit...   \n",
       "4  Hola M,\\nGracias por dedicarnos tiempo y comun...   \n",
       "\n",
       "               response.extracted_snippet.translated likes user.local_guide  \n",
       "0                                                NaN   NaN              NaN  \n",
       "1                                                NaN   NaN              NaN  \n",
       "2                                                NaN   NaN              NaN  \n",
       "3  Hello Maria,\\nThank you for such a positive re...   NaN              NaN  \n",
       "4  Hello M,\\nThank you for taking the time and le...   NaN              NaN  \n",
       "\n",
       "[5 rows x 22 columns]"
      ]
     },
     "execution_count": 3,
     "metadata": {},
     "output_type": "execute_result"
    }
   ],
   "source": [
    "api_call_1.head()"
   ]
  },
  {
   "cell_type": "code",
   "execution_count": 4,
   "id": "e2a44f93",
   "metadata": {},
   "outputs": [
    {
     "name": "stdout",
     "output_type": "stream",
     "text": [
      "<class 'pandas.core.frame.DataFrame'>\n",
      "RangeIndex: 10 entries, 0 to 9\n",
      "Data columns (total 22 columns):\n",
      " #   Column                                 Non-Null Count  Dtype  \n",
      "---  ------                                 --------------  -----  \n",
      " 0   Unnamed: 0                             10 non-null     int64  \n",
      " 1   link                                   10 non-null     object \n",
      " 2   rating                                 10 non-null     float64\n",
      " 3   date                                   10 non-null     object \n",
      " 4   source                                 10 non-null     object \n",
      " 5   review_id                              10 non-null     object \n",
      " 6   snippet                                10 non-null     object \n",
      " 7   user.name                              10 non-null     object \n",
      " 8   user.link                              10 non-null     object \n",
      " 9   user.contributor_id                    10 non-null     object \n",
      " 10  user.thumbnail                         10 non-null     object \n",
      " 11  user.reviews                           10 non-null     int64  \n",
      " 12  extracted_snippet.original             10 non-null     object \n",
      " 13  extracted_snippet.translated           10 non-null     object \n",
      " 14  images                                 1 non-null      object \n",
      " 15  user.photos                            5 non-null      float64\n",
      " 16  response.date                          7 non-null      object \n",
      " 17  response.snippet                       7 non-null      object \n",
      " 18  response.extracted_snippet.original    7 non-null      object \n",
      " 19  response.extracted_snippet.translated  7 non-null      object \n",
      " 20  likes                                  3 non-null      float64\n",
      " 21  user.local_guide                       2 non-null      object \n",
      "dtypes: float64(3), int64(2), object(17)\n",
      "memory usage: 1.8+ KB\n"
     ]
    }
   ],
   "source": [
    "api_call_1.info()"
   ]
  },
  {
   "cell_type": "code",
   "execution_count": 5,
   "id": "77fadc0a",
   "metadata": {},
   "outputs": [
    {
     "data": {
      "text/plain": [
       "'Fui a urgencias el jueves 22/02 trasladada en ambulancia por un dolor en la pierna izquierda, por una ciática  y al llegar al hospital lo primero que dijeron que porque me habían llevado allí si ellos tenían las ambulancias paradas porque no tenían camas, y así tuve que quedarme en un box de urgencias a pasar la noche, sin dormir por todo el ruido y la incomodidad, sin baño, sin poderse quedar un acompañante, en fin una vergüenza y al otro día luego de hacerme una epidural y una radiofrecuencia me mandaron a casa una hora después de ese proceso tan doloroso sin haberme dejado en la REA por lo menos un tiempo prudente para darme el alta. Un trato inhumano por lo menos del Dr de urgencias quien fue que decidió darme el alta. Soy cliente de Sanitas desde hace más de 7 años, y este trato no se lo merece nadie'"
      ]
     },
     "execution_count": 5,
     "metadata": {},
     "output_type": "execute_result"
    }
   ],
   "source": [
    "api_call_1['snippet'][0]"
   ]
  },
  {
   "cell_type": "code",
   "execution_count": 6,
   "id": "d1960fb8",
   "metadata": {},
   "outputs": [
    {
     "data": {
      "text/plain": [
       "'Fui a urgencias el jueves 22/02 trasladada en ambulancia por un dolor en la pierna izquierda, por una ciática  y al llegar al hospital lo primero que dijeron que porque me habían llevado allí si ellos tenían las ambulancias paradas porque no tenían camas, y así tuve que quedarme en un box de urgencias a pasar la noche, sin dormir por todo el ruido y la incomodidad, sin baño, sin poderse quedar un acompañante, en fin una vergüenza y al otro día luego de hacerme una epidural y una radiofrecuencia me mandaron a casa una hora después de ese proceso tan doloroso sin haberme dejado en la REA por lo menos un tiempo prudente para darme el alta. Un trato inhumano por lo menos del Dr de urgencias quien fue que decidió darme el alta. Soy cliente de Sanitas desde hace más de 7 años, y este trato no se lo merece nadie'"
      ]
     },
     "execution_count": 6,
     "metadata": {},
     "output_type": "execute_result"
    }
   ],
   "source": [
    "api_call_1['extracted_snippet.original'][0]"
   ]
  },
  {
   "cell_type": "code",
   "execution_count": 7,
   "id": "8e586fd1",
   "metadata": {},
   "outputs": [
    {
     "data": {
      "text/plain": [
       "'Mi experiencia fue nefasta acudí 2 años atrás para una operación de nariz tanto estética como por salud, de la cual me salió horrible, la nariz se me quedo mas torcida, las fosas nasales desiguales y el tabique también torcido de tal manera que se veía a simple vista, a eso que vuelvo para las revisiones y efectivamente el médico (Doctor Antonio Lara Peinado ) me dice que han salido muchas cosas mal y que me van a tener que volver a operar, asi que pasado un año me volví a someter a otra cirugía para reparar los fallos que habían cometido… , un año mas tarde y después de dos cirugías mi nariz se sigue viendo torcida la punta con desniveles y en el tabique con bolas de cartílagos a la que vuelvo a la clínica para la revisión y adivinen que me dice? Que me tienen que volver a operar para arreglarlo otra vez .\\nPERO VOSOTROS DE VERDAD SOIS CONSIENTES DE QUE YO A PARTE DE PAGAR 5.000€ POR ALGO QUE ME TENIA QUE SALIR BIEN DESDE EL PRIMER MOMENTO ME TENGA QUE SOMETER A 3 OPERACIÓNES????\\n2 AÑOS SEGUIDOS A ANESTESIA A RECUPERACIONES DOLOROSAS A VERME CONSTANTEMENTE MAL CON MI NARIZ… QUE VERGÜENZA DE VERDAD MUCHO PRIVADO, PRIVADO Y LUEGO PERSONAS NO CUALIFICADAS EN EL ÁMBITO\\nTENGAN MUCHO CUIDADOO CON QUIEN SE OPEREN\\nTOMARE MEDIDAS LEGALES…\\nESTO ES UNA VERGÜENZA'"
      ]
     },
     "execution_count": 7,
     "metadata": {},
     "output_type": "execute_result"
    }
   ],
   "source": [
    "api_call_1['snippet'][1]"
   ]
  },
  {
   "cell_type": "code",
   "execution_count": 8,
   "id": "d64b0458",
   "metadata": {},
   "outputs": [
    {
     "data": {
      "text/plain": [
       "'Mi experiencia fue nefasta acudí 2 años atrás para una operación de nariz tanto estética como por salud, de la cual me salió horrible, la nariz se me quedo mas torcida, las fosas nasales desiguales y el tabique también torcido de tal manera que se veía a simple vista, a eso que vuelvo para las revisiones y efectivamente el médico (Doctor Antonio Lara Peinado ) me dice que han salido muchas cosas mal y que me van a tener que volver a operar, asi que pasado un año me volví a someter a otra cirugía para reparar los fallos que habían cometido… , un año mas tarde y después de dos cirugías mi nariz se sigue viendo torcida la punta con desniveles y en el tabique con bolas de cartílagos a la que vuelvo a la clínica para la revisión y adivinen que me dice? Que me tienen que volver a operar para arreglarlo otra vez .\\nPERO VOSOTROS DE VERDAD SOIS CONSIENTES DE QUE YO A PARTE DE PAGAR 5.000€ POR ALGO QUE ME TENIA QUE SALIR BIEN DESDE EL PRIMER MOMENTO ME TENGA QUE SOMETER A 3 OPERACIÓNES????\\n2 AÑOS SEGUIDOS A ANESTESIA A RECUPERACIONES DOLOROSAS A VERME CONSTANTEMENTE MAL CON MI NARIZ… QUE VERGÜENZA DE VERDAD MUCHO PRIVADO, PRIVADO Y LUEGO PERSONAS NO CUALIFICADAS EN EL ÁMBITO\\nTENGAN MUCHO CUIDADOO CON QUIEN SE OPEREN\\nTOMARE MEDIDAS LEGALES…\\nESTO ES UNA VERGÜENZA'"
      ]
     },
     "execution_count": 8,
     "metadata": {},
     "output_type": "execute_result"
    }
   ],
   "source": [
    "api_call_1['extracted_snippet.original'][1]"
   ]
  },
  {
   "cell_type": "code",
   "execution_count": 9,
   "id": "2afa5153",
   "metadata": {},
   "outputs": [
    {
     "name": "stdout",
     "output_type": "stream",
     "text": [
      "Es igual\n"
     ]
    }
   ],
   "source": [
    "if api_call_1['snippet'].equals(api_call_1['extracted_snippet.original']):\n",
    "    print('Es igual')\n",
    "else:\n",
    "    print('Hay algo distinto')"
   ]
  },
  {
   "cell_type": "markdown",
   "id": "a38440d8",
   "metadata": {},
   "source": [
    "## 1. Concat"
   ]
  },
  {
   "cell_type": "code",
   "execution_count": 10,
   "id": "f4f185c5",
   "metadata": {},
   "outputs": [
    {
     "data": {
      "text/plain": [
       "10"
      ]
     },
     "execution_count": 10,
     "metadata": {},
     "output_type": "execute_result"
    }
   ],
   "source": [
    "len(api_call_10)"
   ]
  },
  {
   "cell_type": "code",
   "execution_count": 11,
   "id": "33e65ccd",
   "metadata": {},
   "outputs": [],
   "source": [
    "df_zarzuela = pd.concat([api_call_1,\n",
    "                        api_call_2,\n",
    "                        api_call_3,\n",
    "                        api_call_4,\n",
    "                        api_call_5,\n",
    "                        api_call_6,\n",
    "                        api_call_7,\n",
    "                        api_call_8,\n",
    "                        api_call_9,\n",
    "                        api_call_10,\n",
    "                        api_call_11,\n",
    "                        api_call_12], sort=False, ignore_index=True)"
   ]
  },
  {
   "cell_type": "code",
   "execution_count": 12,
   "id": "86b07a8b",
   "metadata": {},
   "outputs": [
    {
     "data": {
      "text/html": [
       "<div>\n",
       "<style scoped>\n",
       "    .dataframe tbody tr th:only-of-type {\n",
       "        vertical-align: middle;\n",
       "    }\n",
       "\n",
       "    .dataframe tbody tr th {\n",
       "        vertical-align: top;\n",
       "    }\n",
       "\n",
       "    .dataframe thead th {\n",
       "        text-align: right;\n",
       "    }\n",
       "</style>\n",
       "<table border=\"1\" class=\"dataframe\">\n",
       "  <thead>\n",
       "    <tr style=\"text-align: right;\">\n",
       "      <th></th>\n",
       "      <th>Unnamed: 0</th>\n",
       "      <th>link</th>\n",
       "      <th>rating</th>\n",
       "      <th>date</th>\n",
       "      <th>source</th>\n",
       "      <th>review_id</th>\n",
       "      <th>snippet</th>\n",
       "      <th>user.name</th>\n",
       "      <th>user.link</th>\n",
       "      <th>user.contributor_id</th>\n",
       "      <th>...</th>\n",
       "      <th>user.photos</th>\n",
       "      <th>response.date</th>\n",
       "      <th>response.snippet</th>\n",
       "      <th>response.extracted_snippet.original</th>\n",
       "      <th>response.extracted_snippet.translated</th>\n",
       "      <th>likes</th>\n",
       "      <th>user.local_guide</th>\n",
       "      <th>details.nota_editada</th>\n",
       "      <th>details.en_resumen</th>\n",
       "      <th>details.no_me_deja_responderos_por_lo_que_edito_22_08_23_10</th>\n",
       "    </tr>\n",
       "  </thead>\n",
       "  <tbody>\n",
       "    <tr>\n",
       "      <th>0</th>\n",
       "      <td>0</td>\n",
       "      <td>https://www.google.com/maps/reviews/data=!4m8!...</td>\n",
       "      <td>1.0</td>\n",
       "      <td>a day ago</td>\n",
       "      <td>Google</td>\n",
       "      <td>ChdDSUhNMG9nS0VJQ0FnSUM5bE9MNF9RRRAB</td>\n",
       "      <td>Fui a urgencias el jueves 22/02 trasladada en ...</td>\n",
       "      <td>neuridicis almanzar</td>\n",
       "      <td>https://www.google.com/maps/contrib/1029204800...</td>\n",
       "      <td>102920480020699631513</td>\n",
       "      <td>...</td>\n",
       "      <td>NaN</td>\n",
       "      <td>NaN</td>\n",
       "      <td>NaN</td>\n",
       "      <td>NaN</td>\n",
       "      <td>NaN</td>\n",
       "      <td>NaN</td>\n",
       "      <td>NaN</td>\n",
       "      <td>NaN</td>\n",
       "      <td>NaN</td>\n",
       "      <td>NaN</td>\n",
       "    </tr>\n",
       "    <tr>\n",
       "      <th>1</th>\n",
       "      <td>1</td>\n",
       "      <td>https://www.google.com/maps/reviews/data=!4m8!...</td>\n",
       "      <td>1.0</td>\n",
       "      <td>5 days ago</td>\n",
       "      <td>Google</td>\n",
       "      <td>ChZDSUhNMG9nS0VJQ0FnSURkMjcyZmVREAE</td>\n",
       "      <td>Mi experiencia fue nefasta acudí 2 años atrás ...</td>\n",
       "      <td>Roxana Mihaela</td>\n",
       "      <td>https://www.google.com/maps/contrib/1064366732...</td>\n",
       "      <td>106436673250153847537</td>\n",
       "      <td>...</td>\n",
       "      <td>4.0</td>\n",
       "      <td>NaN</td>\n",
       "      <td>NaN</td>\n",
       "      <td>NaN</td>\n",
       "      <td>NaN</td>\n",
       "      <td>NaN</td>\n",
       "      <td>NaN</td>\n",
       "      <td>NaN</td>\n",
       "      <td>NaN</td>\n",
       "      <td>NaN</td>\n",
       "    </tr>\n",
       "    <tr>\n",
       "      <th>2</th>\n",
       "      <td>2</td>\n",
       "      <td>https://www.google.com/maps/reviews/data=!4m8!...</td>\n",
       "      <td>5.0</td>\n",
       "      <td>5 days ago</td>\n",
       "      <td>Google</td>\n",
       "      <td>ChZDSUhNMG9nS0VJQ0FnSURkb19xN1dnEAE</td>\n",
       "      <td>He estado 10 días ingresado por una buena neum...</td>\n",
       "      <td>Jose Manuel Bernabe</td>\n",
       "      <td>https://www.google.com/maps/contrib/1015041714...</td>\n",
       "      <td>101504171412304044950</td>\n",
       "      <td>...</td>\n",
       "      <td>NaN</td>\n",
       "      <td>NaN</td>\n",
       "      <td>NaN</td>\n",
       "      <td>NaN</td>\n",
       "      <td>NaN</td>\n",
       "      <td>NaN</td>\n",
       "      <td>NaN</td>\n",
       "      <td>NaN</td>\n",
       "      <td>NaN</td>\n",
       "      <td>NaN</td>\n",
       "    </tr>\n",
       "    <tr>\n",
       "      <th>3</th>\n",
       "      <td>3</td>\n",
       "      <td>https://www.google.com/maps/reviews/data=!4m8!...</td>\n",
       "      <td>5.0</td>\n",
       "      <td>a week ago</td>\n",
       "      <td>Google</td>\n",
       "      <td>ChdDSUhNMG9nS0VJQ0FnSURkaklfR2lRRRAB</td>\n",
       "      <td>Estuvimos ayer en urgencias a las 20:00, el tr...</td>\n",
       "      <td>Maria Hernandez</td>\n",
       "      <td>https://www.google.com/maps/contrib/1043470551...</td>\n",
       "      <td>104347055103865260490</td>\n",
       "      <td>...</td>\n",
       "      <td>2.0</td>\n",
       "      <td>6 days ago</td>\n",
       "      <td>Hola Maria,\\n¡Gracias por una reseña tan posit...</td>\n",
       "      <td>Hola Maria,\\n¡Gracias por una reseña tan posit...</td>\n",
       "      <td>Hello Maria,\\nThank you for such a positive re...</td>\n",
       "      <td>NaN</td>\n",
       "      <td>NaN</td>\n",
       "      <td>NaN</td>\n",
       "      <td>NaN</td>\n",
       "      <td>NaN</td>\n",
       "    </tr>\n",
       "    <tr>\n",
       "      <th>4</th>\n",
       "      <td>4</td>\n",
       "      <td>https://www.google.com/maps/reviews/data=!4m8!...</td>\n",
       "      <td>5.0</td>\n",
       "      <td>2 weeks ago</td>\n",
       "      <td>Google</td>\n",
       "      <td>ChZDSUhNMG9nS0VJQ0FnSUNkOGIydGNREAE</td>\n",
       "      <td>Como siempre hay de todo, puedes tener más sue...</td>\n",
       "      <td>M R</td>\n",
       "      <td>https://www.google.com/maps/contrib/1020455072...</td>\n",
       "      <td>102045507213191941311</td>\n",
       "      <td>...</td>\n",
       "      <td>NaN</td>\n",
       "      <td>a week ago</td>\n",
       "      <td>Hola M,\\nGracias por dedicarnos tiempo y comun...</td>\n",
       "      <td>Hola M,\\nGracias por dedicarnos tiempo y comun...</td>\n",
       "      <td>Hello M,\\nThank you for taking the time and le...</td>\n",
       "      <td>NaN</td>\n",
       "      <td>NaN</td>\n",
       "      <td>NaN</td>\n",
       "      <td>NaN</td>\n",
       "      <td>NaN</td>\n",
       "    </tr>\n",
       "    <tr>\n",
       "      <th>...</th>\n",
       "      <td>...</td>\n",
       "      <td>...</td>\n",
       "      <td>...</td>\n",
       "      <td>...</td>\n",
       "      <td>...</td>\n",
       "      <td>...</td>\n",
       "      <td>...</td>\n",
       "      <td>...</td>\n",
       "      <td>...</td>\n",
       "      <td>...</td>\n",
       "      <td>...</td>\n",
       "      <td>...</td>\n",
       "      <td>...</td>\n",
       "      <td>...</td>\n",
       "      <td>...</td>\n",
       "      <td>...</td>\n",
       "      <td>...</td>\n",
       "      <td>...</td>\n",
       "      <td>...</td>\n",
       "      <td>...</td>\n",
       "      <td>...</td>\n",
       "    </tr>\n",
       "    <tr>\n",
       "      <th>115</th>\n",
       "      <td>5</td>\n",
       "      <td>https://www.google.com/maps/reviews/data=!4m8!...</td>\n",
       "      <td>5.0</td>\n",
       "      <td>a year ago</td>\n",
       "      <td>Google</td>\n",
       "      <td>ChdDSUhNMG9nS0VJQ0FnSURobUlPR2xBRRAB</td>\n",
       "      <td>Trato humano, profesionales estupendos y magní...</td>\n",
       "      <td>RC</td>\n",
       "      <td>https://www.google.com/maps/contrib/1129516391...</td>\n",
       "      <td>112951639137445518211</td>\n",
       "      <td>...</td>\n",
       "      <td>14.0</td>\n",
       "      <td>11 months ago</td>\n",
       "      <td>Queremos agradecer tus opiniones y sugerencias...</td>\n",
       "      <td>Queremos agradecer tus opiniones y sugerencias...</td>\n",
       "      <td>We want to thank you for your opinions and sug...</td>\n",
       "      <td>NaN</td>\n",
       "      <td>True</td>\n",
       "      <td>NaN</td>\n",
       "      <td>NaN</td>\n",
       "      <td>NaN</td>\n",
       "    </tr>\n",
       "    <tr>\n",
       "      <th>116</th>\n",
       "      <td>6</td>\n",
       "      <td>https://www.google.com/maps/reviews/data=!4m8!...</td>\n",
       "      <td>1.0</td>\n",
       "      <td>a year ago</td>\n",
       "      <td>Google</td>\n",
       "      <td>ChZDSUhNMG9nS0VJQ0FnSURoNE1xb0JnEAE</td>\n",
       "      <td>Mal servicio por parte del dentista Vilar Sanc...</td>\n",
       "      <td>VM LL</td>\n",
       "      <td>https://www.google.com/maps/contrib/1050114432...</td>\n",
       "      <td>105011443280971505948</td>\n",
       "      <td>...</td>\n",
       "      <td>3.0</td>\n",
       "      <td>11 months ago</td>\n",
       "      <td>Sentimos la valoración obtenida. Estamos compr...</td>\n",
       "      <td>Sentimos la valoración obtenida. Estamos compr...</td>\n",
       "      <td>We are sorry for the evaluation obtained. We a...</td>\n",
       "      <td>7.0</td>\n",
       "      <td>True</td>\n",
       "      <td>NaN</td>\n",
       "      <td>NaN</td>\n",
       "      <td>NaN</td>\n",
       "    </tr>\n",
       "    <tr>\n",
       "      <th>117</th>\n",
       "      <td>7</td>\n",
       "      <td>https://www.google.com/maps/reviews/data=!4m8!...</td>\n",
       "      <td>5.0</td>\n",
       "      <td>a year ago</td>\n",
       "      <td>Google</td>\n",
       "      <td>ChdDSUhNMG9nS0VJQ0FnSUNodzRQZTR3RRAB</td>\n",
       "      <td>Quiero felicitar a Pilar la administrativa de ...</td>\n",
       "      <td>Mayte Bolaños</td>\n",
       "      <td>https://www.google.com/maps/contrib/1082250637...</td>\n",
       "      <td>108225063781146754260</td>\n",
       "      <td>...</td>\n",
       "      <td>NaN</td>\n",
       "      <td>a year ago</td>\n",
       "      <td>Hola Mayte,\\nGracias por dedicarnos tiempo y c...</td>\n",
       "      <td>Hola Mayte,\\nGracias por dedicarnos tiempo y c...</td>\n",
       "      <td>Hello Mayte,\\nThank you for taking the time an...</td>\n",
       "      <td>NaN</td>\n",
       "      <td>NaN</td>\n",
       "      <td>NaN</td>\n",
       "      <td>NaN</td>\n",
       "      <td>NaN</td>\n",
       "    </tr>\n",
       "    <tr>\n",
       "      <th>118</th>\n",
       "      <td>8</td>\n",
       "      <td>https://www.google.com/maps/reviews/data=!4m8!...</td>\n",
       "      <td>3.0</td>\n",
       "      <td>a year ago</td>\n",
       "      <td>Google</td>\n",
       "      <td>ChdDSUhNMG9nS0VJQ0FnSUNoNllTNXV3RRAB</td>\n",
       "      <td>Primero quiero resaltar el trabajo de la matro...</td>\n",
       "      <td>eugenia mindurry</td>\n",
       "      <td>https://www.google.com/maps/contrib/1114187750...</td>\n",
       "      <td>111418775019040645437</td>\n",
       "      <td>...</td>\n",
       "      <td>2.0</td>\n",
       "      <td>a year ago</td>\n",
       "      <td>Nos importa mucho tu opinión y nos gustaría da...</td>\n",
       "      <td>Nos importa mucho tu opinión y nos gustaría da...</td>\n",
       "      <td>Your opinion is very important to us and we wo...</td>\n",
       "      <td>4.0</td>\n",
       "      <td>NaN</td>\n",
       "      <td>NaN</td>\n",
       "      <td>NaN</td>\n",
       "      <td>NaN</td>\n",
       "    </tr>\n",
       "    <tr>\n",
       "      <th>119</th>\n",
       "      <td>9</td>\n",
       "      <td>https://www.google.com/maps/reviews/data=!4m8!...</td>\n",
       "      <td>1.0</td>\n",
       "      <td>a year ago</td>\n",
       "      <td>Google</td>\n",
       "      <td>ChZDSUhNMG9nS0VJQ0FnSUNLdS1IV0VREAE</td>\n",
       "      <td>Un año después solamente he tenido una respues...</td>\n",
       "      <td>Helena Hernández Herrero</td>\n",
       "      <td>https://www.google.com/maps/contrib/1062980756...</td>\n",
       "      <td>106298075672788972340</td>\n",
       "      <td>...</td>\n",
       "      <td>127.0</td>\n",
       "      <td>2 years ago</td>\n",
       "      <td>Sentimos la valoración obtenida, por favor, pa...</td>\n",
       "      <td>Sentimos la valoración obtenida, por favor, pa...</td>\n",
       "      <td>We are sorry for the evaluation obtained, plea...</td>\n",
       "      <td>8.0</td>\n",
       "      <td>True</td>\n",
       "      <td>NaN</td>\n",
       "      <td>NaN</td>\n",
       "      <td>NaN</td>\n",
       "    </tr>\n",
       "  </tbody>\n",
       "</table>\n",
       "<p>120 rows × 25 columns</p>\n",
       "</div>"
      ],
      "text/plain": [
       "     Unnamed: 0                                               link  rating  \\\n",
       "0             0  https://www.google.com/maps/reviews/data=!4m8!...     1.0   \n",
       "1             1  https://www.google.com/maps/reviews/data=!4m8!...     1.0   \n",
       "2             2  https://www.google.com/maps/reviews/data=!4m8!...     5.0   \n",
       "3             3  https://www.google.com/maps/reviews/data=!4m8!...     5.0   \n",
       "4             4  https://www.google.com/maps/reviews/data=!4m8!...     5.0   \n",
       "..          ...                                                ...     ...   \n",
       "115           5  https://www.google.com/maps/reviews/data=!4m8!...     5.0   \n",
       "116           6  https://www.google.com/maps/reviews/data=!4m8!...     1.0   \n",
       "117           7  https://www.google.com/maps/reviews/data=!4m8!...     5.0   \n",
       "118           8  https://www.google.com/maps/reviews/data=!4m8!...     3.0   \n",
       "119           9  https://www.google.com/maps/reviews/data=!4m8!...     1.0   \n",
       "\n",
       "            date  source                             review_id  \\\n",
       "0      a day ago  Google  ChdDSUhNMG9nS0VJQ0FnSUM5bE9MNF9RRRAB   \n",
       "1     5 days ago  Google   ChZDSUhNMG9nS0VJQ0FnSURkMjcyZmVREAE   \n",
       "2     5 days ago  Google   ChZDSUhNMG9nS0VJQ0FnSURkb19xN1dnEAE   \n",
       "3     a week ago  Google  ChdDSUhNMG9nS0VJQ0FnSURkaklfR2lRRRAB   \n",
       "4    2 weeks ago  Google   ChZDSUhNMG9nS0VJQ0FnSUNkOGIydGNREAE   \n",
       "..           ...     ...                                   ...   \n",
       "115   a year ago  Google  ChdDSUhNMG9nS0VJQ0FnSURobUlPR2xBRRAB   \n",
       "116   a year ago  Google   ChZDSUhNMG9nS0VJQ0FnSURoNE1xb0JnEAE   \n",
       "117   a year ago  Google  ChdDSUhNMG9nS0VJQ0FnSUNodzRQZTR3RRAB   \n",
       "118   a year ago  Google  ChdDSUhNMG9nS0VJQ0FnSUNoNllTNXV3RRAB   \n",
       "119   a year ago  Google   ChZDSUhNMG9nS0VJQ0FnSUNLdS1IV0VREAE   \n",
       "\n",
       "                                               snippet  \\\n",
       "0    Fui a urgencias el jueves 22/02 trasladada en ...   \n",
       "1    Mi experiencia fue nefasta acudí 2 años atrás ...   \n",
       "2    He estado 10 días ingresado por una buena neum...   \n",
       "3    Estuvimos ayer en urgencias a las 20:00, el tr...   \n",
       "4    Como siempre hay de todo, puedes tener más sue...   \n",
       "..                                                 ...   \n",
       "115  Trato humano, profesionales estupendos y magní...   \n",
       "116  Mal servicio por parte del dentista Vilar Sanc...   \n",
       "117  Quiero felicitar a Pilar la administrativa de ...   \n",
       "118  Primero quiero resaltar el trabajo de la matro...   \n",
       "119  Un año después solamente he tenido una respues...   \n",
       "\n",
       "                    user.name  \\\n",
       "0         neuridicis almanzar   \n",
       "1              Roxana Mihaela   \n",
       "2         Jose Manuel Bernabe   \n",
       "3             Maria Hernandez   \n",
       "4                         M R   \n",
       "..                        ...   \n",
       "115                        RC   \n",
       "116                     VM LL   \n",
       "117             Mayte Bolaños   \n",
       "118          eugenia mindurry   \n",
       "119  Helena Hernández Herrero   \n",
       "\n",
       "                                             user.link    user.contributor_id  \\\n",
       "0    https://www.google.com/maps/contrib/1029204800...  102920480020699631513   \n",
       "1    https://www.google.com/maps/contrib/1064366732...  106436673250153847537   \n",
       "2    https://www.google.com/maps/contrib/1015041714...  101504171412304044950   \n",
       "3    https://www.google.com/maps/contrib/1043470551...  104347055103865260490   \n",
       "4    https://www.google.com/maps/contrib/1020455072...  102045507213191941311   \n",
       "..                                                 ...                    ...   \n",
       "115  https://www.google.com/maps/contrib/1129516391...  112951639137445518211   \n",
       "116  https://www.google.com/maps/contrib/1050114432...  105011443280971505948   \n",
       "117  https://www.google.com/maps/contrib/1082250637...  108225063781146754260   \n",
       "118  https://www.google.com/maps/contrib/1114187750...  111418775019040645437   \n",
       "119  https://www.google.com/maps/contrib/1062980756...  106298075672788972340   \n",
       "\n",
       "     ... user.photos  response.date  \\\n",
       "0    ...         NaN            NaN   \n",
       "1    ...         4.0            NaN   \n",
       "2    ...         NaN            NaN   \n",
       "3    ...         2.0     6 days ago   \n",
       "4    ...         NaN     a week ago   \n",
       "..   ...         ...            ...   \n",
       "115  ...        14.0  11 months ago   \n",
       "116  ...         3.0  11 months ago   \n",
       "117  ...         NaN     a year ago   \n",
       "118  ...         2.0     a year ago   \n",
       "119  ...       127.0    2 years ago   \n",
       "\n",
       "                                      response.snippet  \\\n",
       "0                                                  NaN   \n",
       "1                                                  NaN   \n",
       "2                                                  NaN   \n",
       "3    Hola Maria,\\n¡Gracias por una reseña tan posit...   \n",
       "4    Hola M,\\nGracias por dedicarnos tiempo y comun...   \n",
       "..                                                 ...   \n",
       "115  Queremos agradecer tus opiniones y sugerencias...   \n",
       "116  Sentimos la valoración obtenida. Estamos compr...   \n",
       "117  Hola Mayte,\\nGracias por dedicarnos tiempo y c...   \n",
       "118  Nos importa mucho tu opinión y nos gustaría da...   \n",
       "119  Sentimos la valoración obtenida, por favor, pa...   \n",
       "\n",
       "                   response.extracted_snippet.original  \\\n",
       "0                                                  NaN   \n",
       "1                                                  NaN   \n",
       "2                                                  NaN   \n",
       "3    Hola Maria,\\n¡Gracias por una reseña tan posit...   \n",
       "4    Hola M,\\nGracias por dedicarnos tiempo y comun...   \n",
       "..                                                 ...   \n",
       "115  Queremos agradecer tus opiniones y sugerencias...   \n",
       "116  Sentimos la valoración obtenida. Estamos compr...   \n",
       "117  Hola Mayte,\\nGracias por dedicarnos tiempo y c...   \n",
       "118  Nos importa mucho tu opinión y nos gustaría da...   \n",
       "119  Sentimos la valoración obtenida, por favor, pa...   \n",
       "\n",
       "                 response.extracted_snippet.translated  likes  \\\n",
       "0                                                  NaN    NaN   \n",
       "1                                                  NaN    NaN   \n",
       "2                                                  NaN    NaN   \n",
       "3    Hello Maria,\\nThank you for such a positive re...    NaN   \n",
       "4    Hello M,\\nThank you for taking the time and le...    NaN   \n",
       "..                                                 ...    ...   \n",
       "115  We want to thank you for your opinions and sug...    NaN   \n",
       "116  We are sorry for the evaluation obtained. We a...    7.0   \n",
       "117  Hello Mayte,\\nThank you for taking the time an...    NaN   \n",
       "118  Your opinion is very important to us and we wo...    4.0   \n",
       "119  We are sorry for the evaluation obtained, plea...    8.0   \n",
       "\n",
       "    user.local_guide details.nota_editada details.en_resumen  \\\n",
       "0                NaN                  NaN                NaN   \n",
       "1                NaN                  NaN                NaN   \n",
       "2                NaN                  NaN                NaN   \n",
       "3                NaN                  NaN                NaN   \n",
       "4                NaN                  NaN                NaN   \n",
       "..               ...                  ...                ...   \n",
       "115             True                  NaN                NaN   \n",
       "116             True                  NaN                NaN   \n",
       "117              NaN                  NaN                NaN   \n",
       "118              NaN                  NaN                NaN   \n",
       "119             True                  NaN                NaN   \n",
       "\n",
       "    details.no_me_deja_responderos_por_lo_que_edito_22_08_23_10  \n",
       "0                                                  NaN           \n",
       "1                                                  NaN           \n",
       "2                                                  NaN           \n",
       "3                                                  NaN           \n",
       "4                                                  NaN           \n",
       "..                                                 ...           \n",
       "115                                                NaN           \n",
       "116                                                NaN           \n",
       "117                                                NaN           \n",
       "118                                                NaN           \n",
       "119                                                NaN           \n",
       "\n",
       "[120 rows x 25 columns]"
      ]
     },
     "execution_count": 12,
     "metadata": {},
     "output_type": "execute_result"
    }
   ],
   "source": [
    "df_zarzuela"
   ]
  },
  {
   "cell_type": "code",
   "execution_count": 53,
   "id": "aaf2e469",
   "metadata": {},
   "outputs": [
    {
     "name": "stdout",
     "output_type": "stream",
     "text": [
      "<class 'pandas.core.frame.DataFrame'>\n",
      "RangeIndex: 120 entries, 0 to 119\n",
      "Data columns (total 25 columns):\n",
      " #   Column                                                       Non-Null Count  Dtype  \n",
      "---  ------                                                       --------------  -----  \n",
      " 0   Unnamed: 0                                                   120 non-null    int64  \n",
      " 1   link                                                         120 non-null    object \n",
      " 2   rating                                                       120 non-null    float64\n",
      " 3   date                                                         120 non-null    object \n",
      " 4   source                                                       120 non-null    object \n",
      " 5   review_id                                                    120 non-null    object \n",
      " 6   snippet                                                      111 non-null    object \n",
      " 7   user.name                                                    120 non-null    object \n",
      " 8   user.link                                                    120 non-null    object \n",
      " 9   user.contributor_id                                          120 non-null    object \n",
      " 10  user.thumbnail                                               120 non-null    object \n",
      " 11  user.reviews                                                 119 non-null    float64\n",
      " 12  extracted_snippet.original                                   111 non-null    object \n",
      " 13  extracted_snippet.translated                                 111 non-null    object \n",
      " 14  images                                                       9 non-null      object \n",
      " 15  user.photos                                                  60 non-null     float64\n",
      " 16  response.date                                                114 non-null    object \n",
      " 17  response.snippet                                             114 non-null    object \n",
      " 18  response.extracted_snippet.original                          114 non-null    object \n",
      " 19  response.extracted_snippet.translated                        114 non-null    object \n",
      " 20  likes                                                        66 non-null     float64\n",
      " 21  user.local_guide                                             40 non-null     object \n",
      " 22  details.nota_editada                                         1 non-null      object \n",
      " 23  details.en_resumen                                           1 non-null      object \n",
      " 24  details.no_me_deja_responderos_por_lo_que_edito_22_08_23_10  1 non-null      object \n",
      "dtypes: float64(4), int64(1), object(20)\n",
      "memory usage: 23.6+ KB\n"
     ]
    }
   ],
   "source": [
    "df_zarzuela.info()"
   ]
  },
  {
   "cell_type": "markdown",
   "id": "dab4437e",
   "metadata": {},
   "source": [
    "## 2. Drop columns"
   ]
  },
  {
   "cell_type": "code",
   "execution_count": 54,
   "id": "b27a88e7",
   "metadata": {},
   "outputs": [],
   "source": [
    "drop_cols = ['link',\n",
    "            'source',\n",
    "            'review_id',\n",
    "            'user.name',\n",
    "            'user.link',\n",
    "            'user.contributor_id',\n",
    "            'user.thumbnail',\n",
    "            'user.reviews',\n",
    "            'extracted_snippet.original',\n",
    "            'extracted_snippet.translated', \n",
    "            'images',\n",
    "            'user.photos',\n",
    "            'response.extracted_snippet.original', \n",
    "            'response.extracted_snippet.translated',\n",
    "            'likes',\n",
    "            'user.local_guide',\n",
    "            'details.nota_editada',\n",
    "            'details.en_resumen',\n",
    "            'details.no_me_deja_responderos_por_lo_que_edito_22_08_23_10']"
   ]
  },
  {
   "cell_type": "code",
   "execution_count": 13,
   "id": "a0fa35bd",
   "metadata": {},
   "outputs": [],
   "source": [
    "def eliminar_columnas(df):\n",
    "    '''\n",
    "    Del DataFrame elimina las columnas que están en la lista drop_cols\n",
    "    Input: dataframe\n",
    "    Output: dataframe sin columnas de la lista\n",
    "    '''\n",
    "    drop_cols = ['Unnamed: 0',\n",
    "                 'link',\n",
    "                'source',\n",
    "                'review_id',\n",
    "                'user.name',\n",
    "                'user.link',\n",
    "                'user.contributor_id',\n",
    "                'user.thumbnail',\n",
    "                'user.reviews',\n",
    "                'extracted_snippet.original',\n",
    "                'extracted_snippet.translated', \n",
    "                'images',\n",
    "                'user.photos',\n",
    "                 'response.date',\n",
    "                 'response.snippet',\n",
    "                'response.extracted_snippet.original', \n",
    "                'response.extracted_snippet.translated',\n",
    "                'likes',\n",
    "                'user.local_guide',\n",
    "                'details.nota_editada',\n",
    "                'details.en_resumen',\n",
    "                'details.no_me_deja_responderos_por_lo_que_edito_22_08_23_10']\n",
    "    df = df.drop(columns=[columna for columna in drop_cols if columna in df.columns], errors='ignore')\n",
    "    print(f'Eliminadas las columnas innecesarias del DataFrame. Ahora cuenta con las siguientes columnas: ', len(df.columns))\n",
    "    return df"
   ]
  },
  {
   "cell_type": "code",
   "execution_count": 14,
   "id": "d66e10d3",
   "metadata": {},
   "outputs": [
    {
     "name": "stdout",
     "output_type": "stream",
     "text": [
      "Eliminadas las columnas innecesarias del DataFrame. Ahora cuenta con las siguientes columnas:  3\n"
     ]
    }
   ],
   "source": [
    "df_zarzuela = eliminar_columnas(df_zarzuela)"
   ]
  },
  {
   "cell_type": "markdown",
   "id": "c29d5bf6",
   "metadata": {},
   "source": [
    "## 3. Corrección en date"
   ]
  },
  {
   "cell_type": "code",
   "execution_count": 15,
   "id": "40f39d78",
   "metadata": {},
   "outputs": [
    {
     "name": "stdout",
     "output_type": "stream",
     "text": [
      "<class 'pandas.core.frame.DataFrame'>\n",
      "RangeIndex: 120 entries, 0 to 119\n",
      "Data columns (total 3 columns):\n",
      " #   Column   Non-Null Count  Dtype  \n",
      "---  ------   --------------  -----  \n",
      " 0   rating   120 non-null    float64\n",
      " 1   date     120 non-null    object \n",
      " 2   snippet  111 non-null    object \n",
      "dtypes: float64(1), object(2)\n",
      "memory usage: 2.9+ KB\n"
     ]
    }
   ],
   "source": [
    "df_zarzuela.info()"
   ]
  },
  {
   "cell_type": "code",
   "execution_count": 58,
   "id": "7446b1ae",
   "metadata": {},
   "outputs": [
    {
     "data": {
      "text/plain": [
       "7 months ago     18\n",
       "8 months ago     11\n",
       "3 months ago     11\n",
       "5 months ago     11\n",
       "4 months ago     10\n",
       "11 months ago     8\n",
       "6 months ago      7\n",
       "9 months ago      7\n",
       "a month ago       7\n",
       "2 months ago      7\n",
       "a year ago        6\n",
       "3 weeks ago       5\n",
       "10 months ago     5\n",
       "2 weeks ago       3\n",
       "5 days ago        2\n",
       "a week ago        1\n",
       "a day ago         1\n",
       "Name: date, dtype: int64"
      ]
     },
     "execution_count": 58,
     "metadata": {},
     "output_type": "execute_result"
    }
   ],
   "source": [
    "df_zarzuela['date'].value_counts()"
   ]
  },
  {
   "cell_type": "code",
   "execution_count": null,
   "id": "f293672e",
   "metadata": {},
   "outputs": [],
   "source": [
    "'a day ago', '5 days ago', 'a week ago', '2 weeks ago', '3 weeks ago' = FEBRERO 2024  2024-02-01\n",
    "'a month ago' = ENERO 2024 2024-01-01\n",
    "'2 months ago' = DICIEMBRE 2023 2023-12-01\n",
    "'3 moths ago' = NOVIEMBRE 2023 2023-11-01\n",
    "'4 months ago' = OCTUBRE 2023 2023-10-01\n",
    "'5 months ago' = SEPTIEMBRE 2023 2023-09-01\n",
    "'6 months ago' = AGOSTO 2023 2023-08-01\n",
    "'7 months ago' = JULIO 2023 2023-07-01\n",
    "'8 months ago' = JUNIO 2023 2023-06-01\n",
    "'9 months ago' = MAYO 2023 2023-05-01\n",
    "'10 months ago' = ABRIL 2023 2023-04-01\n",
    "'11 months ago' = MARZO 2023 2023-03-01"
   ]
  },
  {
   "cell_type": "code",
   "execution_count": 16,
   "id": "87ffffe4",
   "metadata": {},
   "outputs": [],
   "source": [
    "fechas = {\n",
    "    'a day ago': '2024-02-01',\n",
    "    '5 days ago': '2024-02-01',\n",
    "    'a week ago': '2024-02-01',\n",
    "    '2 weeks ago': '2024-02-01',\n",
    "    '3 weeks ago': '2024-02-01',\n",
    "    'a month ago': '2024-01-01',\n",
    "    '2 months ago': '2023-12-01',\n",
    "    '3 months ago': '2023-11-01',\n",
    "    '4 months ago': '2023-10-01',\n",
    "    '5 months ago': '2023-09-01',\n",
    "    '6 months ago': '2023-08-01',\n",
    "    '7 months ago': '2023-07-01',\n",
    "    '8 months ago': '2023-06-01',\n",
    "    '9 months ago': '2023-05-01',\n",
    "    '10 months ago': '2023-04-01',\n",
    "    '11 months ago': '2023-03-01',\n",
    "    'a year ago': 'eliminar'\n",
    "}"
   ]
  },
  {
   "cell_type": "code",
   "execution_count": 17,
   "id": "cdae8221",
   "metadata": {},
   "outputs": [],
   "source": [
    "df_zarzuela['Fecha'] = df_zarzuela['date'].map(fechas).fillna(pd.to_datetime(df_zarzuela['date'], errors='coerce'))"
   ]
  },
  {
   "cell_type": "code",
   "execution_count": 18,
   "id": "61f247f1",
   "metadata": {},
   "outputs": [
    {
     "name": "stdout",
     "output_type": "stream",
     "text": [
      "<class 'pandas.core.frame.DataFrame'>\n",
      "RangeIndex: 120 entries, 0 to 119\n",
      "Data columns (total 4 columns):\n",
      " #   Column   Non-Null Count  Dtype  \n",
      "---  ------   --------------  -----  \n",
      " 0   rating   120 non-null    float64\n",
      " 1   date     120 non-null    object \n",
      " 2   snippet  111 non-null    object \n",
      " 3   Fecha    120 non-null    object \n",
      "dtypes: float64(1), object(3)\n",
      "memory usage: 3.9+ KB\n"
     ]
    }
   ],
   "source": [
    "df_zarzuela.info()"
   ]
  },
  {
   "cell_type": "code",
   "execution_count": 106,
   "id": "f3723382",
   "metadata": {},
   "outputs": [
    {
     "name": "stdout",
     "output_type": "stream",
     "text": [
      "Empty DataFrame\n",
      "Columns: [rating, date, snippet, Fecha]\n",
      "Index: []\n"
     ]
    }
   ],
   "source": [
    "filas_nulas = df_zarzuela[df_zarzuela['Fecha'].isnull()]\n",
    "print(filas_nulas)"
   ]
  },
  {
   "cell_type": "code",
   "execution_count": 19,
   "id": "5cf47266",
   "metadata": {},
   "outputs": [],
   "source": [
    "df_zarzuela = df_zarzuela[df_zarzuela['Fecha'] != 'eliminar']"
   ]
  },
  {
   "cell_type": "code",
   "execution_count": 20,
   "id": "c81b1e6f",
   "metadata": {},
   "outputs": [
    {
     "name": "stdout",
     "output_type": "stream",
     "text": [
      "<class 'pandas.core.frame.DataFrame'>\n",
      "Int64Index: 114 entries, 0 to 113\n",
      "Data columns (total 4 columns):\n",
      " #   Column   Non-Null Count  Dtype  \n",
      "---  ------   --------------  -----  \n",
      " 0   rating   114 non-null    float64\n",
      " 1   date     114 non-null    object \n",
      " 2   snippet  105 non-null    object \n",
      " 3   Fecha    114 non-null    object \n",
      "dtypes: float64(1), object(3)\n",
      "memory usage: 4.5+ KB\n"
     ]
    }
   ],
   "source": [
    "df_zarzuela.info()"
   ]
  },
  {
   "cell_type": "code",
   "execution_count": 21,
   "id": "7d96ae2b",
   "metadata": {},
   "outputs": [
    {
     "data": {
      "text/html": [
       "<div>\n",
       "<style scoped>\n",
       "    .dataframe tbody tr th:only-of-type {\n",
       "        vertical-align: middle;\n",
       "    }\n",
       "\n",
       "    .dataframe tbody tr th {\n",
       "        vertical-align: top;\n",
       "    }\n",
       "\n",
       "    .dataframe thead th {\n",
       "        text-align: right;\n",
       "    }\n",
       "</style>\n",
       "<table border=\"1\" class=\"dataframe\">\n",
       "  <thead>\n",
       "    <tr style=\"text-align: right;\">\n",
       "      <th></th>\n",
       "      <th>rating</th>\n",
       "      <th>date</th>\n",
       "      <th>snippet</th>\n",
       "      <th>Fecha</th>\n",
       "    </tr>\n",
       "  </thead>\n",
       "  <tbody>\n",
       "    <tr>\n",
       "      <th>109</th>\n",
       "      <td>1.0</td>\n",
       "      <td>11 months ago</td>\n",
       "      <td>Desastre absoluto. Mucho cuidado con entrar a ...</td>\n",
       "      <td>2023-03-01</td>\n",
       "    </tr>\n",
       "    <tr>\n",
       "      <th>110</th>\n",
       "      <td>1.0</td>\n",
       "      <td>11 months ago</td>\n",
       "      <td>Desbordados. Imposible una cita presecial,o te...</td>\n",
       "      <td>2023-03-01</td>\n",
       "    </tr>\n",
       "    <tr>\n",
       "      <th>111</th>\n",
       "      <td>5.0</td>\n",
       "      <td>11 months ago</td>\n",
       "      <td>Quiero destacar en especial el trato recibido ...</td>\n",
       "      <td>2023-03-01</td>\n",
       "    </tr>\n",
       "    <tr>\n",
       "      <th>112</th>\n",
       "      <td>2.0</td>\n",
       "      <td>11 months ago</td>\n",
       "      <td>La atención telefónica para dar fechas nefasta...</td>\n",
       "      <td>2023-03-01</td>\n",
       "    </tr>\n",
       "    <tr>\n",
       "      <th>113</th>\n",
       "      <td>1.0</td>\n",
       "      <td>11 months ago</td>\n",
       "      <td>Me hacen una gastroscopia con biopsia (incluye...</td>\n",
       "      <td>2023-03-01</td>\n",
       "    </tr>\n",
       "  </tbody>\n",
       "</table>\n",
       "</div>"
      ],
      "text/plain": [
       "     rating           date                                            snippet  \\\n",
       "109     1.0  11 months ago  Desastre absoluto. Mucho cuidado con entrar a ...   \n",
       "110     1.0  11 months ago  Desbordados. Imposible una cita presecial,o te...   \n",
       "111     5.0  11 months ago  Quiero destacar en especial el trato recibido ...   \n",
       "112     2.0  11 months ago  La atención telefónica para dar fechas nefasta...   \n",
       "113     1.0  11 months ago  Me hacen una gastroscopia con biopsia (incluye...   \n",
       "\n",
       "          Fecha  \n",
       "109  2023-03-01  \n",
       "110  2023-03-01  \n",
       "111  2023-03-01  \n",
       "112  2023-03-01  \n",
       "113  2023-03-01  "
      ]
     },
     "execution_count": 21,
     "metadata": {},
     "output_type": "execute_result"
    }
   ],
   "source": [
    "df_zarzuela.tail()"
   ]
  },
  {
   "cell_type": "code",
   "execution_count": 22,
   "id": "ef35e787",
   "metadata": {},
   "outputs": [],
   "source": [
    "df_zarzuela.drop('date', axis=1, inplace=True)"
   ]
  },
  {
   "cell_type": "code",
   "execution_count": 23,
   "id": "ac64fb6f",
   "metadata": {},
   "outputs": [
    {
     "name": "stdout",
     "output_type": "stream",
     "text": [
      "<class 'pandas.core.frame.DataFrame'>\n",
      "Int64Index: 114 entries, 0 to 113\n",
      "Data columns (total 3 columns):\n",
      " #   Column   Non-Null Count  Dtype  \n",
      "---  ------   --------------  -----  \n",
      " 0   rating   114 non-null    float64\n",
      " 1   snippet  105 non-null    object \n",
      " 2   Fecha    114 non-null    object \n",
      "dtypes: float64(1), object(2)\n",
      "memory usage: 3.6+ KB\n"
     ]
    }
   ],
   "source": [
    "df_zarzuela.info()"
   ]
  },
  {
   "cell_type": "code",
   "execution_count": 24,
   "id": "a55925ec",
   "metadata": {},
   "outputs": [],
   "source": [
    "df_zarzuela['Fecha'] = pd.to_datetime(df_zarzuela['Fecha'])"
   ]
  },
  {
   "cell_type": "code",
   "execution_count": 25,
   "id": "959d026e",
   "metadata": {},
   "outputs": [
    {
     "name": "stdout",
     "output_type": "stream",
     "text": [
      "<class 'pandas.core.frame.DataFrame'>\n",
      "Int64Index: 114 entries, 0 to 113\n",
      "Data columns (total 3 columns):\n",
      " #   Column   Non-Null Count  Dtype         \n",
      "---  ------   --------------  -----         \n",
      " 0   rating   114 non-null    float64       \n",
      " 1   snippet  105 non-null    object        \n",
      " 2   Fecha    114 non-null    datetime64[ns]\n",
      "dtypes: datetime64[ns](1), float64(1), object(1)\n",
      "memory usage: 3.6+ KB\n"
     ]
    }
   ],
   "source": [
    "df_zarzuela.info()"
   ]
  },
  {
   "cell_type": "code",
   "execution_count": 26,
   "id": "6ea9788a",
   "metadata": {},
   "outputs": [
    {
     "data": {
      "text/html": [
       "<div>\n",
       "<style scoped>\n",
       "    .dataframe tbody tr th:only-of-type {\n",
       "        vertical-align: middle;\n",
       "    }\n",
       "\n",
       "    .dataframe tbody tr th {\n",
       "        vertical-align: top;\n",
       "    }\n",
       "\n",
       "    .dataframe thead th {\n",
       "        text-align: right;\n",
       "    }\n",
       "</style>\n",
       "<table border=\"1\" class=\"dataframe\">\n",
       "  <thead>\n",
       "    <tr style=\"text-align: right;\">\n",
       "      <th></th>\n",
       "      <th>rating</th>\n",
       "      <th>snippet</th>\n",
       "      <th>Fecha</th>\n",
       "    </tr>\n",
       "  </thead>\n",
       "  <tbody>\n",
       "    <tr>\n",
       "      <th>109</th>\n",
       "      <td>1.0</td>\n",
       "      <td>Desastre absoluto. Mucho cuidado con entrar a ...</td>\n",
       "      <td>2023-03-01</td>\n",
       "    </tr>\n",
       "    <tr>\n",
       "      <th>110</th>\n",
       "      <td>1.0</td>\n",
       "      <td>Desbordados. Imposible una cita presecial,o te...</td>\n",
       "      <td>2023-03-01</td>\n",
       "    </tr>\n",
       "    <tr>\n",
       "      <th>111</th>\n",
       "      <td>5.0</td>\n",
       "      <td>Quiero destacar en especial el trato recibido ...</td>\n",
       "      <td>2023-03-01</td>\n",
       "    </tr>\n",
       "    <tr>\n",
       "      <th>112</th>\n",
       "      <td>2.0</td>\n",
       "      <td>La atención telefónica para dar fechas nefasta...</td>\n",
       "      <td>2023-03-01</td>\n",
       "    </tr>\n",
       "    <tr>\n",
       "      <th>113</th>\n",
       "      <td>1.0</td>\n",
       "      <td>Me hacen una gastroscopia con biopsia (incluye...</td>\n",
       "      <td>2023-03-01</td>\n",
       "    </tr>\n",
       "  </tbody>\n",
       "</table>\n",
       "</div>"
      ],
      "text/plain": [
       "     rating                                            snippet      Fecha\n",
       "109     1.0  Desastre absoluto. Mucho cuidado con entrar a ... 2023-03-01\n",
       "110     1.0  Desbordados. Imposible una cita presecial,o te... 2023-03-01\n",
       "111     5.0  Quiero destacar en especial el trato recibido ... 2023-03-01\n",
       "112     2.0  La atención telefónica para dar fechas nefasta... 2023-03-01\n",
       "113     1.0  Me hacen una gastroscopia con biopsia (incluye... 2023-03-01"
      ]
     },
     "execution_count": 26,
     "metadata": {},
     "output_type": "execute_result"
    }
   ],
   "source": [
    "df_zarzuela.tail()"
   ]
  },
  {
   "cell_type": "markdown",
   "id": "c56f9820",
   "metadata": {},
   "source": [
    "## 4. Nuevas columnas: Nombre establecimiento, Ciudad y Dirección"
   ]
  },
  {
   "cell_type": "code",
   "execution_count": 29,
   "id": "7b886034",
   "metadata": {},
   "outputs": [
    {
     "ename": "SyntaxError",
     "evalue": "invalid syntax (818751817.py, line 1)",
     "output_type": "error",
     "traceback": [
      "\u001b[1;36m  Cell \u001b[1;32mIn[29], line 1\u001b[1;36m\u001b[0m\n\u001b[1;33m    df_zarzuela = df_zarzuela.assign(Ciudad='Madrid', Dirección='Calle de Pleyades, 25', Establecimiento='Hospital Universitario La Zarzuela', Código Postal=28023)\u001b[0m\n\u001b[1;37m                                                                                                                                                      ^\u001b[0m\n\u001b[1;31mSyntaxError\u001b[0m\u001b[1;31m:\u001b[0m invalid syntax\n"
     ]
    }
   ],
   "source": [
    "df_zarzuela = df_zarzuela.assign(Ciudad='Madrid', Dirección='Calle de Pleyades, 25', Establecimiento='Hospital Universitario La Zarzuela', Código Postal=28023)"
   ]
  },
  {
   "cell_type": "code",
   "execution_count": 33,
   "id": "cbec6c2b",
   "metadata": {},
   "outputs": [],
   "source": [
    "df_zarzuela = df_zarzuela.assign(CP=28023)"
   ]
  },
  {
   "cell_type": "code",
   "execution_count": 34,
   "id": "a747a95a",
   "metadata": {},
   "outputs": [
    {
     "data": {
      "text/html": [
       "<div>\n",
       "<style scoped>\n",
       "    .dataframe tbody tr th:only-of-type {\n",
       "        vertical-align: middle;\n",
       "    }\n",
       "\n",
       "    .dataframe tbody tr th {\n",
       "        vertical-align: top;\n",
       "    }\n",
       "\n",
       "    .dataframe thead th {\n",
       "        text-align: right;\n",
       "    }\n",
       "</style>\n",
       "<table border=\"1\" class=\"dataframe\">\n",
       "  <thead>\n",
       "    <tr style=\"text-align: right;\">\n",
       "      <th></th>\n",
       "      <th>rating</th>\n",
       "      <th>snippet</th>\n",
       "      <th>Fecha</th>\n",
       "      <th>Ciudad</th>\n",
       "      <th>Dirección</th>\n",
       "      <th>Establecimiento</th>\n",
       "      <th>CP</th>\n",
       "    </tr>\n",
       "  </thead>\n",
       "  <tbody>\n",
       "    <tr>\n",
       "      <th>0</th>\n",
       "      <td>1.0</td>\n",
       "      <td>Fui a urgencias el jueves 22/02 trasladada en ...</td>\n",
       "      <td>2024-02-01</td>\n",
       "      <td>Madrid</td>\n",
       "      <td>Calle de Pleyades, 25</td>\n",
       "      <td>Hospital Universitario La Zarzuela</td>\n",
       "      <td>28023</td>\n",
       "    </tr>\n",
       "    <tr>\n",
       "      <th>1</th>\n",
       "      <td>1.0</td>\n",
       "      <td>Mi experiencia fue nefasta acudí 2 años atrás ...</td>\n",
       "      <td>2024-02-01</td>\n",
       "      <td>Madrid</td>\n",
       "      <td>Calle de Pleyades, 25</td>\n",
       "      <td>Hospital Universitario La Zarzuela</td>\n",
       "      <td>28023</td>\n",
       "    </tr>\n",
       "    <tr>\n",
       "      <th>2</th>\n",
       "      <td>5.0</td>\n",
       "      <td>He estado 10 días ingresado por una buena neum...</td>\n",
       "      <td>2024-02-01</td>\n",
       "      <td>Madrid</td>\n",
       "      <td>Calle de Pleyades, 25</td>\n",
       "      <td>Hospital Universitario La Zarzuela</td>\n",
       "      <td>28023</td>\n",
       "    </tr>\n",
       "    <tr>\n",
       "      <th>3</th>\n",
       "      <td>5.0</td>\n",
       "      <td>Estuvimos ayer en urgencias a las 20:00, el tr...</td>\n",
       "      <td>2024-02-01</td>\n",
       "      <td>Madrid</td>\n",
       "      <td>Calle de Pleyades, 25</td>\n",
       "      <td>Hospital Universitario La Zarzuela</td>\n",
       "      <td>28023</td>\n",
       "    </tr>\n",
       "    <tr>\n",
       "      <th>4</th>\n",
       "      <td>5.0</td>\n",
       "      <td>Como siempre hay de todo, puedes tener más sue...</td>\n",
       "      <td>2024-02-01</td>\n",
       "      <td>Madrid</td>\n",
       "      <td>Calle de Pleyades, 25</td>\n",
       "      <td>Hospital Universitario La Zarzuela</td>\n",
       "      <td>28023</td>\n",
       "    </tr>\n",
       "  </tbody>\n",
       "</table>\n",
       "</div>"
      ],
      "text/plain": [
       "   rating                                            snippet      Fecha  \\\n",
       "0     1.0  Fui a urgencias el jueves 22/02 trasladada en ... 2024-02-01   \n",
       "1     1.0  Mi experiencia fue nefasta acudí 2 años atrás ... 2024-02-01   \n",
       "2     5.0  He estado 10 días ingresado por una buena neum... 2024-02-01   \n",
       "3     5.0  Estuvimos ayer en urgencias a las 20:00, el tr... 2024-02-01   \n",
       "4     5.0  Como siempre hay de todo, puedes tener más sue... 2024-02-01   \n",
       "\n",
       "   Ciudad              Dirección                     Establecimiento     CP  \n",
       "0  Madrid  Calle de Pleyades, 25  Hospital Universitario La Zarzuela  28023  \n",
       "1  Madrid  Calle de Pleyades, 25  Hospital Universitario La Zarzuela  28023  \n",
       "2  Madrid  Calle de Pleyades, 25  Hospital Universitario La Zarzuela  28023  \n",
       "3  Madrid  Calle de Pleyades, 25  Hospital Universitario La Zarzuela  28023  \n",
       "4  Madrid  Calle de Pleyades, 25  Hospital Universitario La Zarzuela  28023  "
      ]
     },
     "execution_count": 34,
     "metadata": {},
     "output_type": "execute_result"
    }
   ],
   "source": [
    "df_zarzuela.head()"
   ]
  },
  {
   "cell_type": "markdown",
   "id": "df426426",
   "metadata": {},
   "source": [
    "## 5. Cambiar el datatype de rating a int64"
   ]
  },
  {
   "cell_type": "code",
   "execution_count": 35,
   "id": "a8c75288",
   "metadata": {},
   "outputs": [],
   "source": [
    "df_zarzuela['rating'] = df_zarzuela['rating'].astype('int64')"
   ]
  },
  {
   "cell_type": "code",
   "execution_count": 36,
   "id": "0f49cd04",
   "metadata": {},
   "outputs": [
    {
     "name": "stdout",
     "output_type": "stream",
     "text": [
      "<class 'pandas.core.frame.DataFrame'>\n",
      "Int64Index: 114 entries, 0 to 113\n",
      "Data columns (total 7 columns):\n",
      " #   Column           Non-Null Count  Dtype         \n",
      "---  ------           --------------  -----         \n",
      " 0   rating           114 non-null    int64         \n",
      " 1   snippet          105 non-null    object        \n",
      " 2   Fecha            114 non-null    datetime64[ns]\n",
      " 3   Ciudad           114 non-null    object        \n",
      " 4   Dirección        114 non-null    object        \n",
      " 5   Establecimiento  114 non-null    object        \n",
      " 6   CP               114 non-null    int64         \n",
      "dtypes: datetime64[ns](1), int64(2), object(4)\n",
      "memory usage: 7.1+ KB\n"
     ]
    }
   ],
   "source": [
    "df_zarzuela.info()"
   ]
  },
  {
   "cell_type": "markdown",
   "id": "89aa7127",
   "metadata": {},
   "source": [
    "## 5. Exportar CSV"
   ]
  },
  {
   "cell_type": "code",
   "execution_count": 56,
   "id": "6bddd302",
   "metadata": {},
   "outputs": [],
   "source": [
    "def export_csv(df):\n",
    "    '''\n",
    "    Pilla el DataFrame y genera un csv. \n",
    "    Input: DataFrame de argumento\n",
    "    Ouput: pregunta al usuario la ubicación del archivo, el nombre que le queramos dar. \n",
    "    '''\n",
    "    try:\n",
    "        file_location = input('Ingresa la ubicación donde quieres guardar el archivo :')\n",
    "        name = input('Ingresa el nombre que quieres dar al archivo (sin la extensión .csv) :')\n",
    "        file_path = f'{file_location}/{name}.csv'\n",
    "        df.to_csv(file_path, index=False)\n",
    "        return f'DataFrame guardado con éxito con formato .csv'\n",
    "    except: \n",
    "        print(\"Error al guardar el archivo\")"
   ]
  },
  {
   "cell_type": "code",
   "execution_count": 57,
   "id": "2d6f080c",
   "metadata": {},
   "outputs": [
    {
     "name": "stdout",
     "output_type": "stream",
     "text": [
      "Ingresa la ubicación donde quieres guardar el archivo :zarzuela\n",
      "Ingresa el nombre que quieres dar al archivo (sin la extensión .csv) :clean_zarzuela\n"
     ]
    },
    {
     "data": {
      "text/plain": [
       "'DataFrame guardado con éxito con formato .csv'"
      ]
     },
     "execution_count": 57,
     "metadata": {},
     "output_type": "execute_result"
    }
   ],
   "source": [
    "export_csv(df_zarzuela)"
   ]
  },
  {
   "cell_type": "markdown",
   "id": "711be51d",
   "metadata": {},
   "source": [
    "# Hosp. Univ. Infanta Sofía"
   ]
  },
  {
   "cell_type": "code",
   "execution_count": 37,
   "id": "278fa9b8",
   "metadata": {},
   "outputs": [],
   "source": [
    "api_call_1 = pd.read_csv('./infanta_sofia/infanta_sofia_1.csv')\n",
    "api_call_2 = pd.read_csv('./infanta_sofia/infanta_sofia_2.csv')\n",
    "api_call_3 = pd.read_csv('./infanta_sofia/infanta_sofia_3.csv')\n",
    "api_call_4 = pd.read_csv('./infanta_sofia/infanta_sofia_4.csv')\n",
    "api_call_5 = pd.read_csv('./infanta_sofia/infanta_sofia_5.csv')\n",
    "api_call_6 = pd.read_csv('./infanta_sofia/infanta_sofia_6.csv')\n",
    "api_call_7 = pd.read_csv('./infanta_sofia/infanta_sofia_7.csv')\n",
    "api_call_8 = pd.read_csv('./infanta_sofia/infanta_sofia_8.csv')\n",
    "api_call_9 = pd.read_csv('./infanta_sofia/infanta_sofia_9.csv')\n",
    "api_call_10 = pd.read_csv('./infanta_sofia/infanta_sofia_10.csv')\n",
    "api_call_11 = pd.read_csv('./infanta_sofia/infanta_sofia_11.csv')\n",
    "api_call_12 = pd.read_csv('./infanta_sofia/infanta_sofia_12.csv')\n",
    "api_call_13 = pd.read_csv('./infanta_sofia/infanta_sofia_13.csv')\n",
    "api_call_14 = pd.read_csv('./infanta_sofia/infanta_sofia_14.csv')\n",
    "api_call_15 = pd.read_csv('./infanta_sofia/infanta_sofia_15.csv')\n",
    "api_call_16 = pd.read_csv('./infanta_sofia/infanta_sofia_16.csv')\n",
    "api_call_17 = pd.read_csv('./infanta_sofia/infanta_sofia_17.csv')\n",
    "api_call_18 = pd.read_csv('./infanta_sofia/infanta_sofia_18.csv')\n",
    "api_call_19 = pd.read_csv('./infanta_sofia/infanta_sofia_19.csv')\n",
    "api_call_20 = pd.read_csv('./infanta_sofia/infanta_sofia_20.csv')\n",
    "api_call_21 = pd.read_csv('./infanta_sofia/infanta_sofia_21.csv')\n",
    "api_call_22 = pd.read_csv('./infanta_sofia/infanta_sofia_22.csv')\n",
    "api_call_23 = pd.read_csv('./infanta_sofia/infanta_sofia_23.csv')\n",
    "api_call_24 = pd.read_csv('./infanta_sofia/infanta_sofia_24.csv')\n",
    "api_call_25 = pd.read_csv('./infanta_sofia/infanta_sofia_25.csv')\n",
    "api_call_26 = pd.read_csv('./infanta_sofia/infanta_sofia_26.csv')\n",
    "api_call_27 = pd.read_csv('./infanta_sofia/infanta_sofia_27.csv')"
   ]
  },
  {
   "cell_type": "code",
   "execution_count": 38,
   "id": "afb4aaea",
   "metadata": {},
   "outputs": [],
   "source": [
    "df_infanta_sofia = pd.concat([api_call_1,\n",
    "                            api_call_2,\n",
    "                            api_call_3,\n",
    "                            api_call_4,\n",
    "                            api_call_5,\n",
    "                            api_call_6,\n",
    "                            api_call_7,\n",
    "                            api_call_8,\n",
    "                            api_call_9,\n",
    "                            api_call_10,\n",
    "                            api_call_11,\n",
    "                            api_call_12,\n",
    "                            api_call_13,\n",
    "                             api_call_14,\n",
    "                             api_call_15,\n",
    "                             api_call_16,\n",
    "                             api_call_17,\n",
    "                             api_call_18,\n",
    "                             api_call_19,\n",
    "                             api_call_20,\n",
    "                             api_call_21,\n",
    "                             api_call_22,\n",
    "                             api_call_23,\n",
    "                             api_call_24,\n",
    "                             api_call_25,\n",
    "                             api_call_26,\n",
    "                             api_call_27], sort=False, ignore_index=True)"
   ]
  },
  {
   "cell_type": "code",
   "execution_count": 39,
   "id": "1589c418",
   "metadata": {},
   "outputs": [
    {
     "data": {
      "text/html": [
       "<div>\n",
       "<style scoped>\n",
       "    .dataframe tbody tr th:only-of-type {\n",
       "        vertical-align: middle;\n",
       "    }\n",
       "\n",
       "    .dataframe tbody tr th {\n",
       "        vertical-align: top;\n",
       "    }\n",
       "\n",
       "    .dataframe thead th {\n",
       "        text-align: right;\n",
       "    }\n",
       "</style>\n",
       "<table border=\"1\" class=\"dataframe\">\n",
       "  <thead>\n",
       "    <tr style=\"text-align: right;\">\n",
       "      <th></th>\n",
       "      <th>Unnamed: 0</th>\n",
       "      <th>link</th>\n",
       "      <th>rating</th>\n",
       "      <th>date</th>\n",
       "      <th>images</th>\n",
       "      <th>source</th>\n",
       "      <th>review_id</th>\n",
       "      <th>snippet</th>\n",
       "      <th>user.name</th>\n",
       "      <th>user.link</th>\n",
       "      <th>user.contributor_id</th>\n",
       "      <th>user.thumbnail</th>\n",
       "      <th>user.local_guide</th>\n",
       "      <th>user.reviews</th>\n",
       "      <th>user.photos</th>\n",
       "      <th>extracted_snippet.original</th>\n",
       "      <th>extracted_snippet.translated</th>\n",
       "      <th>likes</th>\n",
       "    </tr>\n",
       "  </thead>\n",
       "  <tbody>\n",
       "    <tr>\n",
       "      <th>0</th>\n",
       "      <td>0</td>\n",
       "      <td>https://www.google.com/maps/reviews/data=!4m8!...</td>\n",
       "      <td>2.0</td>\n",
       "      <td>an hour ago</td>\n",
       "      <td>['https://lh5.googleusercontent.com/p/AF1QipNP...</td>\n",
       "      <td>Google</td>\n",
       "      <td>ChZDSUhNMG9nS0VJQ0FnSUM5NU1EeGJnEAE</td>\n",
       "      <td>He venido a la urgencia del hospital Infanta S...</td>\n",
       "      <td>Carlos Iván Castillo Moya</td>\n",
       "      <td>https://www.google.com/maps/contrib/1040163193...</td>\n",
       "      <td>104016319380653650987</td>\n",
       "      <td>https://lh3.googleusercontent.com/a-/ALV-UjVhl...</td>\n",
       "      <td>True</td>\n",
       "      <td>188.0</td>\n",
       "      <td>392.0</td>\n",
       "      <td>He venido a la urgencia del hospital Infanta S...</td>\n",
       "      <td>I have come to the emergency room at the Infan...</td>\n",
       "      <td>NaN</td>\n",
       "    </tr>\n",
       "    <tr>\n",
       "      <th>1</th>\n",
       "      <td>1</td>\n",
       "      <td>https://www.google.com/maps/reviews/data=!4m8!...</td>\n",
       "      <td>1.0</td>\n",
       "      <td>18 hours ago</td>\n",
       "      <td>['https://lh5.googleusercontent.com/p/AF1QipN8...</td>\n",
       "      <td>Google</td>\n",
       "      <td>ChZDSUhNMG9nS0VJQ0FnSUM5LU5xdWZBEAE</td>\n",
       "      <td>Vergonzoso.\\nMenudo personal….sin educación, s...</td>\n",
       "      <td>Maria E. C. Rodriguez</td>\n",
       "      <td>https://www.google.com/maps/contrib/1092973751...</td>\n",
       "      <td>109297375141004949445</td>\n",
       "      <td>https://lh3.googleusercontent.com/a-/ALV-UjUuj...</td>\n",
       "      <td>True</td>\n",
       "      <td>39.0</td>\n",
       "      <td>7.0</td>\n",
       "      <td>Vergonzoso.\\nMenudo personal….sin educación, s...</td>\n",
       "      <td>Shameful.\\nWhat a staff….no education, no empa...</td>\n",
       "      <td>NaN</td>\n",
       "    </tr>\n",
       "    <tr>\n",
       "      <th>2</th>\n",
       "      <td>2</td>\n",
       "      <td>https://www.google.com/maps/reviews/data=!4m8!...</td>\n",
       "      <td>1.0</td>\n",
       "      <td>a day ago</td>\n",
       "      <td>NaN</td>\n",
       "      <td>Google</td>\n",
       "      <td>ChZDSUhNMG9nS0VJQ0FnSUM5OEtfNkhnEAE</td>\n",
       "      <td>El peor hospital con diferencia en cuanto a ur...</td>\n",
       "      <td>Raul “Raul17”</td>\n",
       "      <td>https://www.google.com/maps/contrib/1044214356...</td>\n",
       "      <td>104421435695588912104</td>\n",
       "      <td>https://lh3.googleusercontent.com/a/ACg8ocJLNx...</td>\n",
       "      <td>True</td>\n",
       "      <td>101.0</td>\n",
       "      <td>2.0</td>\n",
       "      <td>El peor hospital con diferencia en cuanto a ur...</td>\n",
       "      <td>The worst hospital by far in terms of emergenc...</td>\n",
       "      <td>NaN</td>\n",
       "    </tr>\n",
       "    <tr>\n",
       "      <th>3</th>\n",
       "      <td>3</td>\n",
       "      <td>https://www.google.com/maps/reviews/data=!4m8!...</td>\n",
       "      <td>5.0</td>\n",
       "      <td>4 days ago</td>\n",
       "      <td>NaN</td>\n",
       "      <td>Google</td>\n",
       "      <td>ChZDSUhNMG9nS0VJQ0FnSURkbzVIWGFnEAE</td>\n",
       "      <td>Muy profesionales y efectivo. Es muy fácil ori...</td>\n",
       "      <td>Lucía Eva</td>\n",
       "      <td>https://www.google.com/maps/contrib/1129915695...</td>\n",
       "      <td>112991569512987942004</td>\n",
       "      <td>https://lh3.googleusercontent.com/a/ACg8ocKism...</td>\n",
       "      <td>True</td>\n",
       "      <td>68.0</td>\n",
       "      <td>25.0</td>\n",
       "      <td>Muy profesionales y efectivo. Es muy fácil ori...</td>\n",
       "      <td>Very professional and effective. It is very ea...</td>\n",
       "      <td>NaN</td>\n",
       "    </tr>\n",
       "    <tr>\n",
       "      <th>4</th>\n",
       "      <td>4</td>\n",
       "      <td>https://www.google.com/maps/reviews/data=!4m8!...</td>\n",
       "      <td>1.0</td>\n",
       "      <td>5 days ago</td>\n",
       "      <td>NaN</td>\n",
       "      <td>Google</td>\n",
       "      <td>ChdDSUhNMG9nS0VJQ0FnSURkOWVpRGpRRRAB</td>\n",
       "      <td>Ni se molesten en venir, al menos no de urgenc...</td>\n",
       "      <td>Nicolas Jesus Morales Liaz</td>\n",
       "      <td>https://www.google.com/maps/contrib/1099492129...</td>\n",
       "      <td>109949212971051208099</td>\n",
       "      <td>https://lh3.googleusercontent.com/a-/ALV-UjWyo...</td>\n",
       "      <td>True</td>\n",
       "      <td>120.0</td>\n",
       "      <td>11.0</td>\n",
       "      <td>Ni se molesten en venir, al menos no de urgenc...</td>\n",
       "      <td>Don't even bother coming, at least not in the ...</td>\n",
       "      <td>NaN</td>\n",
       "    </tr>\n",
       "  </tbody>\n",
       "</table>\n",
       "</div>"
      ],
      "text/plain": [
       "   Unnamed: 0                                               link  rating  \\\n",
       "0           0  https://www.google.com/maps/reviews/data=!4m8!...     2.0   \n",
       "1           1  https://www.google.com/maps/reviews/data=!4m8!...     1.0   \n",
       "2           2  https://www.google.com/maps/reviews/data=!4m8!...     1.0   \n",
       "3           3  https://www.google.com/maps/reviews/data=!4m8!...     5.0   \n",
       "4           4  https://www.google.com/maps/reviews/data=!4m8!...     1.0   \n",
       "\n",
       "           date                                             images  source  \\\n",
       "0   an hour ago  ['https://lh5.googleusercontent.com/p/AF1QipNP...  Google   \n",
       "1  18 hours ago  ['https://lh5.googleusercontent.com/p/AF1QipN8...  Google   \n",
       "2     a day ago                                                NaN  Google   \n",
       "3    4 days ago                                                NaN  Google   \n",
       "4    5 days ago                                                NaN  Google   \n",
       "\n",
       "                              review_id  \\\n",
       "0   ChZDSUhNMG9nS0VJQ0FnSUM5NU1EeGJnEAE   \n",
       "1   ChZDSUhNMG9nS0VJQ0FnSUM5LU5xdWZBEAE   \n",
       "2   ChZDSUhNMG9nS0VJQ0FnSUM5OEtfNkhnEAE   \n",
       "3   ChZDSUhNMG9nS0VJQ0FnSURkbzVIWGFnEAE   \n",
       "4  ChdDSUhNMG9nS0VJQ0FnSURkOWVpRGpRRRAB   \n",
       "\n",
       "                                             snippet  \\\n",
       "0  He venido a la urgencia del hospital Infanta S...   \n",
       "1  Vergonzoso.\\nMenudo personal….sin educación, s...   \n",
       "2  El peor hospital con diferencia en cuanto a ur...   \n",
       "3  Muy profesionales y efectivo. Es muy fácil ori...   \n",
       "4  Ni se molesten en venir, al menos no de urgenc...   \n",
       "\n",
       "                    user.name  \\\n",
       "0   Carlos Iván Castillo Moya   \n",
       "1       Maria E. C. Rodriguez   \n",
       "2               Raul “Raul17”   \n",
       "3                   Lucía Eva   \n",
       "4  Nicolas Jesus Morales Liaz   \n",
       "\n",
       "                                           user.link    user.contributor_id  \\\n",
       "0  https://www.google.com/maps/contrib/1040163193...  104016319380653650987   \n",
       "1  https://www.google.com/maps/contrib/1092973751...  109297375141004949445   \n",
       "2  https://www.google.com/maps/contrib/1044214356...  104421435695588912104   \n",
       "3  https://www.google.com/maps/contrib/1129915695...  112991569512987942004   \n",
       "4  https://www.google.com/maps/contrib/1099492129...  109949212971051208099   \n",
       "\n",
       "                                      user.thumbnail user.local_guide  \\\n",
       "0  https://lh3.googleusercontent.com/a-/ALV-UjVhl...             True   \n",
       "1  https://lh3.googleusercontent.com/a-/ALV-UjUuj...             True   \n",
       "2  https://lh3.googleusercontent.com/a/ACg8ocJLNx...             True   \n",
       "3  https://lh3.googleusercontent.com/a/ACg8ocKism...             True   \n",
       "4  https://lh3.googleusercontent.com/a-/ALV-UjWyo...             True   \n",
       "\n",
       "   user.reviews  user.photos  \\\n",
       "0         188.0        392.0   \n",
       "1          39.0          7.0   \n",
       "2         101.0          2.0   \n",
       "3          68.0         25.0   \n",
       "4         120.0         11.0   \n",
       "\n",
       "                          extracted_snippet.original  \\\n",
       "0  He venido a la urgencia del hospital Infanta S...   \n",
       "1  Vergonzoso.\\nMenudo personal….sin educación, s...   \n",
       "2  El peor hospital con diferencia en cuanto a ur...   \n",
       "3  Muy profesionales y efectivo. Es muy fácil ori...   \n",
       "4  Ni se molesten en venir, al menos no de urgenc...   \n",
       "\n",
       "                        extracted_snippet.translated  likes  \n",
       "0  I have come to the emergency room at the Infan...    NaN  \n",
       "1  Shameful.\\nWhat a staff….no education, no empa...    NaN  \n",
       "2  The worst hospital by far in terms of emergenc...    NaN  \n",
       "3  Very professional and effective. It is very ea...    NaN  \n",
       "4  Don't even bother coming, at least not in the ...    NaN  "
      ]
     },
     "execution_count": 39,
     "metadata": {},
     "output_type": "execute_result"
    }
   ],
   "source": [
    "df_infanta_sofia.head()"
   ]
  },
  {
   "cell_type": "code",
   "execution_count": 40,
   "id": "1c7b71f8",
   "metadata": {},
   "outputs": [
    {
     "name": "stdout",
     "output_type": "stream",
     "text": [
      "<class 'pandas.core.frame.DataFrame'>\n",
      "RangeIndex: 270 entries, 0 to 269\n",
      "Data columns (total 18 columns):\n",
      " #   Column                        Non-Null Count  Dtype  \n",
      "---  ------                        --------------  -----  \n",
      " 0   Unnamed: 0                    270 non-null    int64  \n",
      " 1   link                          270 non-null    object \n",
      " 2   rating                        270 non-null    float64\n",
      " 3   date                          270 non-null    object \n",
      " 4   images                        7 non-null      object \n",
      " 5   source                        270 non-null    object \n",
      " 6   review_id                     270 non-null    object \n",
      " 7   snippet                       235 non-null    object \n",
      " 8   user.name                     270 non-null    object \n",
      " 9   user.link                     270 non-null    object \n",
      " 10  user.contributor_id           270 non-null    object \n",
      " 11  user.thumbnail                270 non-null    object \n",
      " 12  user.local_guide              87 non-null     object \n",
      " 13  user.reviews                  269 non-null    float64\n",
      " 14  user.photos                   117 non-null    float64\n",
      " 15  extracted_snippet.original    234 non-null    object \n",
      " 16  extracted_snippet.translated  234 non-null    object \n",
      " 17  likes                         133 non-null    float64\n",
      "dtypes: float64(4), int64(1), object(13)\n",
      "memory usage: 38.1+ KB\n"
     ]
    }
   ],
   "source": [
    "df_infanta_sofia.info()"
   ]
  },
  {
   "cell_type": "code",
   "execution_count": 41,
   "id": "4ab04dd2",
   "metadata": {},
   "outputs": [],
   "source": [
    "def eliminar_columnas(df):\n",
    "    '''\n",
    "    Del DataFrame elimina las columnas que están en la lista drop_cols\n",
    "    Input: dataframe\n",
    "    Output: dataframe sin columnas de la lista\n",
    "    '''\n",
    "    drop_cols = ['Unnamed: 0',\n",
    "                 'link',\n",
    "                 'images',\n",
    "                'source',\n",
    "                'review_id',\n",
    "                'user.name',\n",
    "                'user.link',\n",
    "                'user.contributor_id',\n",
    "                'user.thumbnail',\n",
    "                'user.reviews',\n",
    "                'extracted_snippet.original',\n",
    "                'extracted_snippet.translated', \n",
    "                'user.photos',\n",
    "                'response.extracted_snippet.original', \n",
    "                'response.extracted_snippet.translated',\n",
    "                'likes',\n",
    "                'user.local_guide']\n",
    "                #'details.nota_editada',\n",
    "                #'details.en_resumen',\n",
    "                #'details.no_me_deja_responderos_por_lo_que_edito_22_08_23_10']\n",
    "    df = df.drop(columns=[columna for columna in drop_cols if columna in df.columns], errors='ignore')\n",
    "    print(f'Eliminadas las columnas innecesarias del DataFrame. Ahora cuenta con las siguientes columnas: ', len(df.columns))\n",
    "    return df"
   ]
  },
  {
   "cell_type": "code",
   "execution_count": 42,
   "id": "621209c2",
   "metadata": {},
   "outputs": [
    {
     "name": "stdout",
     "output_type": "stream",
     "text": [
      "Eliminadas las columnas innecesarias del DataFrame. Ahora cuenta con las siguientes columnas:  3\n"
     ]
    }
   ],
   "source": [
    "df_infanta_sofia = eliminar_columnas(df_infanta_sofia)"
   ]
  },
  {
   "cell_type": "code",
   "execution_count": 43,
   "id": "ceefee40",
   "metadata": {},
   "outputs": [
    {
     "name": "stdout",
     "output_type": "stream",
     "text": [
      "<class 'pandas.core.frame.DataFrame'>\n",
      "RangeIndex: 270 entries, 0 to 269\n",
      "Data columns (total 3 columns):\n",
      " #   Column   Non-Null Count  Dtype  \n",
      "---  ------   --------------  -----  \n",
      " 0   rating   270 non-null    float64\n",
      " 1   date     270 non-null    object \n",
      " 2   snippet  235 non-null    object \n",
      "dtypes: float64(1), object(2)\n",
      "memory usage: 6.5+ KB\n"
     ]
    }
   ],
   "source": [
    "df_infanta_sofia.info()"
   ]
  },
  {
   "cell_type": "code",
   "execution_count": 44,
   "id": "8db000c4",
   "metadata": {},
   "outputs": [
    {
     "data": {
      "text/plain": [
       "array(['an hour ago', '18 hours ago', 'a day ago', '4 days ago',\n",
       "       '5 days ago', 'a week ago', '2 weeks ago', '3 weeks ago',\n",
       "       'a month ago', '2 months ago', '3 months ago', '4 months ago',\n",
       "       '5 months ago', '6 months ago', '7 months ago', '8 months ago',\n",
       "       '9 months ago', '10 months ago', '11 months ago', 'a year ago'],\n",
       "      dtype=object)"
      ]
     },
     "execution_count": 44,
     "metadata": {},
     "output_type": "execute_result"
    }
   ],
   "source": [
    "df_infanta_sofia['date'].unique()"
   ]
  },
  {
   "cell_type": "code",
   "execution_count": 45,
   "id": "160225fd",
   "metadata": {},
   "outputs": [],
   "source": [
    "fechas = {\n",
    "    'an hour ago': '2024-02-01',\n",
    "    '18 hours ago': '2024-02-12',\n",
    "    'a day ago': '2024-02-01',\n",
    "    '4 days ago': '2024-02-01',\n",
    "    '5 days ago': '2024-02-01',\n",
    "    'a week ago': '2024-02-01',\n",
    "    '2 weeks ago': '2024-02-01',\n",
    "    '3 weeks ago': '2024-02-01',\n",
    "    'a month ago': '2024-01-01',\n",
    "    '2 months ago': '2023-12-01',\n",
    "    '3 months ago': '2023-11-01',\n",
    "    '4 months ago': '2023-10-01',\n",
    "    '5 months ago': '2023-09-01',\n",
    "    '6 months ago': '2023-08-01',\n",
    "    '7 months ago': '2023-07-01',\n",
    "    '8 months ago': '2023-06-01',\n",
    "    '9 months ago': '2023-05-01',\n",
    "    '10 months ago': '2023-04-01',\n",
    "    '11 months ago': '2023-03-01',\n",
    "    'a year ago': 'eliminar'\n",
    "}"
   ]
  },
  {
   "cell_type": "code",
   "execution_count": 46,
   "id": "ec41d1f9",
   "metadata": {},
   "outputs": [],
   "source": [
    "df_infanta_sofia['Fecha'] = df_infanta_sofia['date'].map(fechas).fillna(pd.to_datetime(df_infanta_sofia['date'], errors='coerce'))"
   ]
  },
  {
   "cell_type": "code",
   "execution_count": 47,
   "id": "9c4fdb55",
   "metadata": {},
   "outputs": [
    {
     "name": "stdout",
     "output_type": "stream",
     "text": [
      "<class 'pandas.core.frame.DataFrame'>\n",
      "RangeIndex: 270 entries, 0 to 269\n",
      "Data columns (total 4 columns):\n",
      " #   Column   Non-Null Count  Dtype  \n",
      "---  ------   --------------  -----  \n",
      " 0   rating   270 non-null    float64\n",
      " 1   date     270 non-null    object \n",
      " 2   snippet  235 non-null    object \n",
      " 3   Fecha    270 non-null    object \n",
      "dtypes: float64(1), object(3)\n",
      "memory usage: 8.6+ KB\n"
     ]
    }
   ],
   "source": [
    "df_infanta_sofia.info()"
   ]
  },
  {
   "cell_type": "code",
   "execution_count": 48,
   "id": "9dc577df",
   "metadata": {},
   "outputs": [],
   "source": [
    "df_infanta_sofia = df_infanta_sofia[df_infanta_sofia['Fecha'] != 'eliminar']"
   ]
  },
  {
   "cell_type": "code",
   "execution_count": 49,
   "id": "74dee023",
   "metadata": {},
   "outputs": [
    {
     "name": "stdout",
     "output_type": "stream",
     "text": [
      "<class 'pandas.core.frame.DataFrame'>\n",
      "Int64Index: 267 entries, 0 to 266\n",
      "Data columns (total 4 columns):\n",
      " #   Column   Non-Null Count  Dtype  \n",
      "---  ------   --------------  -----  \n",
      " 0   rating   267 non-null    float64\n",
      " 1   date     267 non-null    object \n",
      " 2   snippet  232 non-null    object \n",
      " 3   Fecha    267 non-null    object \n",
      "dtypes: float64(1), object(3)\n",
      "memory usage: 10.4+ KB\n"
     ]
    }
   ],
   "source": [
    "df_infanta_sofia.info()"
   ]
  },
  {
   "cell_type": "code",
   "execution_count": 50,
   "id": "e48cd001",
   "metadata": {},
   "outputs": [],
   "source": [
    "df_infanta_sofia = df_infanta_sofia.assign(Ciudad='San Sebastián de los Reyes', Dirección='Paseo de Europa, 34', Establecimiento='Hospital Universitario Infanta Sofía', CP=28702)"
   ]
  },
  {
   "cell_type": "code",
   "execution_count": 51,
   "id": "bddd01dc",
   "metadata": {},
   "outputs": [
    {
     "data": {
      "text/html": [
       "<div>\n",
       "<style scoped>\n",
       "    .dataframe tbody tr th:only-of-type {\n",
       "        vertical-align: middle;\n",
       "    }\n",
       "\n",
       "    .dataframe tbody tr th {\n",
       "        vertical-align: top;\n",
       "    }\n",
       "\n",
       "    .dataframe thead th {\n",
       "        text-align: right;\n",
       "    }\n",
       "</style>\n",
       "<table border=\"1\" class=\"dataframe\">\n",
       "  <thead>\n",
       "    <tr style=\"text-align: right;\">\n",
       "      <th></th>\n",
       "      <th>rating</th>\n",
       "      <th>date</th>\n",
       "      <th>snippet</th>\n",
       "      <th>Fecha</th>\n",
       "      <th>Ciudad</th>\n",
       "      <th>Dirección</th>\n",
       "      <th>Establecimiento</th>\n",
       "      <th>CP</th>\n",
       "    </tr>\n",
       "  </thead>\n",
       "  <tbody>\n",
       "    <tr>\n",
       "      <th>0</th>\n",
       "      <td>2.0</td>\n",
       "      <td>an hour ago</td>\n",
       "      <td>He venido a la urgencia del hospital Infanta S...</td>\n",
       "      <td>2024-02-01</td>\n",
       "      <td>San Sebastián de los Reyes</td>\n",
       "      <td>Paseo de Europa, 34</td>\n",
       "      <td>Hospital Universitario Infanta Sofía</td>\n",
       "      <td>28702</td>\n",
       "    </tr>\n",
       "    <tr>\n",
       "      <th>1</th>\n",
       "      <td>1.0</td>\n",
       "      <td>18 hours ago</td>\n",
       "      <td>Vergonzoso.\\nMenudo personal….sin educación, s...</td>\n",
       "      <td>2024-02-12</td>\n",
       "      <td>San Sebastián de los Reyes</td>\n",
       "      <td>Paseo de Europa, 34</td>\n",
       "      <td>Hospital Universitario Infanta Sofía</td>\n",
       "      <td>28702</td>\n",
       "    </tr>\n",
       "    <tr>\n",
       "      <th>2</th>\n",
       "      <td>1.0</td>\n",
       "      <td>a day ago</td>\n",
       "      <td>El peor hospital con diferencia en cuanto a ur...</td>\n",
       "      <td>2024-02-01</td>\n",
       "      <td>San Sebastián de los Reyes</td>\n",
       "      <td>Paseo de Europa, 34</td>\n",
       "      <td>Hospital Universitario Infanta Sofía</td>\n",
       "      <td>28702</td>\n",
       "    </tr>\n",
       "    <tr>\n",
       "      <th>3</th>\n",
       "      <td>5.0</td>\n",
       "      <td>4 days ago</td>\n",
       "      <td>Muy profesionales y efectivo. Es muy fácil ori...</td>\n",
       "      <td>2024-02-01</td>\n",
       "      <td>San Sebastián de los Reyes</td>\n",
       "      <td>Paseo de Europa, 34</td>\n",
       "      <td>Hospital Universitario Infanta Sofía</td>\n",
       "      <td>28702</td>\n",
       "    </tr>\n",
       "    <tr>\n",
       "      <th>4</th>\n",
       "      <td>1.0</td>\n",
       "      <td>5 days ago</td>\n",
       "      <td>Ni se molesten en venir, al menos no de urgenc...</td>\n",
       "      <td>2024-02-01</td>\n",
       "      <td>San Sebastián de los Reyes</td>\n",
       "      <td>Paseo de Europa, 34</td>\n",
       "      <td>Hospital Universitario Infanta Sofía</td>\n",
       "      <td>28702</td>\n",
       "    </tr>\n",
       "  </tbody>\n",
       "</table>\n",
       "</div>"
      ],
      "text/plain": [
       "   rating          date                                            snippet  \\\n",
       "0     2.0   an hour ago  He venido a la urgencia del hospital Infanta S...   \n",
       "1     1.0  18 hours ago  Vergonzoso.\\nMenudo personal….sin educación, s...   \n",
       "2     1.0     a day ago  El peor hospital con diferencia en cuanto a ur...   \n",
       "3     5.0    4 days ago  Muy profesionales y efectivo. Es muy fácil ori...   \n",
       "4     1.0    5 days ago  Ni se molesten en venir, al menos no de urgenc...   \n",
       "\n",
       "        Fecha                      Ciudad            Dirección  \\\n",
       "0  2024-02-01  San Sebastián de los Reyes  Paseo de Europa, 34   \n",
       "1  2024-02-12  San Sebastián de los Reyes  Paseo de Europa, 34   \n",
       "2  2024-02-01  San Sebastián de los Reyes  Paseo de Europa, 34   \n",
       "3  2024-02-01  San Sebastián de los Reyes  Paseo de Europa, 34   \n",
       "4  2024-02-01  San Sebastián de los Reyes  Paseo de Europa, 34   \n",
       "\n",
       "                        Establecimiento     CP  \n",
       "0  Hospital Universitario Infanta Sofía  28702  \n",
       "1  Hospital Universitario Infanta Sofía  28702  \n",
       "2  Hospital Universitario Infanta Sofía  28702  \n",
       "3  Hospital Universitario Infanta Sofía  28702  \n",
       "4  Hospital Universitario Infanta Sofía  28702  "
      ]
     },
     "execution_count": 51,
     "metadata": {},
     "output_type": "execute_result"
    }
   ],
   "source": [
    "df_infanta_sofia.head()"
   ]
  },
  {
   "cell_type": "code",
   "execution_count": 52,
   "id": "0f92520b",
   "metadata": {},
   "outputs": [],
   "source": [
    "df_infanta_sofia.drop('date', axis=1, inplace=True)"
   ]
  },
  {
   "cell_type": "code",
   "execution_count": 53,
   "id": "a66d447a",
   "metadata": {},
   "outputs": [
    {
     "name": "stdout",
     "output_type": "stream",
     "text": [
      "<class 'pandas.core.frame.DataFrame'>\n",
      "Int64Index: 267 entries, 0 to 266\n",
      "Data columns (total 7 columns):\n",
      " #   Column           Non-Null Count  Dtype  \n",
      "---  ------           --------------  -----  \n",
      " 0   rating           267 non-null    float64\n",
      " 1   snippet          232 non-null    object \n",
      " 2   Fecha            267 non-null    object \n",
      " 3   Ciudad           267 non-null    object \n",
      " 4   Dirección        267 non-null    object \n",
      " 5   Establecimiento  267 non-null    object \n",
      " 6   CP               267 non-null    int64  \n",
      "dtypes: float64(1), int64(1), object(5)\n",
      "memory usage: 16.7+ KB\n"
     ]
    }
   ],
   "source": [
    "df_infanta_sofia.info()"
   ]
  },
  {
   "cell_type": "code",
   "execution_count": 54,
   "id": "5e0d42f8",
   "metadata": {},
   "outputs": [],
   "source": [
    "df_infanta_sofia['rating'] = df_infanta_sofia['rating'].astype('int64')"
   ]
  },
  {
   "cell_type": "code",
   "execution_count": 55,
   "id": "b7cb2b59",
   "metadata": {},
   "outputs": [],
   "source": [
    "df_infanta_sofia['Fecha'] = pd.to_datetime(df_infanta_sofia['Fecha'])"
   ]
  },
  {
   "cell_type": "code",
   "execution_count": 56,
   "id": "9006d107",
   "metadata": {},
   "outputs": [
    {
     "name": "stdout",
     "output_type": "stream",
     "text": [
      "<class 'pandas.core.frame.DataFrame'>\n",
      "Int64Index: 267 entries, 0 to 266\n",
      "Data columns (total 7 columns):\n",
      " #   Column           Non-Null Count  Dtype         \n",
      "---  ------           --------------  -----         \n",
      " 0   rating           267 non-null    int64         \n",
      " 1   snippet          232 non-null    object        \n",
      " 2   Fecha            267 non-null    datetime64[ns]\n",
      " 3   Ciudad           267 non-null    object        \n",
      " 4   Dirección        267 non-null    object        \n",
      " 5   Establecimiento  267 non-null    object        \n",
      " 6   CP               267 non-null    int64         \n",
      "dtypes: datetime64[ns](1), int64(2), object(4)\n",
      "memory usage: 16.7+ KB\n"
     ]
    }
   ],
   "source": [
    "df_infanta_sofia.info()"
   ]
  },
  {
   "cell_type": "markdown",
   "id": "25622457",
   "metadata": {},
   "source": [
    "# Hosp. Univ. Fundación Alcorcón"
   ]
  },
  {
   "cell_type": "code",
   "execution_count": 57,
   "id": "a63b85f4",
   "metadata": {},
   "outputs": [],
   "source": [
    "api_call_1 = pd.read_csv('./fund_alcorcon/fund_alcorcon_1.csv')\n",
    "api_call_2 = pd.read_csv('./fund_alcorcon/fund_alcorcon_2.csv')\n",
    "api_call_3 = pd.read_csv('./fund_alcorcon/fund_alcorcon_3.csv')\n",
    "api_call_4 = pd.read_csv('./fund_alcorcon/fund_alcorcon_4.csv')\n",
    "api_call_5 = pd.read_csv('./fund_alcorcon/fund_alcorcon_5.csv')\n",
    "api_call_6 = pd.read_csv('./fund_alcorcon/fund_alcorcon_6.csv')\n",
    "api_call_7 = pd.read_csv('./fund_alcorcon/fund_alcorcon_7.csv')\n",
    "api_call_8 = pd.read_csv('./fund_alcorcon/fund_alcorcon_8.csv')\n",
    "api_call_9 = pd.read_csv('./fund_alcorcon/fund_alcorcon_9.csv')\n",
    "api_call_10 = pd.read_csv('./fund_alcorcon/fund_alcorcon_10.csv')\n",
    "api_call_11 = pd.read_csv('./fund_alcorcon/fund_alcorcon_11.csv')\n",
    "api_call_12 = pd.read_csv('./fund_alcorcon/fund_alcorcon_12.csv')\n",
    "api_call_13 = pd.read_csv('./fund_alcorcon/fund_alcorcon_13.csv')\n",
    "api_call_14 = pd.read_csv('./fund_alcorcon/fund_alcorcon_14.csv')\n",
    "api_call_15 = pd.read_csv('./fund_alcorcon/fund_alcorcon_15.csv')\n",
    "api_call_16 = pd.read_csv('./fund_alcorcon/fund_alcorcon_16.csv')\n",
    "api_call_17 = pd.read_csv('./fund_alcorcon/fund_alcorcon_17.csv')\n",
    "api_call_18 = pd.read_csv('./fund_alcorcon/fund_alcorcon_18.csv')\n",
    "api_call_19 = pd.read_csv('./fund_alcorcon/fund_alcorcon_19.csv')\n",
    "api_call_20 = pd.read_csv('./fund_alcorcon/fund_alcorcon_20.csv')\n",
    "api_call_21 = pd.read_csv('./fund_alcorcon/fund_alcorcon_21.csv')"
   ]
  },
  {
   "cell_type": "code",
   "execution_count": 58,
   "id": "bce38155",
   "metadata": {},
   "outputs": [],
   "source": [
    "df_fund_alcorcon = pd.concat([api_call_1,\n",
    "                            api_call_2,\n",
    "                            api_call_3,\n",
    "                            api_call_4,\n",
    "                            api_call_5,\n",
    "                            api_call_6,\n",
    "                            api_call_7,\n",
    "                            api_call_8,\n",
    "                            api_call_9,\n",
    "                            api_call_10,\n",
    "                            api_call_11,\n",
    "                            api_call_12,\n",
    "                            api_call_13,\n",
    "                             api_call_14,\n",
    "                             api_call_15,\n",
    "                             api_call_16,\n",
    "                             api_call_17,\n",
    "                             api_call_18,\n",
    "                             api_call_19,\n",
    "                             api_call_20,\n",
    "                             api_call_21], sort=False, ignore_index=True)"
   ]
  },
  {
   "cell_type": "code",
   "execution_count": 59,
   "id": "d21b2b74",
   "metadata": {},
   "outputs": [
    {
     "data": {
      "text/html": [
       "<div>\n",
       "<style scoped>\n",
       "    .dataframe tbody tr th:only-of-type {\n",
       "        vertical-align: middle;\n",
       "    }\n",
       "\n",
       "    .dataframe tbody tr th {\n",
       "        vertical-align: top;\n",
       "    }\n",
       "\n",
       "    .dataframe thead th {\n",
       "        text-align: right;\n",
       "    }\n",
       "</style>\n",
       "<table border=\"1\" class=\"dataframe\">\n",
       "  <thead>\n",
       "    <tr style=\"text-align: right;\">\n",
       "      <th></th>\n",
       "      <th>Unnamed: 0</th>\n",
       "      <th>link</th>\n",
       "      <th>rating</th>\n",
       "      <th>date</th>\n",
       "      <th>source</th>\n",
       "      <th>review_id</th>\n",
       "      <th>snippet</th>\n",
       "      <th>user.name</th>\n",
       "      <th>user.link</th>\n",
       "      <th>user.contributor_id</th>\n",
       "      <th>user.thumbnail</th>\n",
       "      <th>user.local_guide</th>\n",
       "      <th>user.reviews</th>\n",
       "      <th>user.photos</th>\n",
       "      <th>extracted_snippet.original</th>\n",
       "      <th>extracted_snippet.translated</th>\n",
       "      <th>likes</th>\n",
       "      <th>images</th>\n",
       "      <th>details.hoy_25_7_23</th>\n",
       "      <th>details.hoy_8_2_22</th>\n",
       "    </tr>\n",
       "  </thead>\n",
       "  <tbody>\n",
       "    <tr>\n",
       "      <th>0</th>\n",
       "      <td>0</td>\n",
       "      <td>https://www.google.com/maps/reviews/data=!4m8!...</td>\n",
       "      <td>1.0</td>\n",
       "      <td>15 hours ago</td>\n",
       "      <td>Google</td>\n",
       "      <td>ChZDSUhNMG9nS0VJQ0FnSUM5LU51c0l3EAE</td>\n",
       "      <td>Esta semana acompañé a mi pareja embarazada a ...</td>\n",
       "      <td>Hector</td>\n",
       "      <td>https://www.google.com/maps/contrib/1008645205...</td>\n",
       "      <td>100864520572441723420</td>\n",
       "      <td>https://lh3.googleusercontent.com/a-/ALV-UjXK6...</td>\n",
       "      <td>True</td>\n",
       "      <td>47.0</td>\n",
       "      <td>1.0</td>\n",
       "      <td>Esta semana acompañé a mi pareja embarazada a ...</td>\n",
       "      <td>This week I accompanied my pregnant partner to...</td>\n",
       "      <td>NaN</td>\n",
       "      <td>NaN</td>\n",
       "      <td>NaN</td>\n",
       "      <td>NaN</td>\n",
       "    </tr>\n",
       "    <tr>\n",
       "      <th>1</th>\n",
       "      <td>1</td>\n",
       "      <td>https://www.google.com/maps/reviews/data=!4m8!...</td>\n",
       "      <td>5.0</td>\n",
       "      <td>a day ago</td>\n",
       "      <td>Google</td>\n",
       "      <td>ChZDSUhNMG9nS0VJQ0FnSUM5bU1YdENREAE</td>\n",
       "      <td>Quería dar las gracias al personal sanitario d...</td>\n",
       "      <td>Luis Fer</td>\n",
       "      <td>https://www.google.com/maps/contrib/1062095493...</td>\n",
       "      <td>106209549313199949096</td>\n",
       "      <td>https://lh3.googleusercontent.com/a-/ALV-UjXm1...</td>\n",
       "      <td>NaN</td>\n",
       "      <td>6.0</td>\n",
       "      <td>2.0</td>\n",
       "      <td>Quería dar las gracias al personal sanitario d...</td>\n",
       "      <td>I wanted to thank the health staff of this hos...</td>\n",
       "      <td>NaN</td>\n",
       "      <td>NaN</td>\n",
       "      <td>NaN</td>\n",
       "      <td>NaN</td>\n",
       "    </tr>\n",
       "    <tr>\n",
       "      <th>2</th>\n",
       "      <td>2</td>\n",
       "      <td>https://www.google.com/maps/reviews/data=!4m8!...</td>\n",
       "      <td>1.0</td>\n",
       "      <td>3 days ago</td>\n",
       "      <td>Google</td>\n",
       "      <td>ChZDSUhNMG9nS0VJQ0FnSURkbDRQOFlREAE</td>\n",
       "      <td>Lamentable el juego que tienen a la hora de co...</td>\n",
       "      <td>María A</td>\n",
       "      <td>https://www.google.com/maps/contrib/1022979439...</td>\n",
       "      <td>102297943944323205326</td>\n",
       "      <td>https://lh3.googleusercontent.com/a-/ALV-UjW8u...</td>\n",
       "      <td>NaN</td>\n",
       "      <td>8.0</td>\n",
       "      <td>NaN</td>\n",
       "      <td>Lamentable el juego que tienen a la hora de co...</td>\n",
       "      <td>The game they play when picking up the phone i...</td>\n",
       "      <td>NaN</td>\n",
       "      <td>NaN</td>\n",
       "      <td>NaN</td>\n",
       "      <td>NaN</td>\n",
       "    </tr>\n",
       "    <tr>\n",
       "      <th>3</th>\n",
       "      <td>3</td>\n",
       "      <td>https://www.google.com/maps/reviews/data=!4m8!...</td>\n",
       "      <td>5.0</td>\n",
       "      <td>3 days ago</td>\n",
       "      <td>Google</td>\n",
       "      <td>ChdDSUhNMG9nS0VJQ0FnSURkbDdXTjR3RRAB</td>\n",
       "      <td>El hospital funciona y está organizado muy bie...</td>\n",
       "      <td>Federico Jorreto</td>\n",
       "      <td>https://www.google.com/maps/contrib/1172464555...</td>\n",
       "      <td>117246455596146844599</td>\n",
       "      <td>https://lh3.googleusercontent.com/a/ACg8ocJNlQ...</td>\n",
       "      <td>True</td>\n",
       "      <td>12.0</td>\n",
       "      <td>NaN</td>\n",
       "      <td>El hospital funciona y está organizado muy bie...</td>\n",
       "      <td>The hospital works and is organized very well....</td>\n",
       "      <td>NaN</td>\n",
       "      <td>NaN</td>\n",
       "      <td>NaN</td>\n",
       "      <td>NaN</td>\n",
       "    </tr>\n",
       "    <tr>\n",
       "      <th>4</th>\n",
       "      <td>4</td>\n",
       "      <td>https://www.google.com/maps/reviews/data=!4m8!...</td>\n",
       "      <td>4.0</td>\n",
       "      <td>3 days ago</td>\n",
       "      <td>Google</td>\n",
       "      <td>ChZDSUhNMG9nS0VJQ0FnSURkdV9yOWR3EAE</td>\n",
       "      <td>NaN</td>\n",
       "      <td>Jose Juan Palomar</td>\n",
       "      <td>https://www.google.com/maps/contrib/1123203942...</td>\n",
       "      <td>112320394264644049607</td>\n",
       "      <td>https://lh3.googleusercontent.com/a-/ALV-UjVxB...</td>\n",
       "      <td>True</td>\n",
       "      <td>17.0</td>\n",
       "      <td>234.0</td>\n",
       "      <td>NaN</td>\n",
       "      <td>NaN</td>\n",
       "      <td>NaN</td>\n",
       "      <td>NaN</td>\n",
       "      <td>NaN</td>\n",
       "      <td>NaN</td>\n",
       "    </tr>\n",
       "  </tbody>\n",
       "</table>\n",
       "</div>"
      ],
      "text/plain": [
       "   Unnamed: 0                                               link  rating  \\\n",
       "0           0  https://www.google.com/maps/reviews/data=!4m8!...     1.0   \n",
       "1           1  https://www.google.com/maps/reviews/data=!4m8!...     5.0   \n",
       "2           2  https://www.google.com/maps/reviews/data=!4m8!...     1.0   \n",
       "3           3  https://www.google.com/maps/reviews/data=!4m8!...     5.0   \n",
       "4           4  https://www.google.com/maps/reviews/data=!4m8!...     4.0   \n",
       "\n",
       "           date  source                             review_id  \\\n",
       "0  15 hours ago  Google   ChZDSUhNMG9nS0VJQ0FnSUM5LU51c0l3EAE   \n",
       "1     a day ago  Google   ChZDSUhNMG9nS0VJQ0FnSUM5bU1YdENREAE   \n",
       "2    3 days ago  Google   ChZDSUhNMG9nS0VJQ0FnSURkbDRQOFlREAE   \n",
       "3    3 days ago  Google  ChdDSUhNMG9nS0VJQ0FnSURkbDdXTjR3RRAB   \n",
       "4    3 days ago  Google   ChZDSUhNMG9nS0VJQ0FnSURkdV9yOWR3EAE   \n",
       "\n",
       "                                             snippet          user.name  \\\n",
       "0  Esta semana acompañé a mi pareja embarazada a ...             Hector   \n",
       "1  Quería dar las gracias al personal sanitario d...           Luis Fer   \n",
       "2  Lamentable el juego que tienen a la hora de co...            María A   \n",
       "3  El hospital funciona y está organizado muy bie...   Federico Jorreto   \n",
       "4                                                NaN  Jose Juan Palomar   \n",
       "\n",
       "                                           user.link    user.contributor_id  \\\n",
       "0  https://www.google.com/maps/contrib/1008645205...  100864520572441723420   \n",
       "1  https://www.google.com/maps/contrib/1062095493...  106209549313199949096   \n",
       "2  https://www.google.com/maps/contrib/1022979439...  102297943944323205326   \n",
       "3  https://www.google.com/maps/contrib/1172464555...  117246455596146844599   \n",
       "4  https://www.google.com/maps/contrib/1123203942...  112320394264644049607   \n",
       "\n",
       "                                      user.thumbnail user.local_guide  \\\n",
       "0  https://lh3.googleusercontent.com/a-/ALV-UjXK6...             True   \n",
       "1  https://lh3.googleusercontent.com/a-/ALV-UjXm1...              NaN   \n",
       "2  https://lh3.googleusercontent.com/a-/ALV-UjW8u...              NaN   \n",
       "3  https://lh3.googleusercontent.com/a/ACg8ocJNlQ...             True   \n",
       "4  https://lh3.googleusercontent.com/a-/ALV-UjVxB...             True   \n",
       "\n",
       "   user.reviews  user.photos  \\\n",
       "0          47.0          1.0   \n",
       "1           6.0          2.0   \n",
       "2           8.0          NaN   \n",
       "3          12.0          NaN   \n",
       "4          17.0        234.0   \n",
       "\n",
       "                          extracted_snippet.original  \\\n",
       "0  Esta semana acompañé a mi pareja embarazada a ...   \n",
       "1  Quería dar las gracias al personal sanitario d...   \n",
       "2  Lamentable el juego que tienen a la hora de co...   \n",
       "3  El hospital funciona y está organizado muy bie...   \n",
       "4                                                NaN   \n",
       "\n",
       "                        extracted_snippet.translated  likes images  \\\n",
       "0  This week I accompanied my pregnant partner to...    NaN    NaN   \n",
       "1  I wanted to thank the health staff of this hos...    NaN    NaN   \n",
       "2  The game they play when picking up the phone i...    NaN    NaN   \n",
       "3  The hospital works and is organized very well....    NaN    NaN   \n",
       "4                                                NaN    NaN    NaN   \n",
       "\n",
       "  details.hoy_25_7_23 details.hoy_8_2_22  \n",
       "0                 NaN                NaN  \n",
       "1                 NaN                NaN  \n",
       "2                 NaN                NaN  \n",
       "3                 NaN                NaN  \n",
       "4                 NaN                NaN  "
      ]
     },
     "execution_count": 59,
     "metadata": {},
     "output_type": "execute_result"
    }
   ],
   "source": [
    "df_fund_alcorcon.head()"
   ]
  },
  {
   "cell_type": "code",
   "execution_count": 60,
   "id": "bc2f1f77",
   "metadata": {},
   "outputs": [
    {
     "name": "stdout",
     "output_type": "stream",
     "text": [
      "<class 'pandas.core.frame.DataFrame'>\n",
      "RangeIndex: 210 entries, 0 to 209\n",
      "Data columns (total 20 columns):\n",
      " #   Column                        Non-Null Count  Dtype  \n",
      "---  ------                        --------------  -----  \n",
      " 0   Unnamed: 0                    210 non-null    int64  \n",
      " 1   link                          210 non-null    object \n",
      " 2   rating                        210 non-null    float64\n",
      " 3   date                          210 non-null    object \n",
      " 4   source                        210 non-null    object \n",
      " 5   review_id                     210 non-null    object \n",
      " 6   snippet                       163 non-null    object \n",
      " 7   user.name                     210 non-null    object \n",
      " 8   user.link                     210 non-null    object \n",
      " 9   user.contributor_id           210 non-null    object \n",
      " 10  user.thumbnail                210 non-null    object \n",
      " 11  user.local_guide              105 non-null    object \n",
      " 12  user.reviews                  207 non-null    float64\n",
      " 13  user.photos                   123 non-null    float64\n",
      " 14  extracted_snippet.original    163 non-null    object \n",
      " 15  extracted_snippet.translated  163 non-null    object \n",
      " 16  likes                         95 non-null     float64\n",
      " 17  images                        5 non-null      object \n",
      " 18  details.hoy_25_7_23           1 non-null      object \n",
      " 19  details.hoy_8_2_22            1 non-null      object \n",
      "dtypes: float64(4), int64(1), object(15)\n",
      "memory usage: 32.9+ KB\n"
     ]
    }
   ],
   "source": [
    "df_fund_alcorcon.info()"
   ]
  },
  {
   "cell_type": "code",
   "execution_count": 61,
   "id": "3f4182ad",
   "metadata": {},
   "outputs": [
    {
     "name": "stdout",
     "output_type": "stream",
     "text": [
      "Eliminadas las columnas innecesarias del DataFrame. Ahora cuenta con las siguientes columnas:  3\n"
     ]
    }
   ],
   "source": [
    "drop_cols = ['Unnamed: 0',\n",
    "                 'link',\n",
    "                'source',\n",
    "                'review_id',\n",
    "                'user.name',\n",
    "                'user.link',\n",
    "                'user.contributor_id',\n",
    "                'user.thumbnail',\n",
    "             'user.local_guide',\n",
    "                'user.reviews',\n",
    "             'user.photos',\n",
    "                'extracted_snippet.original',\n",
    "                'extracted_snippet.translated',\n",
    "                'likes',\n",
    "                'details.hoy_25_7_23',\n",
    "                'details.hoy_8_2_22',\n",
    "            'images']\n",
    "                #'details.no_me_deja_responderos_por_lo_que_edito_22_08_23_10']\n",
    "df_fund_alcorcon = df_fund_alcorcon.drop(columns=[columna for columna in drop_cols if columna in df_fund_alcorcon.columns], errors='ignore')\n",
    "print(f'Eliminadas las columnas innecesarias del DataFrame. Ahora cuenta con las siguientes columnas: ', len(df_fund_alcorcon.columns))"
   ]
  },
  {
   "cell_type": "code",
   "execution_count": 62,
   "id": "222c4031",
   "metadata": {},
   "outputs": [
    {
     "name": "stdout",
     "output_type": "stream",
     "text": [
      "<class 'pandas.core.frame.DataFrame'>\n",
      "RangeIndex: 210 entries, 0 to 209\n",
      "Data columns (total 3 columns):\n",
      " #   Column   Non-Null Count  Dtype  \n",
      "---  ------   --------------  -----  \n",
      " 0   rating   210 non-null    float64\n",
      " 1   date     210 non-null    object \n",
      " 2   snippet  163 non-null    object \n",
      "dtypes: float64(1), object(2)\n",
      "memory usage: 5.0+ KB\n"
     ]
    }
   ],
   "source": [
    "df_fund_alcorcon.info()"
   ]
  },
  {
   "cell_type": "code",
   "execution_count": 63,
   "id": "52aff02e",
   "metadata": {},
   "outputs": [
    {
     "data": {
      "text/plain": [
       "array(['15 hours ago', 'a day ago', '3 days ago', '5 days ago',\n",
       "       'a week ago', '2 weeks ago', '3 weeks ago', '4 weeks ago',\n",
       "       'a month ago', '2 months ago', '3 months ago', '4 months ago',\n",
       "       '5 months ago', '6 months ago', '7 months ago', '8 months ago',\n",
       "       '9 months ago', '10 months ago', '11 months ago', 'a year ago'],\n",
       "      dtype=object)"
      ]
     },
     "execution_count": 63,
     "metadata": {},
     "output_type": "execute_result"
    }
   ],
   "source": [
    "df_fund_alcorcon['date'].unique()"
   ]
  },
  {
   "cell_type": "code",
   "execution_count": 64,
   "id": "3f4bfd69",
   "metadata": {},
   "outputs": [],
   "source": [
    "fechas = {\n",
    "    '15 hours ago': '2024-02-12',\n",
    "    'a day ago': '2024-02-01',\n",
    "    '3 days ago': '2024-02-01',\n",
    "    '5 days ago': '2024-02-01',\n",
    "    'a week ago': '2024-02-01',\n",
    "    '2 weeks ago': '2024-02-01',\n",
    "    '3 weeks ago': '2024-02-01',\n",
    "    '4 weeks ago': '2024-02-01',\n",
    "    'a month ago': '2024-01-01',\n",
    "    '2 months ago': '2023-12-01',\n",
    "    '3 months ago': '2023-11-01',\n",
    "    '4 months ago': '2023-10-01',\n",
    "    '5 months ago': '2023-09-01',\n",
    "    '6 months ago': '2023-08-01',\n",
    "    '7 months ago': '2023-07-01',\n",
    "    '8 months ago': '2023-06-01',\n",
    "    '9 months ago': '2023-05-01',\n",
    "    '10 months ago': '2023-04-01',\n",
    "    '11 months ago': '2023-03-01',\n",
    "    'a year ago': 'eliminar'\n",
    "}"
   ]
  },
  {
   "cell_type": "code",
   "execution_count": 65,
   "id": "5236fe19",
   "metadata": {},
   "outputs": [],
   "source": [
    "df_fund_alcorcon['Fecha'] = df_fund_alcorcon['date'].map(fechas).fillna(pd.to_datetime(df_fund_alcorcon['date'], errors='coerce'))"
   ]
  },
  {
   "cell_type": "code",
   "execution_count": 66,
   "id": "507163de",
   "metadata": {},
   "outputs": [
    {
     "name": "stdout",
     "output_type": "stream",
     "text": [
      "<class 'pandas.core.frame.DataFrame'>\n",
      "RangeIndex: 210 entries, 0 to 209\n",
      "Data columns (total 4 columns):\n",
      " #   Column   Non-Null Count  Dtype  \n",
      "---  ------   --------------  -----  \n",
      " 0   rating   210 non-null    float64\n",
      " 1   date     210 non-null    object \n",
      " 2   snippet  163 non-null    object \n",
      " 3   Fecha    210 non-null    object \n",
      "dtypes: float64(1), object(3)\n",
      "memory usage: 6.7+ KB\n"
     ]
    }
   ],
   "source": [
    "df_fund_alcorcon.info()"
   ]
  },
  {
   "cell_type": "code",
   "execution_count": 69,
   "id": "7b7ba7ed",
   "metadata": {},
   "outputs": [],
   "source": [
    "df_fund_alcorcon = df_fund_alcorcon[df_fund_alcorcon['Fecha'] != 'eliminar']"
   ]
  },
  {
   "cell_type": "code",
   "execution_count": 70,
   "id": "ce3d8504",
   "metadata": {},
   "outputs": [
    {
     "name": "stdout",
     "output_type": "stream",
     "text": [
      "<class 'pandas.core.frame.DataFrame'>\n",
      "Int64Index: 201 entries, 0 to 200\n",
      "Data columns (total 4 columns):\n",
      " #   Column   Non-Null Count  Dtype  \n",
      "---  ------   --------------  -----  \n",
      " 0   rating   201 non-null    float64\n",
      " 1   date     201 non-null    object \n",
      " 2   snippet  155 non-null    object \n",
      " 3   Fecha    201 non-null    object \n",
      "dtypes: float64(1), object(3)\n",
      "memory usage: 7.9+ KB\n"
     ]
    }
   ],
   "source": [
    "df_fund_alcorcon.info()"
   ]
  },
  {
   "cell_type": "code",
   "execution_count": 71,
   "id": "201bdb6c",
   "metadata": {},
   "outputs": [],
   "source": [
    "df_fund_alcorcon.drop('date', axis=1, inplace=True)"
   ]
  },
  {
   "cell_type": "code",
   "execution_count": 72,
   "id": "128a2cb8",
   "metadata": {},
   "outputs": [
    {
     "name": "stdout",
     "output_type": "stream",
     "text": [
      "<class 'pandas.core.frame.DataFrame'>\n",
      "Int64Index: 201 entries, 0 to 200\n",
      "Data columns (total 3 columns):\n",
      " #   Column   Non-Null Count  Dtype  \n",
      "---  ------   --------------  -----  \n",
      " 0   rating   201 non-null    float64\n",
      " 1   snippet  155 non-null    object \n",
      " 2   Fecha    201 non-null    object \n",
      "dtypes: float64(1), object(2)\n",
      "memory usage: 6.3+ KB\n"
     ]
    }
   ],
   "source": [
    "df_fund_alcorcon.info()"
   ]
  },
  {
   "cell_type": "code",
   "execution_count": 73,
   "id": "1923d4de",
   "metadata": {},
   "outputs": [],
   "source": [
    "df_fund_alcorcon['rating'] = df_fund_alcorcon['rating'].astype('int64')"
   ]
  },
  {
   "cell_type": "code",
   "execution_count": 74,
   "id": "f779e7ec",
   "metadata": {},
   "outputs": [],
   "source": [
    "df_fund_alcorcon['Fecha'] = pd.to_datetime(df_fund_alcorcon['Fecha'])"
   ]
  },
  {
   "cell_type": "code",
   "execution_count": 75,
   "id": "79f74278",
   "metadata": {},
   "outputs": [
    {
     "name": "stdout",
     "output_type": "stream",
     "text": [
      "<class 'pandas.core.frame.DataFrame'>\n",
      "Int64Index: 201 entries, 0 to 200\n",
      "Data columns (total 3 columns):\n",
      " #   Column   Non-Null Count  Dtype         \n",
      "---  ------   --------------  -----         \n",
      " 0   rating   201 non-null    int64         \n",
      " 1   snippet  155 non-null    object        \n",
      " 2   Fecha    201 non-null    datetime64[ns]\n",
      "dtypes: datetime64[ns](1), int64(1), object(1)\n",
      "memory usage: 6.3+ KB\n"
     ]
    }
   ],
   "source": [
    "df_fund_alcorcon.info()"
   ]
  },
  {
   "cell_type": "code",
   "execution_count": 76,
   "id": "afeada61",
   "metadata": {},
   "outputs": [],
   "source": [
    "df_fund_alcorcon = df_fund_alcorcon.assign(Ciudad='Alcorcón', Dirección='Calle Budapest, 1', Establecimiento='Hospital Universitario Fundación Alcorcón', CP=28922)"
   ]
  },
  {
   "cell_type": "code",
   "execution_count": 77,
   "id": "c12f6749",
   "metadata": {},
   "outputs": [
    {
     "name": "stdout",
     "output_type": "stream",
     "text": [
      "<class 'pandas.core.frame.DataFrame'>\n",
      "Int64Index: 201 entries, 0 to 200\n",
      "Data columns (total 7 columns):\n",
      " #   Column           Non-Null Count  Dtype         \n",
      "---  ------           --------------  -----         \n",
      " 0   rating           201 non-null    int64         \n",
      " 1   snippet          155 non-null    object        \n",
      " 2   Fecha            201 non-null    datetime64[ns]\n",
      " 3   Ciudad           201 non-null    object        \n",
      " 4   Dirección        201 non-null    object        \n",
      " 5   Establecimiento  201 non-null    object        \n",
      " 6   CP               201 non-null    int64         \n",
      "dtypes: datetime64[ns](1), int64(2), object(4)\n",
      "memory usage: 12.6+ KB\n"
     ]
    }
   ],
   "source": [
    "df_fund_alcorcon.info()"
   ]
  },
  {
   "cell_type": "code",
   "execution_count": 78,
   "id": "98c333ae",
   "metadata": {},
   "outputs": [
    {
     "data": {
      "text/html": [
       "<div>\n",
       "<style scoped>\n",
       "    .dataframe tbody tr th:only-of-type {\n",
       "        vertical-align: middle;\n",
       "    }\n",
       "\n",
       "    .dataframe tbody tr th {\n",
       "        vertical-align: top;\n",
       "    }\n",
       "\n",
       "    .dataframe thead th {\n",
       "        text-align: right;\n",
       "    }\n",
       "</style>\n",
       "<table border=\"1\" class=\"dataframe\">\n",
       "  <thead>\n",
       "    <tr style=\"text-align: right;\">\n",
       "      <th></th>\n",
       "      <th>rating</th>\n",
       "      <th>snippet</th>\n",
       "      <th>Fecha</th>\n",
       "      <th>Ciudad</th>\n",
       "      <th>Dirección</th>\n",
       "      <th>Establecimiento</th>\n",
       "      <th>CP</th>\n",
       "    </tr>\n",
       "  </thead>\n",
       "  <tbody>\n",
       "    <tr>\n",
       "      <th>196</th>\n",
       "      <td>1</td>\n",
       "      <td>Es lo más pésimo en atención que te puedes enc...</td>\n",
       "      <td>2023-03-01</td>\n",
       "      <td>Alcorcón</td>\n",
       "      <td>Calle Budapest, 1</td>\n",
       "      <td>Hospital Universitario Fundación Alcorcón</td>\n",
       "      <td>28922</td>\n",
       "    </tr>\n",
       "    <tr>\n",
       "      <th>197</th>\n",
       "      <td>3</td>\n",
       "      <td>He tenido que esperar mucho</td>\n",
       "      <td>2023-03-01</td>\n",
       "      <td>Alcorcón</td>\n",
       "      <td>Calle Budapest, 1</td>\n",
       "      <td>Hospital Universitario Fundación Alcorcón</td>\n",
       "      <td>28922</td>\n",
       "    </tr>\n",
       "    <tr>\n",
       "      <th>198</th>\n",
       "      <td>5</td>\n",
       "      <td>NaN</td>\n",
       "      <td>2023-03-01</td>\n",
       "      <td>Alcorcón</td>\n",
       "      <td>Calle Budapest, 1</td>\n",
       "      <td>Hospital Universitario Fundación Alcorcón</td>\n",
       "      <td>28922</td>\n",
       "    </tr>\n",
       "    <tr>\n",
       "      <th>199</th>\n",
       "      <td>1</td>\n",
       "      <td>Soy de Alcorcón de toda la vida, y podría cont...</td>\n",
       "      <td>2023-03-01</td>\n",
       "      <td>Alcorcón</td>\n",
       "      <td>Calle Budapest, 1</td>\n",
       "      <td>Hospital Universitario Fundación Alcorcón</td>\n",
       "      <td>28922</td>\n",
       "    </tr>\n",
       "    <tr>\n",
       "      <th>200</th>\n",
       "      <td>1</td>\n",
       "      <td>NaN</td>\n",
       "      <td>2023-03-01</td>\n",
       "      <td>Alcorcón</td>\n",
       "      <td>Calle Budapest, 1</td>\n",
       "      <td>Hospital Universitario Fundación Alcorcón</td>\n",
       "      <td>28922</td>\n",
       "    </tr>\n",
       "  </tbody>\n",
       "</table>\n",
       "</div>"
      ],
      "text/plain": [
       "     rating                                            snippet      Fecha  \\\n",
       "196       1  Es lo más pésimo en atención que te puedes enc... 2023-03-01   \n",
       "197       3                        He tenido que esperar mucho 2023-03-01   \n",
       "198       5                                                NaN 2023-03-01   \n",
       "199       1  Soy de Alcorcón de toda la vida, y podría cont... 2023-03-01   \n",
       "200       1                                                NaN 2023-03-01   \n",
       "\n",
       "       Ciudad          Dirección                            Establecimiento  \\\n",
       "196  Alcorcón  Calle Budapest, 1  Hospital Universitario Fundación Alcorcón   \n",
       "197  Alcorcón  Calle Budapest, 1  Hospital Universitario Fundación Alcorcón   \n",
       "198  Alcorcón  Calle Budapest, 1  Hospital Universitario Fundación Alcorcón   \n",
       "199  Alcorcón  Calle Budapest, 1  Hospital Universitario Fundación Alcorcón   \n",
       "200  Alcorcón  Calle Budapest, 1  Hospital Universitario Fundación Alcorcón   \n",
       "\n",
       "        CP  \n",
       "196  28922  \n",
       "197  28922  \n",
       "198  28922  \n",
       "199  28922  \n",
       "200  28922  "
      ]
     },
     "execution_count": 78,
     "metadata": {},
     "output_type": "execute_result"
    }
   ],
   "source": [
    "df_fund_alcorcon.tail()"
   ]
  },
  {
   "cell_type": "markdown",
   "id": "576c8a84",
   "metadata": {},
   "source": [
    "# Hosp. Univ. Infanta Leonor"
   ]
  },
  {
   "cell_type": "code",
   "execution_count": 80,
   "id": "813672b7",
   "metadata": {},
   "outputs": [],
   "source": [
    "api_call_1 = pd.read_csv('./infanta_leonor/infanta_leonor_1.csv')\n",
    "api_call_2 = pd.read_csv('./infanta_leonor/infanta_leonor_2.csv')\n",
    "api_call_3 = pd.read_csv('./infanta_leonor/infanta_leonor_3.csv')\n",
    "api_call_4 = pd.read_csv('./infanta_leonor/infanta_leonor_4.csv')\n",
    "api_call_5 = pd.read_csv('./infanta_leonor/infanta_leonor_5.csv')\n",
    "api_call_6 = pd.read_csv('./infanta_leonor/infanta_leonor_6.csv')\n",
    "api_call_7 = pd.read_csv('./infanta_leonor/infanta_leonor_7.csv')\n",
    "api_call_8 = pd.read_csv('./infanta_leonor/infanta_leonor_8.csv')\n",
    "api_call_9 = pd.read_csv('./infanta_leonor/infanta_leonor_9.csv')\n",
    "api_call_10 = pd.read_csv('./infanta_leonor/infanta_leonor_10.csv')\n",
    "api_call_11 = pd.read_csv('./infanta_leonor/infanta_leonor_11.csv')\n",
    "api_call_12 = pd.read_csv('./infanta_leonor/infanta_leonor_12.csv')\n",
    "api_call_13 = pd.read_csv('./infanta_leonor/infanta_leonor_13.csv')\n",
    "api_call_14 = pd.read_csv('./infanta_leonor/infanta_leonor_14.csv')\n",
    "api_call_15 = pd.read_csv('./infanta_leonor/infanta_leonor_15.csv')\n",
    "api_call_16 = pd.read_csv('./infanta_leonor/infanta_leonor_16.csv')\n",
    "api_call_17 = pd.read_csv('./infanta_leonor/infanta_leonor_17.csv')\n",
    "api_call_18 = pd.read_csv('./infanta_leonor/infanta_leonor_18.csv')\n",
    "api_call_19 = pd.read_csv('./infanta_leonor/infanta_leonor_19.csv')\n",
    "api_call_20 = pd.read_csv('./infanta_leonor/infanta_leonor_20.csv')\n",
    "api_call_21 = pd.read_csv('./infanta_leonor/infanta_leonor_21.csv')\n",
    "api_call_22 = pd.read_csv('./infanta_leonor/infanta_leonor_22.csv')"
   ]
  },
  {
   "cell_type": "code",
   "execution_count": 81,
   "id": "be91b518",
   "metadata": {},
   "outputs": [],
   "source": [
    "df_infanta_leonor = pd.concat([api_call_1,\n",
    "                            api_call_2,\n",
    "                            api_call_3,\n",
    "                            api_call_4,\n",
    "                            api_call_5,\n",
    "                            api_call_6,\n",
    "                            api_call_7,\n",
    "                            api_call_8,\n",
    "                            api_call_9,\n",
    "                            api_call_10,\n",
    "                            api_call_11,\n",
    "                            api_call_12,\n",
    "                            api_call_13,\n",
    "                             api_call_14,\n",
    "                             api_call_15,\n",
    "                             api_call_16,\n",
    "                             api_call_17,\n",
    "                             api_call_18,\n",
    "                             api_call_19,\n",
    "                             api_call_20,\n",
    "                             api_call_21,\n",
    "                              api_call_22], sort=False, ignore_index=True)"
   ]
  },
  {
   "cell_type": "code",
   "execution_count": 82,
   "id": "85a5ef3f",
   "metadata": {},
   "outputs": [
    {
     "data": {
      "text/html": [
       "<div>\n",
       "<style scoped>\n",
       "    .dataframe tbody tr th:only-of-type {\n",
       "        vertical-align: middle;\n",
       "    }\n",
       "\n",
       "    .dataframe tbody tr th {\n",
       "        vertical-align: top;\n",
       "    }\n",
       "\n",
       "    .dataframe thead th {\n",
       "        text-align: right;\n",
       "    }\n",
       "</style>\n",
       "<table border=\"1\" class=\"dataframe\">\n",
       "  <thead>\n",
       "    <tr style=\"text-align: right;\">\n",
       "      <th></th>\n",
       "      <th>Unnamed: 0</th>\n",
       "      <th>link</th>\n",
       "      <th>rating</th>\n",
       "      <th>date</th>\n",
       "      <th>source</th>\n",
       "      <th>review_id</th>\n",
       "      <th>snippet</th>\n",
       "      <th>user.name</th>\n",
       "      <th>user.link</th>\n",
       "      <th>user.contributor_id</th>\n",
       "      <th>user.thumbnail</th>\n",
       "      <th>user.local_guide</th>\n",
       "      <th>user.reviews</th>\n",
       "      <th>user.photos</th>\n",
       "      <th>extracted_snippet.original</th>\n",
       "      <th>extracted_snippet.translated</th>\n",
       "      <th>likes</th>\n",
       "      <th>images</th>\n",
       "      <th>details.actualización</th>\n",
       "    </tr>\n",
       "  </thead>\n",
       "  <tbody>\n",
       "    <tr>\n",
       "      <th>0</th>\n",
       "      <td>0</td>\n",
       "      <td>https://www.google.com/maps/reviews/data=!4m8!...</td>\n",
       "      <td>5.0</td>\n",
       "      <td>a day ago</td>\n",
       "      <td>Google</td>\n",
       "      <td>ChZDSUhNMG9nS0VJQ0FnSUM5a0xTOUFnEAE</td>\n",
       "      <td>Quiero hacer una mención especial a la Doctora...</td>\n",
       "      <td>Josema Mg</td>\n",
       "      <td>https://www.google.com/maps/contrib/1130061685...</td>\n",
       "      <td>113006168514883839980</td>\n",
       "      <td>https://lh3.googleusercontent.com/a-/ALV-UjWkS...</td>\n",
       "      <td>True</td>\n",
       "      <td>41.0</td>\n",
       "      <td>1.0</td>\n",
       "      <td>Quiero hacer una mención especial a la Doctora...</td>\n",
       "      <td>I want to make a special mention of Dr. Cristi...</td>\n",
       "      <td>NaN</td>\n",
       "      <td>NaN</td>\n",
       "      <td>NaN</td>\n",
       "    </tr>\n",
       "    <tr>\n",
       "      <th>1</th>\n",
       "      <td>1</td>\n",
       "      <td>https://www.google.com/maps/reviews/data=!4m8!...</td>\n",
       "      <td>5.0</td>\n",
       "      <td>a day ago</td>\n",
       "      <td>Google</td>\n",
       "      <td>ChZDSUhNMG9nS0VJQ0FnSUM5OElqTlJ3EAE</td>\n",
       "      <td>La verdad que estoy muy contento con el trato ...</td>\n",
       "      <td>FCOJAVIER RIOJOMAURI</td>\n",
       "      <td>https://www.google.com/maps/contrib/1076541706...</td>\n",
       "      <td>107654170667540029929</td>\n",
       "      <td>https://lh3.googleusercontent.com/a-/ALV-UjVYq...</td>\n",
       "      <td>True</td>\n",
       "      <td>128.0</td>\n",
       "      <td>22.0</td>\n",
       "      <td>La verdad que estoy muy contento con el trato ...</td>\n",
       "      <td>The truth is that I am very happy with the tre...</td>\n",
       "      <td>NaN</td>\n",
       "      <td>NaN</td>\n",
       "      <td>NaN</td>\n",
       "    </tr>\n",
       "    <tr>\n",
       "      <th>2</th>\n",
       "      <td>2</td>\n",
       "      <td>https://www.google.com/maps/reviews/data=!4m8!...</td>\n",
       "      <td>5.0</td>\n",
       "      <td>3 days ago</td>\n",
       "      <td>Google</td>\n",
       "      <td>ChdDSUhNMG9nS0VJQ0FnSURkMjZpZXp3RRAB</td>\n",
       "      <td>NaN</td>\n",
       "      <td>Victor Iglesias</td>\n",
       "      <td>https://www.google.com/maps/contrib/1066539875...</td>\n",
       "      <td>106653987537363960145</td>\n",
       "      <td>https://lh3.googleusercontent.com/a-/ALV-UjWoR...</td>\n",
       "      <td>True</td>\n",
       "      <td>666.0</td>\n",
       "      <td>8156.0</td>\n",
       "      <td>NaN</td>\n",
       "      <td>NaN</td>\n",
       "      <td>NaN</td>\n",
       "      <td>NaN</td>\n",
       "      <td>NaN</td>\n",
       "    </tr>\n",
       "    <tr>\n",
       "      <th>3</th>\n",
       "      <td>3</td>\n",
       "      <td>https://www.google.com/maps/reviews/data=!4m8!...</td>\n",
       "      <td>5.0</td>\n",
       "      <td>4 days ago</td>\n",
       "      <td>Google</td>\n",
       "      <td>ChdDSUhNMG9nS0VJQ0FnSURkMnJmRDRBRRAB</td>\n",
       "      <td>Un hospital con buenos profesionales que saben...</td>\n",
       "      <td>Felicia Ilie</td>\n",
       "      <td>https://www.google.com/maps/contrib/1118933075...</td>\n",
       "      <td>111893307511613428052</td>\n",
       "      <td>https://lh3.googleusercontent.com/a/ACg8ocLARG...</td>\n",
       "      <td>NaN</td>\n",
       "      <td>2.0</td>\n",
       "      <td>NaN</td>\n",
       "      <td>Un hospital con buenos profesionales que saben...</td>\n",
       "      <td>A hospital with good professionals who know ho...</td>\n",
       "      <td>NaN</td>\n",
       "      <td>NaN</td>\n",
       "      <td>NaN</td>\n",
       "    </tr>\n",
       "    <tr>\n",
       "      <th>4</th>\n",
       "      <td>4</td>\n",
       "      <td>https://www.google.com/maps/reviews/data=!4m8!...</td>\n",
       "      <td>5.0</td>\n",
       "      <td>4 days ago</td>\n",
       "      <td>Google</td>\n",
       "      <td>ChZDSUhNMG9nS0VJQ0FnSURkZzhHX0h3EAE</td>\n",
       "      <td>Muy buena experiencia</td>\n",
       "      <td>Aida Llivisupa Palacios</td>\n",
       "      <td>https://www.google.com/maps/contrib/1169124036...</td>\n",
       "      <td>116912403680736694850</td>\n",
       "      <td>https://lh3.googleusercontent.com/a/ACg8ocKcLD...</td>\n",
       "      <td>NaN</td>\n",
       "      <td>1.0</td>\n",
       "      <td>NaN</td>\n",
       "      <td>Muy buena experiencia</td>\n",
       "      <td>Very good experience</td>\n",
       "      <td>NaN</td>\n",
       "      <td>NaN</td>\n",
       "      <td>NaN</td>\n",
       "    </tr>\n",
       "  </tbody>\n",
       "</table>\n",
       "</div>"
      ],
      "text/plain": [
       "   Unnamed: 0                                               link  rating  \\\n",
       "0           0  https://www.google.com/maps/reviews/data=!4m8!...     5.0   \n",
       "1           1  https://www.google.com/maps/reviews/data=!4m8!...     5.0   \n",
       "2           2  https://www.google.com/maps/reviews/data=!4m8!...     5.0   \n",
       "3           3  https://www.google.com/maps/reviews/data=!4m8!...     5.0   \n",
       "4           4  https://www.google.com/maps/reviews/data=!4m8!...     5.0   \n",
       "\n",
       "         date  source                             review_id  \\\n",
       "0   a day ago  Google   ChZDSUhNMG9nS0VJQ0FnSUM5a0xTOUFnEAE   \n",
       "1   a day ago  Google   ChZDSUhNMG9nS0VJQ0FnSUM5OElqTlJ3EAE   \n",
       "2  3 days ago  Google  ChdDSUhNMG9nS0VJQ0FnSURkMjZpZXp3RRAB   \n",
       "3  4 days ago  Google  ChdDSUhNMG9nS0VJQ0FnSURkMnJmRDRBRRAB   \n",
       "4  4 days ago  Google   ChZDSUhNMG9nS0VJQ0FnSURkZzhHX0h3EAE   \n",
       "\n",
       "                                             snippet                user.name  \\\n",
       "0  Quiero hacer una mención especial a la Doctora...                Josema Mg   \n",
       "1  La verdad que estoy muy contento con el trato ...     FCOJAVIER RIOJOMAURI   \n",
       "2                                                NaN          Victor Iglesias   \n",
       "3  Un hospital con buenos profesionales que saben...             Felicia Ilie   \n",
       "4                              Muy buena experiencia  Aida Llivisupa Palacios   \n",
       "\n",
       "                                           user.link    user.contributor_id  \\\n",
       "0  https://www.google.com/maps/contrib/1130061685...  113006168514883839980   \n",
       "1  https://www.google.com/maps/contrib/1076541706...  107654170667540029929   \n",
       "2  https://www.google.com/maps/contrib/1066539875...  106653987537363960145   \n",
       "3  https://www.google.com/maps/contrib/1118933075...  111893307511613428052   \n",
       "4  https://www.google.com/maps/contrib/1169124036...  116912403680736694850   \n",
       "\n",
       "                                      user.thumbnail user.local_guide  \\\n",
       "0  https://lh3.googleusercontent.com/a-/ALV-UjWkS...             True   \n",
       "1  https://lh3.googleusercontent.com/a-/ALV-UjVYq...             True   \n",
       "2  https://lh3.googleusercontent.com/a-/ALV-UjWoR...             True   \n",
       "3  https://lh3.googleusercontent.com/a/ACg8ocLARG...              NaN   \n",
       "4  https://lh3.googleusercontent.com/a/ACg8ocKcLD...              NaN   \n",
       "\n",
       "   user.reviews  user.photos  \\\n",
       "0          41.0          1.0   \n",
       "1         128.0         22.0   \n",
       "2         666.0       8156.0   \n",
       "3           2.0          NaN   \n",
       "4           1.0          NaN   \n",
       "\n",
       "                          extracted_snippet.original  \\\n",
       "0  Quiero hacer una mención especial a la Doctora...   \n",
       "1  La verdad que estoy muy contento con el trato ...   \n",
       "2                                                NaN   \n",
       "3  Un hospital con buenos profesionales que saben...   \n",
       "4                              Muy buena experiencia   \n",
       "\n",
       "                        extracted_snippet.translated  likes images  \\\n",
       "0  I want to make a special mention of Dr. Cristi...    NaN    NaN   \n",
       "1  The truth is that I am very happy with the tre...    NaN    NaN   \n",
       "2                                                NaN    NaN    NaN   \n",
       "3  A hospital with good professionals who know ho...    NaN    NaN   \n",
       "4                               Very good experience    NaN    NaN   \n",
       "\n",
       "  details.actualización  \n",
       "0                   NaN  \n",
       "1                   NaN  \n",
       "2                   NaN  \n",
       "3                   NaN  \n",
       "4                   NaN  "
      ]
     },
     "execution_count": 82,
     "metadata": {},
     "output_type": "execute_result"
    }
   ],
   "source": [
    "df_infanta_leonor.head()"
   ]
  },
  {
   "cell_type": "code",
   "execution_count": 83,
   "id": "be85cc08",
   "metadata": {},
   "outputs": [
    {
     "name": "stdout",
     "output_type": "stream",
     "text": [
      "<class 'pandas.core.frame.DataFrame'>\n",
      "RangeIndex: 220 entries, 0 to 219\n",
      "Data columns (total 19 columns):\n",
      " #   Column                        Non-Null Count  Dtype  \n",
      "---  ------                        --------------  -----  \n",
      " 0   Unnamed: 0                    220 non-null    int64  \n",
      " 1   link                          220 non-null    object \n",
      " 2   rating                        220 non-null    float64\n",
      " 3   date                          220 non-null    object \n",
      " 4   source                        220 non-null    object \n",
      " 5   review_id                     220 non-null    object \n",
      " 6   snippet                       189 non-null    object \n",
      " 7   user.name                     220 non-null    object \n",
      " 8   user.link                     220 non-null    object \n",
      " 9   user.contributor_id           220 non-null    object \n",
      " 10  user.thumbnail                220 non-null    object \n",
      " 11  user.local_guide              81 non-null     object \n",
      " 12  user.reviews                  217 non-null    float64\n",
      " 13  user.photos                   117 non-null    float64\n",
      " 14  extracted_snippet.original    188 non-null    object \n",
      " 15  extracted_snippet.translated  188 non-null    object \n",
      " 16  likes                         145 non-null    float64\n",
      " 17  images                        12 non-null     object \n",
      " 18  details.actualización         1 non-null      object \n",
      "dtypes: float64(4), int64(1), object(14)\n",
      "memory usage: 32.8+ KB\n"
     ]
    }
   ],
   "source": [
    "df_infanta_leonor.info()"
   ]
  },
  {
   "cell_type": "code",
   "execution_count": 87,
   "id": "b56b90e7",
   "metadata": {},
   "outputs": [
    {
     "name": "stdout",
     "output_type": "stream",
     "text": [
      "Eliminadas las columnas innecesarias del DataFrame. Ahora cuenta con las siguientes columnas:  3\n"
     ]
    }
   ],
   "source": [
    "drop_cols = ['Unnamed: 0',\n",
    "                 'link',\n",
    "                'source',\n",
    "                'review_id',\n",
    "                'user.name',\n",
    "                'user.link',\n",
    "                'user.contributor_id',\n",
    "                'user.thumbnail',\n",
    "             'user.local_guide',\n",
    "                'user.reviews',\n",
    "             'user.photos',\n",
    "                'extracted_snippet.original',\n",
    "                'extracted_snippet.translated',\n",
    "                'likes',\n",
    "             'details.actualización',\n",
    "                #'details.hoy_25_7_23',\n",
    "                #'details.hoy_8_2_22',\n",
    "            'images']\n",
    "                #'details.no_me_deja_responderos_por_lo_que_edito_22_08_23_10']\n",
    "df_infanta_leonor = df_infanta_leonor.drop(columns=[columna for columna in drop_cols if columna in df_infanta_leonor.columns], errors='ignore')\n",
    "print(f'Eliminadas las columnas innecesarias del DataFrame. Ahora cuenta con las siguientes columnas: ', len(df_infanta_leonor.columns))"
   ]
  },
  {
   "cell_type": "code",
   "execution_count": 88,
   "id": "a4580d79",
   "metadata": {},
   "outputs": [
    {
     "name": "stdout",
     "output_type": "stream",
     "text": [
      "<class 'pandas.core.frame.DataFrame'>\n",
      "RangeIndex: 220 entries, 0 to 219\n",
      "Data columns (total 3 columns):\n",
      " #   Column   Non-Null Count  Dtype  \n",
      "---  ------   --------------  -----  \n",
      " 0   rating   220 non-null    float64\n",
      " 1   date     220 non-null    object \n",
      " 2   snippet  189 non-null    object \n",
      "dtypes: float64(1), object(2)\n",
      "memory usage: 5.3+ KB\n"
     ]
    }
   ],
   "source": [
    "df_infanta_leonor.info()"
   ]
  },
  {
   "cell_type": "code",
   "execution_count": 89,
   "id": "8c85de10",
   "metadata": {},
   "outputs": [
    {
     "data": {
      "text/plain": [
       "array(['a day ago', '3 days ago', '4 days ago', 'a week ago',\n",
       "       '2 weeks ago', '3 weeks ago', '4 weeks ago', 'a month ago',\n",
       "       '2 months ago', '3 months ago', '4 months ago', '5 months ago',\n",
       "       '6 months ago', '7 months ago', '8 months ago', '9 months ago',\n",
       "       '10 months ago', '11 months ago', 'a year ago'], dtype=object)"
      ]
     },
     "execution_count": 89,
     "metadata": {},
     "output_type": "execute_result"
    }
   ],
   "source": [
    "df_infanta_leonor['date'].unique()"
   ]
  },
  {
   "cell_type": "code",
   "execution_count": 90,
   "id": "195c083b",
   "metadata": {},
   "outputs": [],
   "source": [
    "fechas = {\n",
    "    #'15 hours ago': '2024-02-12',\n",
    "    'a day ago': '2024-02-01',\n",
    "    '3 days ago': '2024-02-01',\n",
    "    '4 days ago': '2024-02-01',\n",
    "    'a week ago': '2024-02-01',\n",
    "    '2 weeks ago': '2024-02-01',\n",
    "    '3 weeks ago': '2024-02-01',\n",
    "    '4 weeks ago': '2024-02-01',\n",
    "    'a month ago': '2024-01-01',\n",
    "    '2 months ago': '2023-12-01',\n",
    "    '3 months ago': '2023-11-01',\n",
    "    '4 months ago': '2023-10-01',\n",
    "    '5 months ago': '2023-09-01',\n",
    "    '6 months ago': '2023-08-01',\n",
    "    '7 months ago': '2023-07-01',\n",
    "    '8 months ago': '2023-06-01',\n",
    "    '9 months ago': '2023-05-01',\n",
    "    '10 months ago': '2023-04-01',\n",
    "    '11 months ago': '2023-03-01',\n",
    "    'a year ago': 'eliminar'\n",
    "}"
   ]
  },
  {
   "cell_type": "code",
   "execution_count": 91,
   "id": "74aeda28",
   "metadata": {},
   "outputs": [],
   "source": [
    "df_infanta_leonor['Fecha'] = df_infanta_leonor['date'].map(fechas).fillna(pd.to_datetime(df_infanta_leonor['date'], errors='coerce'))"
   ]
  },
  {
   "cell_type": "code",
   "execution_count": 92,
   "id": "6a00abf3",
   "metadata": {},
   "outputs": [
    {
     "name": "stdout",
     "output_type": "stream",
     "text": [
      "<class 'pandas.core.frame.DataFrame'>\n",
      "RangeIndex: 220 entries, 0 to 219\n",
      "Data columns (total 4 columns):\n",
      " #   Column   Non-Null Count  Dtype  \n",
      "---  ------   --------------  -----  \n",
      " 0   rating   220 non-null    float64\n",
      " 1   date     220 non-null    object \n",
      " 2   snippet  189 non-null    object \n",
      " 3   Fecha    220 non-null    object \n",
      "dtypes: float64(1), object(3)\n",
      "memory usage: 7.0+ KB\n"
     ]
    }
   ],
   "source": [
    "df_infanta_leonor.info()"
   ]
  },
  {
   "cell_type": "code",
   "execution_count": 93,
   "id": "271d6a05",
   "metadata": {},
   "outputs": [],
   "source": [
    "df_infanta_leonor = df_infanta_leonor[df_infanta_leonor['Fecha'] != 'eliminar']"
   ]
  },
  {
   "cell_type": "code",
   "execution_count": 94,
   "id": "8b074bd4",
   "metadata": {},
   "outputs": [
    {
     "name": "stdout",
     "output_type": "stream",
     "text": [
      "<class 'pandas.core.frame.DataFrame'>\n",
      "Int64Index: 210 entries, 0 to 209\n",
      "Data columns (total 4 columns):\n",
      " #   Column   Non-Null Count  Dtype  \n",
      "---  ------   --------------  -----  \n",
      " 0   rating   210 non-null    float64\n",
      " 1   date     210 non-null    object \n",
      " 2   snippet  180 non-null    object \n",
      " 3   Fecha    210 non-null    object \n",
      "dtypes: float64(1), object(3)\n",
      "memory usage: 8.2+ KB\n"
     ]
    }
   ],
   "source": [
    "df_infanta_leonor.info()"
   ]
  },
  {
   "cell_type": "code",
   "execution_count": 95,
   "id": "bced0c81",
   "metadata": {},
   "outputs": [
    {
     "name": "stderr",
     "output_type": "stream",
     "text": [
      "C:\\Users\\tete1\\AppData\\Local\\Temp\\ipykernel_16512\\820549346.py:1: SettingWithCopyWarning: \n",
      "A value is trying to be set on a copy of a slice from a DataFrame\n",
      "\n",
      "See the caveats in the documentation: https://pandas.pydata.org/pandas-docs/stable/user_guide/indexing.html#returning-a-view-versus-a-copy\n",
      "  df_infanta_leonor.drop('date', axis=1, inplace=True)\n"
     ]
    }
   ],
   "source": [
    "df_infanta_leonor.drop('date', axis=1, inplace=True)"
   ]
  },
  {
   "cell_type": "code",
   "execution_count": 96,
   "id": "6627c15d",
   "metadata": {},
   "outputs": [
    {
     "name": "stderr",
     "output_type": "stream",
     "text": [
      "C:\\Users\\tete1\\AppData\\Local\\Temp\\ipykernel_16512\\658334240.py:1: SettingWithCopyWarning: \n",
      "A value is trying to be set on a copy of a slice from a DataFrame.\n",
      "Try using .loc[row_indexer,col_indexer] = value instead\n",
      "\n",
      "See the caveats in the documentation: https://pandas.pydata.org/pandas-docs/stable/user_guide/indexing.html#returning-a-view-versus-a-copy\n",
      "  df_infanta_leonor['rating'] = df_infanta_leonor['rating'].astype('int64')\n"
     ]
    }
   ],
   "source": [
    "df_infanta_leonor['rating'] = df_infanta_leonor['rating'].astype('int64')"
   ]
  },
  {
   "cell_type": "code",
   "execution_count": 97,
   "id": "e173aaa9",
   "metadata": {},
   "outputs": [
    {
     "name": "stderr",
     "output_type": "stream",
     "text": [
      "C:\\Users\\tete1\\AppData\\Local\\Temp\\ipykernel_16512\\695714003.py:1: SettingWithCopyWarning: \n",
      "A value is trying to be set on a copy of a slice from a DataFrame.\n",
      "Try using .loc[row_indexer,col_indexer] = value instead\n",
      "\n",
      "See the caveats in the documentation: https://pandas.pydata.org/pandas-docs/stable/user_guide/indexing.html#returning-a-view-versus-a-copy\n",
      "  df_infanta_leonor['Fecha'] = pd.to_datetime(df_infanta_leonor['Fecha'])\n"
     ]
    }
   ],
   "source": [
    "df_infanta_leonor['Fecha'] = pd.to_datetime(df_infanta_leonor['Fecha'])"
   ]
  },
  {
   "cell_type": "code",
   "execution_count": 98,
   "id": "846d0d22",
   "metadata": {},
   "outputs": [
    {
     "name": "stdout",
     "output_type": "stream",
     "text": [
      "<class 'pandas.core.frame.DataFrame'>\n",
      "Int64Index: 210 entries, 0 to 209\n",
      "Data columns (total 3 columns):\n",
      " #   Column   Non-Null Count  Dtype         \n",
      "---  ------   --------------  -----         \n",
      " 0   rating   210 non-null    int64         \n",
      " 1   snippet  180 non-null    object        \n",
      " 2   Fecha    210 non-null    datetime64[ns]\n",
      "dtypes: datetime64[ns](1), int64(1), object(1)\n",
      "memory usage: 6.6+ KB\n"
     ]
    }
   ],
   "source": [
    "df_infanta_leonor.info()"
   ]
  },
  {
   "cell_type": "code",
   "execution_count": 99,
   "id": "98073075",
   "metadata": {},
   "outputs": [],
   "source": [
    "df_infanta_leonor = df_infanta_leonor.assign(Ciudad='Madrid', Dirección='Avenida Gran Vía del Este, 80', Establecimiento='Hospital Universitario Infanta Leonor', CP=28031)"
   ]
  },
  {
   "cell_type": "code",
   "execution_count": 100,
   "id": "44a418c8",
   "metadata": {},
   "outputs": [
    {
     "name": "stdout",
     "output_type": "stream",
     "text": [
      "<class 'pandas.core.frame.DataFrame'>\n",
      "Int64Index: 210 entries, 0 to 209\n",
      "Data columns (total 7 columns):\n",
      " #   Column           Non-Null Count  Dtype         \n",
      "---  ------           --------------  -----         \n",
      " 0   rating           210 non-null    int64         \n",
      " 1   snippet          180 non-null    object        \n",
      " 2   Fecha            210 non-null    datetime64[ns]\n",
      " 3   Ciudad           210 non-null    object        \n",
      " 4   Dirección        210 non-null    object        \n",
      " 5   Establecimiento  210 non-null    object        \n",
      " 6   CP               210 non-null    int64         \n",
      "dtypes: datetime64[ns](1), int64(2), object(4)\n",
      "memory usage: 13.1+ KB\n"
     ]
    }
   ],
   "source": [
    "df_infanta_leonor.info()"
   ]
  },
  {
   "cell_type": "markdown",
   "id": "1dc9a5eb",
   "metadata": {},
   "source": [
    "# Paso final: un único Excel con todos"
   ]
  },
  {
   "cell_type": "code",
   "execution_count": 101,
   "id": "8d0c323c",
   "metadata": {},
   "outputs": [
    {
     "name": "stdout",
     "output_type": "stream",
     "text": [
      "<class 'pandas.core.frame.DataFrame'>\n",
      "Int64Index: 114 entries, 0 to 113\n",
      "Data columns (total 7 columns):\n",
      " #   Column           Non-Null Count  Dtype         \n",
      "---  ------           --------------  -----         \n",
      " 0   rating           114 non-null    int64         \n",
      " 1   snippet          105 non-null    object        \n",
      " 2   Fecha            114 non-null    datetime64[ns]\n",
      " 3   Ciudad           114 non-null    object        \n",
      " 4   Dirección        114 non-null    object        \n",
      " 5   Establecimiento  114 non-null    object        \n",
      " 6   CP               114 non-null    int64         \n",
      "dtypes: datetime64[ns](1), int64(2), object(4)\n",
      "memory usage: 7.1+ KB\n"
     ]
    }
   ],
   "source": [
    "df_zarzuela.info()"
   ]
  },
  {
   "cell_type": "code",
   "execution_count": 102,
   "id": "35cfdfa1",
   "metadata": {},
   "outputs": [
    {
     "name": "stdout",
     "output_type": "stream",
     "text": [
      "<class 'pandas.core.frame.DataFrame'>\n",
      "Int64Index: 267 entries, 0 to 266\n",
      "Data columns (total 7 columns):\n",
      " #   Column           Non-Null Count  Dtype         \n",
      "---  ------           --------------  -----         \n",
      " 0   rating           267 non-null    int64         \n",
      " 1   snippet          232 non-null    object        \n",
      " 2   Fecha            267 non-null    datetime64[ns]\n",
      " 3   Ciudad           267 non-null    object        \n",
      " 4   Dirección        267 non-null    object        \n",
      " 5   Establecimiento  267 non-null    object        \n",
      " 6   CP               267 non-null    int64         \n",
      "dtypes: datetime64[ns](1), int64(2), object(4)\n",
      "memory usage: 16.7+ KB\n"
     ]
    }
   ],
   "source": [
    "df_infanta_sofia.info()"
   ]
  },
  {
   "cell_type": "code",
   "execution_count": 103,
   "id": "b067d2b1",
   "metadata": {},
   "outputs": [
    {
     "name": "stdout",
     "output_type": "stream",
     "text": [
      "<class 'pandas.core.frame.DataFrame'>\n",
      "Int64Index: 201 entries, 0 to 200\n",
      "Data columns (total 7 columns):\n",
      " #   Column           Non-Null Count  Dtype         \n",
      "---  ------           --------------  -----         \n",
      " 0   rating           201 non-null    int64         \n",
      " 1   snippet          155 non-null    object        \n",
      " 2   Fecha            201 non-null    datetime64[ns]\n",
      " 3   Ciudad           201 non-null    object        \n",
      " 4   Dirección        201 non-null    object        \n",
      " 5   Establecimiento  201 non-null    object        \n",
      " 6   CP               201 non-null    int64         \n",
      "dtypes: datetime64[ns](1), int64(2), object(4)\n",
      "memory usage: 12.6+ KB\n"
     ]
    }
   ],
   "source": [
    "df_fund_alcorcon.info()"
   ]
  },
  {
   "cell_type": "code",
   "execution_count": 104,
   "id": "4b954e6a",
   "metadata": {},
   "outputs": [],
   "source": [
    "df_full_hospitals = pd.concat([df_zarzuela,\n",
    "                              df_infanta_sofia,\n",
    "                              df_fund_alcorcon,\n",
    "                              df_infanta_leonor], sort=False, ignore_index=True)"
   ]
  },
  {
   "cell_type": "code",
   "execution_count": 105,
   "id": "ed020223",
   "metadata": {},
   "outputs": [
    {
     "data": {
      "text/html": [
       "<div>\n",
       "<style scoped>\n",
       "    .dataframe tbody tr th:only-of-type {\n",
       "        vertical-align: middle;\n",
       "    }\n",
       "\n",
       "    .dataframe tbody tr th {\n",
       "        vertical-align: top;\n",
       "    }\n",
       "\n",
       "    .dataframe thead th {\n",
       "        text-align: right;\n",
       "    }\n",
       "</style>\n",
       "<table border=\"1\" class=\"dataframe\">\n",
       "  <thead>\n",
       "    <tr style=\"text-align: right;\">\n",
       "      <th></th>\n",
       "      <th>rating</th>\n",
       "      <th>snippet</th>\n",
       "      <th>Fecha</th>\n",
       "      <th>Ciudad</th>\n",
       "      <th>Dirección</th>\n",
       "      <th>Establecimiento</th>\n",
       "      <th>CP</th>\n",
       "    </tr>\n",
       "  </thead>\n",
       "  <tbody>\n",
       "    <tr>\n",
       "      <th>0</th>\n",
       "      <td>1</td>\n",
       "      <td>Fui a urgencias el jueves 22/02 trasladada en ...</td>\n",
       "      <td>2024-02-01</td>\n",
       "      <td>Madrid</td>\n",
       "      <td>Calle de Pleyades, 25</td>\n",
       "      <td>Hospital Universitario La Zarzuela</td>\n",
       "      <td>28023</td>\n",
       "    </tr>\n",
       "    <tr>\n",
       "      <th>1</th>\n",
       "      <td>1</td>\n",
       "      <td>Mi experiencia fue nefasta acudí 2 años atrás ...</td>\n",
       "      <td>2024-02-01</td>\n",
       "      <td>Madrid</td>\n",
       "      <td>Calle de Pleyades, 25</td>\n",
       "      <td>Hospital Universitario La Zarzuela</td>\n",
       "      <td>28023</td>\n",
       "    </tr>\n",
       "    <tr>\n",
       "      <th>2</th>\n",
       "      <td>5</td>\n",
       "      <td>He estado 10 días ingresado por una buena neum...</td>\n",
       "      <td>2024-02-01</td>\n",
       "      <td>Madrid</td>\n",
       "      <td>Calle de Pleyades, 25</td>\n",
       "      <td>Hospital Universitario La Zarzuela</td>\n",
       "      <td>28023</td>\n",
       "    </tr>\n",
       "    <tr>\n",
       "      <th>3</th>\n",
       "      <td>5</td>\n",
       "      <td>Estuvimos ayer en urgencias a las 20:00, el tr...</td>\n",
       "      <td>2024-02-01</td>\n",
       "      <td>Madrid</td>\n",
       "      <td>Calle de Pleyades, 25</td>\n",
       "      <td>Hospital Universitario La Zarzuela</td>\n",
       "      <td>28023</td>\n",
       "    </tr>\n",
       "    <tr>\n",
       "      <th>4</th>\n",
       "      <td>5</td>\n",
       "      <td>Como siempre hay de todo, puedes tener más sue...</td>\n",
       "      <td>2024-02-01</td>\n",
       "      <td>Madrid</td>\n",
       "      <td>Calle de Pleyades, 25</td>\n",
       "      <td>Hospital Universitario La Zarzuela</td>\n",
       "      <td>28023</td>\n",
       "    </tr>\n",
       "    <tr>\n",
       "      <th>...</th>\n",
       "      <td>...</td>\n",
       "      <td>...</td>\n",
       "      <td>...</td>\n",
       "      <td>...</td>\n",
       "      <td>...</td>\n",
       "      <td>...</td>\n",
       "      <td>...</td>\n",
       "    </tr>\n",
       "    <tr>\n",
       "      <th>787</th>\n",
       "      <td>5</td>\n",
       "      <td>NaN</td>\n",
       "      <td>2023-03-01</td>\n",
       "      <td>Madrid</td>\n",
       "      <td>Avenida Gran Vía del Este, 80</td>\n",
       "      <td>Hospital Universitario Infanta Leonor</td>\n",
       "      <td>28031</td>\n",
       "    </tr>\n",
       "    <tr>\n",
       "      <th>788</th>\n",
       "      <td>5</td>\n",
       "      <td>Mi nombre es Teresa Alonso Fuentes.\\nMe operar...</td>\n",
       "      <td>2023-03-01</td>\n",
       "      <td>Madrid</td>\n",
       "      <td>Avenida Gran Vía del Este, 80</td>\n",
       "      <td>Hospital Universitario Infanta Leonor</td>\n",
       "      <td>28031</td>\n",
       "    </tr>\n",
       "    <tr>\n",
       "      <th>789</th>\n",
       "      <td>1</td>\n",
       "      <td>Es una vergüenza de hospital, te contestan mal...</td>\n",
       "      <td>2023-03-01</td>\n",
       "      <td>Madrid</td>\n",
       "      <td>Avenida Gran Vía del Este, 80</td>\n",
       "      <td>Hospital Universitario Infanta Leonor</td>\n",
       "      <td>28031</td>\n",
       "    </tr>\n",
       "    <tr>\n",
       "      <th>790</th>\n",
       "      <td>1</td>\n",
       "      <td>Ayer pase por Urgencias ya que era domingo y n...</td>\n",
       "      <td>2023-03-01</td>\n",
       "      <td>Madrid</td>\n",
       "      <td>Avenida Gran Vía del Este, 80</td>\n",
       "      <td>Hospital Universitario Infanta Leonor</td>\n",
       "      <td>28031</td>\n",
       "    </tr>\n",
       "    <tr>\n",
       "      <th>791</th>\n",
       "      <td>2</td>\n",
       "      <td>Esto es vergonzoso. Dos dias en una présala co...</td>\n",
       "      <td>2023-03-01</td>\n",
       "      <td>Madrid</td>\n",
       "      <td>Avenida Gran Vía del Este, 80</td>\n",
       "      <td>Hospital Universitario Infanta Leonor</td>\n",
       "      <td>28031</td>\n",
       "    </tr>\n",
       "  </tbody>\n",
       "</table>\n",
       "<p>792 rows × 7 columns</p>\n",
       "</div>"
      ],
      "text/plain": [
       "     rating                                            snippet      Fecha  \\\n",
       "0         1  Fui a urgencias el jueves 22/02 trasladada en ... 2024-02-01   \n",
       "1         1  Mi experiencia fue nefasta acudí 2 años atrás ... 2024-02-01   \n",
       "2         5  He estado 10 días ingresado por una buena neum... 2024-02-01   \n",
       "3         5  Estuvimos ayer en urgencias a las 20:00, el tr... 2024-02-01   \n",
       "4         5  Como siempre hay de todo, puedes tener más sue... 2024-02-01   \n",
       "..      ...                                                ...        ...   \n",
       "787       5                                                NaN 2023-03-01   \n",
       "788       5  Mi nombre es Teresa Alonso Fuentes.\\nMe operar... 2023-03-01   \n",
       "789       1  Es una vergüenza de hospital, te contestan mal... 2023-03-01   \n",
       "790       1  Ayer pase por Urgencias ya que era domingo y n... 2023-03-01   \n",
       "791       2  Esto es vergonzoso. Dos dias en una présala co... 2023-03-01   \n",
       "\n",
       "     Ciudad                      Dirección  \\\n",
       "0    Madrid          Calle de Pleyades, 25   \n",
       "1    Madrid          Calle de Pleyades, 25   \n",
       "2    Madrid          Calle de Pleyades, 25   \n",
       "3    Madrid          Calle de Pleyades, 25   \n",
       "4    Madrid          Calle de Pleyades, 25   \n",
       "..      ...                            ...   \n",
       "787  Madrid  Avenida Gran Vía del Este, 80   \n",
       "788  Madrid  Avenida Gran Vía del Este, 80   \n",
       "789  Madrid  Avenida Gran Vía del Este, 80   \n",
       "790  Madrid  Avenida Gran Vía del Este, 80   \n",
       "791  Madrid  Avenida Gran Vía del Este, 80   \n",
       "\n",
       "                           Establecimiento     CP  \n",
       "0       Hospital Universitario La Zarzuela  28023  \n",
       "1       Hospital Universitario La Zarzuela  28023  \n",
       "2       Hospital Universitario La Zarzuela  28023  \n",
       "3       Hospital Universitario La Zarzuela  28023  \n",
       "4       Hospital Universitario La Zarzuela  28023  \n",
       "..                                     ...    ...  \n",
       "787  Hospital Universitario Infanta Leonor  28031  \n",
       "788  Hospital Universitario Infanta Leonor  28031  \n",
       "789  Hospital Universitario Infanta Leonor  28031  \n",
       "790  Hospital Universitario Infanta Leonor  28031  \n",
       "791  Hospital Universitario Infanta Leonor  28031  \n",
       "\n",
       "[792 rows x 7 columns]"
      ]
     },
     "execution_count": 105,
     "metadata": {},
     "output_type": "execute_result"
    }
   ],
   "source": [
    "df_full_hospitals"
   ]
  },
  {
   "cell_type": "code",
   "execution_count": 106,
   "id": "d708cf24",
   "metadata": {},
   "outputs": [
    {
     "data": {
      "text/plain": [
       "792"
      ]
     },
     "execution_count": 106,
     "metadata": {},
     "output_type": "execute_result"
    }
   ],
   "source": [
    "len(df_zarzuela)+len(df_infanta_sofia)+len(df_fund_alcorcon)+len(df_infanta_leonor)"
   ]
  },
  {
   "cell_type": "code",
   "execution_count": 107,
   "id": "8306bbab",
   "metadata": {},
   "outputs": [
    {
     "data": {
      "text/plain": [
       "792"
      ]
     },
     "execution_count": 107,
     "metadata": {},
     "output_type": "execute_result"
    }
   ],
   "source": [
    "len(df_full_hospitals)"
   ]
  },
  {
   "cell_type": "code",
   "execution_count": 108,
   "id": "9986bf73",
   "metadata": {},
   "outputs": [],
   "source": [
    "df_full_hospitals.to_excel('../reviews/hosp_intermedia.xlsx')"
   ]
  },
  {
   "cell_type": "code",
   "execution_count": null,
   "id": "fa4eafdd",
   "metadata": {},
   "outputs": [],
   "source": []
  }
 ],
 "metadata": {
  "kernelspec": {
   "display_name": "Python m2_env",
   "language": "python",
   "name": "m2_env"
  },
  "language_info": {
   "codemirror_mode": {
    "name": "ipython",
    "version": 3
   },
   "file_extension": ".py",
   "mimetype": "text/x-python",
   "name": "python",
   "nbconvert_exporter": "python",
   "pygments_lexer": "ipython3",
   "version": "3.8.18"
  }
 },
 "nbformat": 4,
 "nbformat_minor": 5
}
