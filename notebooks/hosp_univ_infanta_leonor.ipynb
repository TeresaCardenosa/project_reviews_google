{
 "cells": [
  {
   "cell_type": "code",
   "execution_count": 1,
   "id": "9de8c0a3",
   "metadata": {},
   "outputs": [],
   "source": [
    "import pandas as pd\n",
    "import matplotlib.pyplot as plt"
   ]
  },
  {
   "cell_type": "code",
   "execution_count": null,
   "id": "bdd0958f",
   "metadata": {},
   "outputs": [],
   "source": [
    "api_call_1 = pd.read_csv('../infanta_leonor/infanta_leonor_1.csv')\n",
    "api_call_2 = pd.read_csv('../infanta_leonor/infanta_leonor_2.csv')\n",
    "api_call_3 = pd.read_csv('../infanta_leonor/infanta_leonor_3.csv')\n",
    "api_call_4 = pd.read_csv('../infanta_leonor/infanta_leonor_4.csv')\n",
    "api_call_5 = pd.read_csv('../infanta_leonor/infanta_leonor_5.csv')\n",
    "api_call_6 = pd.read_csv('../infanta_leonor/infanta_leonor_6.csv')\n",
    "api_call_7 = pd.read_csv('../infanta_leonor/infanta_leonor_7.csv')\n",
    "api_call_8 = pd.read_csv('../infanta_leonor/infanta_leonor_8.csv')\n",
    "api_call_9 = pd.read_csv('../infanta_leonor/infanta_leonor_9.csv')\n",
    "api_call_10 = pd.read_csv('../infanta_leonor/infanta_leonor_10.csv')\n",
    "api_call_11 = pd.read_csv('../infanta_leonor/infanta_leonor_11.csv')\n",
    "api_call_12 = pd.read_csv('../infanta_leonor/infanta_leonor_12.csv')\n",
    "api_call_13 = pd.read_csv('../infanta_leonor/infanta_leonor_13.csv')\n",
    "api_call_14 = pd.read_csv('../infanta_leonor/infanta_leonor_14.csv')\n",
    "api_call_15 = pd.read_csv('../infanta_leonor/infanta_leonor_15.csv')\n",
    "api_call_16 = pd.read_csv('../infanta_leonor/infanta_leonor_16.csv')\n",
    "api_call_17 = pd.read_csv('../infanta_leonor/infanta_leonor_17.csv')\n",
    "api_call_18 = pd.read_csv('../infanta_leonor/infanta_leonor_18.csv')\n",
    "api_call_19 = pd.read_csv('../infanta_leonor/infanta_leonor_19.csv')\n",
    "api_call_20 = pd.read_csv('../infanta_leonor/infanta_leonor_20.csv')\n",
    "api_call_21 = pd.read_csv('../infanta_leonor/infanta_leonor_21.csv')\n",
    "api_call_22 = pd.read_csv('../infanta_leonor/infanta_leonor_22.csv')"
   ]
  }
 ],
 "metadata": {
  "kernelspec": {
   "display_name": "Python m2_env",
   "language": "python",
   "name": "m2_env"
  },
  "language_info": {
   "codemirror_mode": {
    "name": "ipython",
    "version": 3
   },
   "file_extension": ".py",
   "mimetype": "text/x-python",
   "name": "python",
   "nbconvert_exporter": "python",
   "pygments_lexer": "ipython3",
   "version": "3.8.18"
  }
 },
 "nbformat": 4,
 "nbformat_minor": 5
}
